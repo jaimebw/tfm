{
 "cells": [
  {
   "cell_type": "code",
   "execution_count": 13,
   "id": "3296c543-0fa1-427b-ab1a-e2eaba12ced2",
   "metadata": {},
   "outputs": [],
   "source": [
    "import pandas as pd\n",
    "import numpy as np\n",
    "import matplotlib.pyplot as plt\n",
    "from pathlib import Path\n",
    "import re\n",
    "input_path = Path(\"../data/feature_data\")"
   ]
  },
  {
   "cell_type": "markdown",
   "id": "744d49ff-0c8c-4401-b264-65de1b5a0dc5",
   "metadata": {},
   "source": [
    "## Loading the paths to the different features"
   ]
  },
  {
   "cell_type": "code",
   "execution_count": 18,
   "id": "76756f9c-221c-4fc5-91b4-8faae41be97d",
   "metadata": {},
   "outputs": [],
   "source": [
    "features_paths = []\n",
    "for i in input_path.glob(\"*\"):\n",
    "    if i.is_dir():\n",
    "        for j in i.glob(\"*\"):\n",
    "            features_paths.append(j)\n",
    "data1 = []\n",
    "data2 = []\n",
    "data3 = []\n",
    "for data in features_paths:\n",
    "    if \"1\" in re.findall(r\"\\d+\",str(data)):\n",
    "        data1.append(data)\n",
    "    elif \"2\" in re.findall(r\"\\d+\",str(data)):\n",
    "        data2.append(data)\n",
    "    else:\n",
    "        data3.append(data)\n",
    "data1.sort()\n",
    "data2.sort()\n",
    "data3.sort()"
   ]
  },
  {
   "cell_type": "markdown",
   "id": "1ae235e5-31ef-4200-89f6-0c19ae3c8167",
   "metadata": {},
   "source": [
    "## Adding labels to the features dataset\n",
    "The next parts of this boos will add the labels to the "
   ]
  },
  {
   "cell_type": "code",
   "execution_count": 26,
   "id": "8d4d3610-0cc6-4013-a65c-fcbc55de415b",
   "metadata": {},
   "outputs": [
    {
     "data": {
      "text/html": [
       "<div>\n",
       "<style scoped>\n",
       "    .dataframe tbody tr th:only-of-type {\n",
       "        vertical-align: middle;\n",
       "    }\n",
       "\n",
       "    .dataframe tbody tr th {\n",
       "        vertical-align: top;\n",
       "    }\n",
       "\n",
       "    .dataframe thead th {\n",
       "        text-align: right;\n",
       "    }\n",
       "</style>\n",
       "<table border=\"1\" class=\"dataframe\">\n",
       "  <thead>\n",
       "    <tr style=\"text-align: right;\">\n",
       "      <th></th>\n",
       "      <th>data_set_n</th>\n",
       "      <th>thresh</th>\n",
       "      <th>first_detection</th>\n",
       "    </tr>\n",
       "    <tr>\n",
       "      <th>name</th>\n",
       "      <th></th>\n",
       "      <th></th>\n",
       "      <th></th>\n",
       "    </tr>\n",
       "  </thead>\n",
       "  <tbody>\n",
       "    <tr>\n",
       "      <th>skew_3</th>\n",
       "      <td>3</td>\n",
       "      <td>2.480004</td>\n",
       "      <td>2004-04-14 00:41:57</td>\n",
       "    </tr>\n",
       "    <tr>\n",
       "      <th>skew_2</th>\n",
       "      <td>2</td>\n",
       "      <td>2.523988</td>\n",
       "      <td>2004-02-14 05:32:39</td>\n",
       "    </tr>\n",
       "    <tr>\n",
       "      <th>skew_1</th>\n",
       "      <td>1</td>\n",
       "      <td>2.505110</td>\n",
       "      <td>2003-11-20 12:19:03</td>\n",
       "    </tr>\n",
       "    <tr>\n",
       "      <th>sfactor_1</th>\n",
       "      <td>1</td>\n",
       "      <td>2.564991</td>\n",
       "      <td>2003-11-20 15:44:03</td>\n",
       "    </tr>\n",
       "    <tr>\n",
       "      <th>sfactor_3</th>\n",
       "      <td>3</td>\n",
       "      <td>2.498915</td>\n",
       "      <td>2004-04-14 12:41:57</td>\n",
       "    </tr>\n",
       "    <tr>\n",
       "      <th>sfactor_2</th>\n",
       "      <td>2</td>\n",
       "      <td>2.464572</td>\n",
       "      <td>2004-02-14 00:22:39</td>\n",
       "    </tr>\n",
       "    <tr>\n",
       "      <th>kurt_3</th>\n",
       "      <td>3</td>\n",
       "      <td>2.405907</td>\n",
       "      <td>2004-04-14 07:31:57</td>\n",
       "    </tr>\n",
       "    <tr>\n",
       "      <th>kurt_2</th>\n",
       "      <td>2</td>\n",
       "      <td>2.481916</td>\n",
       "      <td>2004-02-14 00:22:39</td>\n",
       "    </tr>\n",
       "    <tr>\n",
       "      <th>kurt_1</th>\n",
       "      <td>1</td>\n",
       "      <td>2.587915</td>\n",
       "      <td>2003-11-21 00:14:03</td>\n",
       "    </tr>\n",
       "    <tr>\n",
       "      <th>mean_abs_2</th>\n",
       "      <td>2</td>\n",
       "      <td>2.513694</td>\n",
       "      <td>2004-02-14 02:32:39</td>\n",
       "    </tr>\n",
       "    <tr>\n",
       "      <th>mean_abs_3</th>\n",
       "      <td>3</td>\n",
       "      <td>2.516569</td>\n",
       "      <td>2004-04-15 13:32:55</td>\n",
       "    </tr>\n",
       "    <tr>\n",
       "      <th>mean_abs_1</th>\n",
       "      <td>1</td>\n",
       "      <td>2.523858</td>\n",
       "      <td>2003-11-20 11:19:03</td>\n",
       "    </tr>\n",
       "    <tr>\n",
       "      <th>rolling_avg_20_3</th>\n",
       "      <td>3</td>\n",
       "      <td>2.385908</td>\n",
       "      <td>2004-04-15 17:52:55</td>\n",
       "    </tr>\n",
       "    <tr>\n",
       "      <th>rolling_avg_20_2</th>\n",
       "      <td>2</td>\n",
       "      <td>2.521113</td>\n",
       "      <td>2004-02-16 22:12:39</td>\n",
       "    </tr>\n",
       "    <tr>\n",
       "      <th>rolling_avg_20_1</th>\n",
       "      <td>1</td>\n",
       "      <td>2.510347</td>\n",
       "      <td>2003-11-20 10:50:35</td>\n",
       "    </tr>\n",
       "    <tr>\n",
       "      <th>rolling_avg_50_3</th>\n",
       "      <td>3</td>\n",
       "      <td>2.385077</td>\n",
       "      <td>2004-04-15 18:22:55</td>\n",
       "    </tr>\n",
       "    <tr>\n",
       "      <th>rolling_avg_50_2</th>\n",
       "      <td>2</td>\n",
       "      <td>2.570301</td>\n",
       "      <td>2004-02-16 21:52:39</td>\n",
       "    </tr>\n",
       "    <tr>\n",
       "      <th>rolling_avg_50_1</th>\n",
       "      <td>1</td>\n",
       "      <td>2.459092</td>\n",
       "      <td>2003-11-20 10:50:35</td>\n",
       "    </tr>\n",
       "    <tr>\n",
       "      <th>rolling_avg_30_1</th>\n",
       "      <td>1</td>\n",
       "      <td>2.475171</td>\n",
       "      <td>2003-11-20 10:50:35</td>\n",
       "    </tr>\n",
       "    <tr>\n",
       "      <th>rolling_avg_30_2</th>\n",
       "      <td>2</td>\n",
       "      <td>2.546791</td>\n",
       "      <td>2004-02-16 22:12:39</td>\n",
       "    </tr>\n",
       "    <tr>\n",
       "      <th>rolling_avg_30_3</th>\n",
       "      <td>3</td>\n",
       "      <td>2.367759</td>\n",
       "      <td>2004-04-15 17:22:55</td>\n",
       "    </tr>\n",
       "    <tr>\n",
       "      <th>rolling_avg_10_2</th>\n",
       "      <td>2</td>\n",
       "      <td>2.523636</td>\n",
       "      <td>2004-02-14 03:22:39</td>\n",
       "    </tr>\n",
       "    <tr>\n",
       "      <th>rolling_avg_10_3</th>\n",
       "      <td>3</td>\n",
       "      <td>2.440634</td>\n",
       "      <td>2004-04-15 18:02:55</td>\n",
       "    </tr>\n",
       "    <tr>\n",
       "      <th>rolling_avg_10_1</th>\n",
       "      <td>1</td>\n",
       "      <td>2.529195</td>\n",
       "      <td>2003-11-20 10:50:35</td>\n",
       "    </tr>\n",
       "    <tr>\n",
       "      <th>rms_1</th>\n",
       "      <td>1</td>\n",
       "      <td>2.546660</td>\n",
       "      <td>2003-11-20 11:19:03</td>\n",
       "    </tr>\n",
       "    <tr>\n",
       "      <th>rms_2</th>\n",
       "      <td>2</td>\n",
       "      <td>2.507719</td>\n",
       "      <td>2004-02-14 02:32:39</td>\n",
       "    </tr>\n",
       "    <tr>\n",
       "      <th>rms_3</th>\n",
       "      <td>3</td>\n",
       "      <td>2.520093</td>\n",
       "      <td>2004-04-15 13:32:55</td>\n",
       "    </tr>\n",
       "  </tbody>\n",
       "</table>\n",
       "</div>"
      ],
      "text/plain": [
       "                  data_set_n    thresh     first_detection\n",
       "name                                                      \n",
       "skew_3                     3  2.480004 2004-04-14 00:41:57\n",
       "skew_2                     2  2.523988 2004-02-14 05:32:39\n",
       "skew_1                     1  2.505110 2003-11-20 12:19:03\n",
       "sfactor_1                  1  2.564991 2003-11-20 15:44:03\n",
       "sfactor_3                  3  2.498915 2004-04-14 12:41:57\n",
       "sfactor_2                  2  2.464572 2004-02-14 00:22:39\n",
       "kurt_3                     3  2.405907 2004-04-14 07:31:57\n",
       "kurt_2                     2  2.481916 2004-02-14 00:22:39\n",
       "kurt_1                     1  2.587915 2003-11-21 00:14:03\n",
       "mean_abs_2                 2  2.513694 2004-02-14 02:32:39\n",
       "mean_abs_3                 3  2.516569 2004-04-15 13:32:55\n",
       "mean_abs_1                 1  2.523858 2003-11-20 11:19:03\n",
       "rolling_avg_20_3           3  2.385908 2004-04-15 17:52:55\n",
       "rolling_avg_20_2           2  2.521113 2004-02-16 22:12:39\n",
       "rolling_avg_20_1           1  2.510347 2003-11-20 10:50:35\n",
       "rolling_avg_50_3           3  2.385077 2004-04-15 18:22:55\n",
       "rolling_avg_50_2           2  2.570301 2004-02-16 21:52:39\n",
       "rolling_avg_50_1           1  2.459092 2003-11-20 10:50:35\n",
       "rolling_avg_30_1           1  2.475171 2003-11-20 10:50:35\n",
       "rolling_avg_30_2           2  2.546791 2004-02-16 22:12:39\n",
       "rolling_avg_30_3           3  2.367759 2004-04-15 17:22:55\n",
       "rolling_avg_10_2           2  2.523636 2004-02-14 03:22:39\n",
       "rolling_avg_10_3           3  2.440634 2004-04-15 18:02:55\n",
       "rolling_avg_10_1           1  2.529195 2003-11-20 10:50:35\n",
       "rms_1                      1  2.546660 2003-11-20 11:19:03\n",
       "rms_2                      2  2.507719 2004-02-14 02:32:39\n",
       "rms_3                      3  2.520093 2004-04-15 13:32:55"
      ]
     },
     "execution_count": 26,
     "metadata": {},
     "output_type": "execute_result"
    }
   ],
   "source": [
    "label_path = Path(\"../data/pca_results/results_pca.csv\")\n",
    "labels = pd.read_csv(label_path,index_col = \"name\",parse_dates = [\"first_detection\"])\n",
    "labels.drop(columns = [\"Unnamed: 0\"],inplace = True)\n",
    "labels"
   ]
  },
  {
   "cell_type": "markdown",
   "id": "fda6b8c0-4f0c-4d9c-b72a-063913b5d446",
   "metadata": {},
   "source": [
    "## Labels data set 1:\n",
    "The best detection is done in the rolling_avg_50_1 and rolling_avg_30_1. Due to the data, it need to be searched in the dataset no in the labels dataframe"
   ]
  },
  {
   "cell_type": "code",
   "execution_count": 39,
   "id": "a333290e-1bc9-4619-b6c5-a765cea29e67",
   "metadata": {},
   "outputs": [
    {
     "data": {
      "text/plain": [
       "Timestamp('2003-11-21 23:36:56')"
      ]
     },
     "execution_count": 39,
     "metadata": {},
     "output_type": "execute_result"
    }
   ],
   "source": [
    "ano1 = pd.read_pickle(\"../data/pca_results/rolling_avg_50_1_pca_labels.pkl\")[\"2003-11-21\":]\n",
    "ano1.drop_duplicates(inplace = True)\n",
    "ano1 = ano1.loc[ano1.anomaly == True].index[0]\n",
    "ano1"
   ]
  },
  {
   "cell_type": "code",
   "execution_count": 53,
   "id": "4fc7efa6-898d-4eb5-80d5-e0aedc2686f1",
   "metadata": {},
   "outputs": [
    {
     "data": {
      "text/plain": [
       "False    1737\n",
       "True      419\n",
       "Name: labels, dtype: int64"
      ]
     },
     "execution_count": 53,
     "metadata": {},
     "output_type": "execute_result"
    }
   ],
   "source": [
    "y1 = pd.DataFrame()\n",
    "df = pd.read_pickle(\"../data/feature_data/rms/rms_1.pkl\")\n",
    "df = df.index.values\n",
    "\n",
    "y1[\"time\"] = df\n",
    "y1[\"labels\"]= False\n",
    "y1.loc[y1.time>= ano1, \"labels\"] = True\n",
    "y1.index = y1.time\n",
    "y1.drop(columns = [\"time\"],inplace = True)\n",
    "y1.labels.value_counts()"
   ]
  },
  {
   "cell_type": "markdown",
   "id": "6cfafab1-ac61-4d35-966b-0c5b497bbc63",
   "metadata": {},
   "source": [
    "## Labels data set2:\n",
    "The best detectation of the anomayl is done in the rolling_avg_50_2 feature"
   ]
  },
  {
   "cell_type": "code",
   "execution_count": 40,
   "id": "8858b60b-b7f3-4559-b540-bf7b786703e6",
   "metadata": {},
   "outputs": [
    {
     "data": {
      "text/plain": [
       "Timestamp('2004-02-16 21:52:39')"
      ]
     },
     "execution_count": 40,
     "metadata": {},
     "output_type": "execute_result"
    }
   ],
   "source": [
    "ano2 = labels.loc[\"rolling_avg_50_2\"][\"first_detection\"]\n",
    "ano2"
   ]
  },
  {
   "cell_type": "code",
   "execution_count": 54,
   "id": "ae162876-d644-4373-abe2-4e2d0381f212",
   "metadata": {},
   "outputs": [
    {
     "data": {
      "text/plain": [
       "False    650\n",
       "True     334\n",
       "Name: labels, dtype: int64"
      ]
     },
     "execution_count": 54,
     "metadata": {},
     "output_type": "execute_result"
    }
   ],
   "source": [
    "y2 = pd.DataFrame()\n",
    "df = pd.read_pickle(\"../data/feature_data/rms/rms_2.pkl\")\n",
    "df = df.index.values\n",
    "\n",
    "y2[\"time\"] = df\n",
    "y2[\"labels\"]= False\n",
    "y2.loc[y2.time>= ano2, \"labels\"] = True\n",
    "y2.index = y2.time\n",
    "y2.drop(columns = [\"time\"],inplace = True)\n",
    "y2.labels.value_counts()"
   ]
  },
  {
   "cell_type": "markdown",
   "id": "ba063f9e-5db6-466b-83f4-47f75b9535a8",
   "metadata": {},
   "source": [
    "## Labels data set3:\n",
    "The best detectation of the anomayl is done in the rms_3 feature"
   ]
  },
  {
   "cell_type": "code",
   "execution_count": 41,
   "id": "9151d50d-37d6-424b-a05b-acf8465dff61",
   "metadata": {},
   "outputs": [
    {
     "data": {
      "text/plain": [
       "Timestamp('2004-04-15 13:32:55')"
      ]
     },
     "execution_count": 41,
     "metadata": {},
     "output_type": "execute_result"
    }
   ],
   "source": [
    "ano3 = labels.loc[\"rms_3\"][\"first_detection\"]\n",
    "ano3"
   ]
  },
  {
   "cell_type": "code",
   "execution_count": 55,
   "id": "ec04262d-b934-4f2c-938b-bfb3a871511b",
   "metadata": {},
   "outputs": [
    {
     "data": {
      "text/plain": [
       "False    5962\n",
       "True      356\n",
       "Name: labels, dtype: int64"
      ]
     },
     "execution_count": 55,
     "metadata": {},
     "output_type": "execute_result"
    }
   ],
   "source": [
    "y3 = pd.DataFrame()\n",
    "df = pd.read_pickle(\"../data/feature_data/rms/rms_3.pkl\")\n",
    "df = df.index.values\n",
    "y3[\"time\"] = df\n",
    "y3[\"labels\"]= False\n",
    "y3.loc[y3.time>= ano3, \"labels\"] = True\n",
    "y3.index = y3.time\n",
    "y3.drop(columns = [\"time\"],inplace = True)\n",
    "y3.labels.value_counts()"
   ]
  },
  {
   "cell_type": "markdown",
   "id": "08832a26-e8a0-4e4a-902d-10986cbd0fb3",
   "metadata": {},
   "source": [
    "## Training the classifyer\n"
   ]
  },
  {
   "cell_type": "code",
   "execution_count": null,
   "id": "813bcc4e-85ef-4f6f-9bbf-612a1ebd1ea4",
   "metadata": {},
   "outputs": [],
   "source": []
  }
 ],
 "metadata": {
  "kernelspec": {
   "display_name": "Python 3 (ipykernel)",
   "language": "python",
   "name": "python3"
  },
  "language_info": {
   "codemirror_mode": {
    "name": "ipython",
    "version": 3
   },
   "file_extension": ".py",
   "mimetype": "text/x-python",
   "name": "python",
   "nbconvert_exporter": "python",
   "pygments_lexer": "ipython3",
   "version": "3.9.7"
  }
 },
 "nbformat": 4,
 "nbformat_minor": 5
}
