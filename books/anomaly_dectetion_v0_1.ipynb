{
 "cells": [
  {
   "cell_type": "code",
   "execution_count": 1,
   "id": "e350d581-9a2a-47a6-95ab-72d7e9df0e39",
   "metadata": {},
   "outputs": [],
   "source": [
    "import pandas as pd\n",
    "import numpy as np\n",
    "from sklearn import preprocessing\n",
    "import matplotlib.pyplot as plt\n",
    "from sklearn.decomposition import PCA\n",
    "RANDOM_STATE = 17"
   ]
  },
  {
   "cell_type": "code",
   "execution_count": 2,
   "id": "f8276b1e-5f62-44c8-aa81-b4c61bc4606e",
   "metadata": {},
   "outputs": [],
   "source": [
    "def save_fig(fig,fig_name,**kwargs):\n",
    "    # saves the figure to a common folder\n",
    "    import os\n",
    "    if not os.path.exists(\"figures\"):\n",
    "        os.mkdir(\"figures\")\n",
    "    fig.savefig(fname= \"figures/{}\".format(fig_name) , **kwargs)\n",
    "    \n",
    "def spree_plot(pca_object,fig_title=None,fig_name = None,**kwargs):\n",
    "    # returns a spree plot from a PCA object\n",
    "    per_var = np.round(pca_object.explained_variance_ratio_* 100, decimals=1)\n",
    "    labels = ['PC' + str(x) for x in range(1, len(per_var)+1)]\n",
    "    fig, ax = plt.subplots()\n",
    "    ax.bar(x = range(1,len(per_var)+1),height=per_var, tick_label=labels)\n",
    "    ax.set_ylabel('Percentage of Explained Variance')\n",
    "    ax.set_xlabel('Principal Component')\n",
    "    if fig_title:\n",
    "        ax.set_title(\"Scree Plot\")\n",
    "    else:\n",
    "        ax.set_title(fig_title)\n",
    "    if fig_name:\n",
    "        save_fig(fig,fig_name,**kwargs)"
   ]
  },
  {
   "cell_type": "code",
   "execution_count": 3,
   "id": "d6274fe9-d2a8-45ab-9f55-7b02e808b7dd",
   "metadata": {},
   "outputs": [],
   "source": [
    "df = pd.read_pickle(\"../data/2nd_test_full.pkl\")\n",
    "df = df.abs()"
   ]
  },
  {
   "cell_type": "code",
   "execution_count": 4,
   "id": "d8174818-1433-49ca-bd1c-e8e4b056121b",
   "metadata": {},
   "outputs": [],
   "source": [
    "period = 20\n",
    "df1 = df.groupby(\"timestamp\").mean()\n",
    "df1 = df1.rolling(window = period).mean()\n",
    "df1.index = pd.to_datetime(df1.index,unit='s')\n",
    "df1.dropna(inplace = True)"
   ]
  },
  {
   "cell_type": "code",
   "execution_count": 5,
   "id": "bc8494ab-692d-4215-a064-80b0a5439f1e",
   "metadata": {},
   "outputs": [
    {
     "data": {
      "text/html": [
       "<div>\n",
       "<style scoped>\n",
       "    .dataframe tbody tr th:only-of-type {\n",
       "        vertical-align: middle;\n",
       "    }\n",
       "\n",
       "    .dataframe tbody tr th {\n",
       "        vertical-align: top;\n",
       "    }\n",
       "\n",
       "    .dataframe thead th {\n",
       "        text-align: right;\n",
       "    }\n",
       "</style>\n",
       "<table border=\"1\" class=\"dataframe\">\n",
       "  <thead>\n",
       "    <tr style=\"text-align: right;\">\n",
       "      <th></th>\n",
       "      <th>b1_ch1</th>\n",
       "      <th>b2_ch2</th>\n",
       "      <th>b3_ch3</th>\n",
       "      <th>b4_ch4</th>\n",
       "    </tr>\n",
       "    <tr>\n",
       "      <th>timestamp</th>\n",
       "      <th></th>\n",
       "      <th></th>\n",
       "      <th></th>\n",
       "      <th></th>\n",
       "    </tr>\n",
       "  </thead>\n",
       "  <tbody>\n",
       "    <tr>\n",
       "      <th>2004-02-12 12:42:39</th>\n",
       "      <td>0.061236</td>\n",
       "      <td>0.074751</td>\n",
       "      <td>0.082482</td>\n",
       "      <td>0.044191</td>\n",
       "    </tr>\n",
       "    <tr>\n",
       "      <th>2004-02-12 12:52:39</th>\n",
       "      <td>0.061430</td>\n",
       "      <td>0.074955</td>\n",
       "      <td>0.082365</td>\n",
       "      <td>0.044234</td>\n",
       "    </tr>\n",
       "    <tr>\n",
       "      <th>2004-02-12 13:02:39</th>\n",
       "      <td>0.061611</td>\n",
       "      <td>0.075076</td>\n",
       "      <td>0.082258</td>\n",
       "      <td>0.044195</td>\n",
       "    </tr>\n",
       "    <tr>\n",
       "      <th>2004-02-12 13:12:39</th>\n",
       "      <td>0.061725</td>\n",
       "      <td>0.075110</td>\n",
       "      <td>0.082152</td>\n",
       "      <td>0.044144</td>\n",
       "    </tr>\n",
       "    <tr>\n",
       "      <th>2004-02-12 13:22:39</th>\n",
       "      <td>0.061782</td>\n",
       "      <td>0.075243</td>\n",
       "      <td>0.081986</td>\n",
       "      <td>0.044142</td>\n",
       "    </tr>\n",
       "    <tr>\n",
       "      <th>...</th>\n",
       "      <td>...</td>\n",
       "      <td>...</td>\n",
       "      <td>...</td>\n",
       "      <td>...</td>\n",
       "    </tr>\n",
       "    <tr>\n",
       "      <th>2004-02-19 04:42:39</th>\n",
       "      <td>0.274349</td>\n",
       "      <td>0.135542</td>\n",
       "      <td>0.129159</td>\n",
       "      <td>0.096031</td>\n",
       "    </tr>\n",
       "    <tr>\n",
       "      <th>2004-02-19 04:52:39</th>\n",
       "      <td>0.282606</td>\n",
       "      <td>0.135825</td>\n",
       "      <td>0.130421</td>\n",
       "      <td>0.096544</td>\n",
       "    </tr>\n",
       "    <tr>\n",
       "      <th>2004-02-19 05:02:39</th>\n",
       "      <td>0.289955</td>\n",
       "      <td>0.136619</td>\n",
       "      <td>0.131351</td>\n",
       "      <td>0.097142</td>\n",
       "    </tr>\n",
       "    <tr>\n",
       "      <th>2004-02-19 05:12:39</th>\n",
       "      <td>0.280897</td>\n",
       "      <td>0.129465</td>\n",
       "      <td>0.124053</td>\n",
       "      <td>0.092910</td>\n",
       "    </tr>\n",
       "    <tr>\n",
       "      <th>2004-02-19 05:22:39</th>\n",
       "      <td>0.271839</td>\n",
       "      <td>0.123834</td>\n",
       "      <td>0.117314</td>\n",
       "      <td>0.089122</td>\n",
       "    </tr>\n",
       "  </tbody>\n",
       "</table>\n",
       "<p>965 rows × 4 columns</p>\n",
       "</div>"
      ],
      "text/plain": [
       "                       b1_ch1    b2_ch2    b3_ch3    b4_ch4\n",
       "timestamp                                                  \n",
       "2004-02-12 12:42:39  0.061236  0.074751  0.082482  0.044191\n",
       "2004-02-12 12:52:39  0.061430  0.074955  0.082365  0.044234\n",
       "2004-02-12 13:02:39  0.061611  0.075076  0.082258  0.044195\n",
       "2004-02-12 13:12:39  0.061725  0.075110  0.082152  0.044144\n",
       "2004-02-12 13:22:39  0.061782  0.075243  0.081986  0.044142\n",
       "...                       ...       ...       ...       ...\n",
       "2004-02-19 04:42:39  0.274349  0.135542  0.129159  0.096031\n",
       "2004-02-19 04:52:39  0.282606  0.135825  0.130421  0.096544\n",
       "2004-02-19 05:02:39  0.289955  0.136619  0.131351  0.097142\n",
       "2004-02-19 05:12:39  0.280897  0.129465  0.124053  0.092910\n",
       "2004-02-19 05:22:39  0.271839  0.123834  0.117314  0.089122\n",
       "\n",
       "[965 rows x 4 columns]"
      ]
     },
     "execution_count": 5,
     "metadata": {},
     "output_type": "execute_result"
    }
   ],
   "source": [
    "df1"
   ]
  },
  {
   "cell_type": "markdown",
   "id": "5a0db3f8-5410-4c85-9e84-3656b1612adf",
   "metadata": {},
   "source": [
    "# Nota\n",
    "Hay que asegurarse que el split del dataset se hace bien con usando train_test_split"
   ]
  },
  {
   "cell_type": "code",
   "execution_count": 6,
   "id": "8fa5e231-0257-4b1e-8ae5-40785e0d575a",
   "metadata": {},
   "outputs": [],
   "source": [
    "from sklearn.model_selection import train_test_split\n",
    "X_train, X_test= train_test_split(df1, test_size=0.3, random_state=RANDOM_STATE)\n",
    "#df_train = df1[:\"2004-02-13 23:52:39\"]\n",
    "#df_test = df1[\"2004-02-13 23:52:39\":]"
   ]
  },
  {
   "cell_type": "code",
   "execution_count": 7,
   "id": "ccc32d50-33ed-45c7-9c2d-4582bc7f22c7",
   "metadata": {},
   "outputs": [],
   "source": [
    "scaler = preprocessing.StandardScaler()\n",
    "X_train = pd.DataFrame(scaler.fit_transform(X_train),\n",
    "                       columns = X_train.columns,\n",
    "                       index = X_train.index)\n",
    "X_test = pd.DataFrame(scaler.fit_transform(X_test),\n",
    "                      columns = X_test.columns,\n",
    "                      index = X_test.index)"
   ]
  },
  {
   "cell_type": "code",
   "execution_count": 8,
   "id": "33194f77-aa3a-4ae5-994d-8cde24aa647c",
   "metadata": {},
   "outputs": [
    {
     "data": {
      "text/html": [
       "<div>\n",
       "<style scoped>\n",
       "    .dataframe tbody tr th:only-of-type {\n",
       "        vertical-align: middle;\n",
       "    }\n",
       "\n",
       "    .dataframe tbody tr th {\n",
       "        vertical-align: top;\n",
       "    }\n",
       "\n",
       "    .dataframe thead th {\n",
       "        text-align: right;\n",
       "    }\n",
       "</style>\n",
       "<table border=\"1\" class=\"dataframe\">\n",
       "  <thead>\n",
       "    <tr style=\"text-align: right;\">\n",
       "      <th></th>\n",
       "      <th>PCA1</th>\n",
       "      <th>PCA2</th>\n",
       "      <th>PCA3</th>\n",
       "      <th>PCA4</th>\n",
       "    </tr>\n",
       "    <tr>\n",
       "      <th>timestamp</th>\n",
       "      <th></th>\n",
       "      <th></th>\n",
       "      <th></th>\n",
       "      <th></th>\n",
       "    </tr>\n",
       "  </thead>\n",
       "  <tbody>\n",
       "    <tr>\n",
       "      <th>2004-02-15 02:12:39</th>\n",
       "      <td>-0.981399</td>\n",
       "      <td>-0.120081</td>\n",
       "      <td>0.061521</td>\n",
       "      <td>0.005294</td>\n",
       "    </tr>\n",
       "    <tr>\n",
       "      <th>2004-02-16 01:02:39</th>\n",
       "      <td>-0.956432</td>\n",
       "      <td>-0.097379</td>\n",
       "      <td>0.033319</td>\n",
       "      <td>0.038161</td>\n",
       "    </tr>\n",
       "    <tr>\n",
       "      <th>2004-02-14 04:22:39</th>\n",
       "      <td>-0.840389</td>\n",
       "      <td>-0.210250</td>\n",
       "      <td>0.066615</td>\n",
       "      <td>-0.017600</td>\n",
       "    </tr>\n",
       "    <tr>\n",
       "      <th>2004-02-13 06:32:39</th>\n",
       "      <td>-0.743316</td>\n",
       "      <td>-0.330543</td>\n",
       "      <td>-0.036095</td>\n",
       "      <td>-0.021268</td>\n",
       "    </tr>\n",
       "    <tr>\n",
       "      <th>2004-02-13 23:32:39</th>\n",
       "      <td>-0.861095</td>\n",
       "      <td>-0.205678</td>\n",
       "      <td>0.027896</td>\n",
       "      <td>-0.024044</td>\n",
       "    </tr>\n",
       "    <tr>\n",
       "      <th>...</th>\n",
       "      <td>...</td>\n",
       "      <td>...</td>\n",
       "      <td>...</td>\n",
       "      <td>...</td>\n",
       "    </tr>\n",
       "    <tr>\n",
       "      <th>2004-02-15 08:22:39</th>\n",
       "      <td>-0.998273</td>\n",
       "      <td>-0.105784</td>\n",
       "      <td>0.059347</td>\n",
       "      <td>0.012514</td>\n",
       "    </tr>\n",
       "    <tr>\n",
       "      <th>2004-02-15 05:42:39</th>\n",
       "      <td>-0.998880</td>\n",
       "      <td>-0.100433</td>\n",
       "      <td>0.068431</td>\n",
       "      <td>-0.011115</td>\n",
       "    </tr>\n",
       "    <tr>\n",
       "      <th>2004-02-13 12:32:39</th>\n",
       "      <td>-0.760943</td>\n",
       "      <td>-0.311685</td>\n",
       "      <td>-0.012114</td>\n",
       "      <td>-0.041032</td>\n",
       "    </tr>\n",
       "    <tr>\n",
       "      <th>2004-02-14 04:52:39</th>\n",
       "      <td>-0.837906</td>\n",
       "      <td>-0.214889</td>\n",
       "      <td>0.064847</td>\n",
       "      <td>-0.023168</td>\n",
       "    </tr>\n",
       "    <tr>\n",
       "      <th>2004-02-16 20:32:39</th>\n",
       "      <td>-0.675030</td>\n",
       "      <td>0.239522</td>\n",
       "      <td>-0.027124</td>\n",
       "      <td>0.018388</td>\n",
       "    </tr>\n",
       "  </tbody>\n",
       "</table>\n",
       "<p>675 rows × 4 columns</p>\n",
       "</div>"
      ],
      "text/plain": [
       "                         PCA1      PCA2      PCA3      PCA4\n",
       "timestamp                                                  \n",
       "2004-02-15 02:12:39 -0.981399 -0.120081  0.061521  0.005294\n",
       "2004-02-16 01:02:39 -0.956432 -0.097379  0.033319  0.038161\n",
       "2004-02-14 04:22:39 -0.840389 -0.210250  0.066615 -0.017600\n",
       "2004-02-13 06:32:39 -0.743316 -0.330543 -0.036095 -0.021268\n",
       "2004-02-13 23:32:39 -0.861095 -0.205678  0.027896 -0.024044\n",
       "...                       ...       ...       ...       ...\n",
       "2004-02-15 08:22:39 -0.998273 -0.105784  0.059347  0.012514\n",
       "2004-02-15 05:42:39 -0.998880 -0.100433  0.068431 -0.011115\n",
       "2004-02-13 12:32:39 -0.760943 -0.311685 -0.012114 -0.041032\n",
       "2004-02-14 04:52:39 -0.837906 -0.214889  0.064847 -0.023168\n",
       "2004-02-16 20:32:39 -0.675030  0.239522 -0.027124  0.018388\n",
       "\n",
       "[675 rows x 4 columns]"
      ]
     },
     "execution_count": 8,
     "metadata": {},
     "output_type": "execute_result"
    }
   ],
   "source": [
    "pca_train = PCA(random_state = RANDOM_STATE)\n",
    "labels = [f\"PCA{i}\" for i in range(1,5)]\n",
    "pca_train.fit(X_train)\n",
    "X_train_PCA = pca_train.transform(X_train)\n",
    "X_train_PCA = pd.DataFrame(X_train_PCA,index =X_train.index,columns = labels )\n",
    "X_train_PCA"
   ]
  },
  {
   "cell_type": "code",
   "execution_count": 9,
   "id": "f9301e04-e091-4f58-8bcf-d428834d4961",
   "metadata": {},
   "outputs": [],
   "source": [
    "pca_test = PCA(random_state = RANDOM_STATE)\n",
    "pca_test.fit(X_train)\n",
    "X_test_PCA = pca_test.transform(X_test)\n",
    "X_test_PCA = pd.DataFrame(X_test_PCA,index = X_test.index,columns = labels)"
   ]
  },
  {
   "cell_type": "code",
   "execution_count": 15,
   "id": "d6cfaa3d-82fc-4e41-8ecd-9dbf8a194396",
   "metadata": {},
   "outputs": [
    {
     "data": {
      "application/vnd.jupyter.widget-view+json": {
       "model_id": "fd523421296e418bb4a4cfeb8bad2f79",
       "version_major": 2,
       "version_minor": 0
      },
      "image/png": "[encoded data removed]",
      "text/plain": [
       "Canvas(toolbar=Toolbar(toolitems=[('Home', 'Reset original view', 'home', 'home'), ('Back', 'Back to previous …"
      ]
     },
     "metadata": {},
     "output_type": "display_data"
    }
   ],
   "source": [
    "%matplotlib widget\n",
    "spree_plot(pca_train)"
   ]
  },
  {
   "cell_type": "code",
   "execution_count": 11,
   "id": "58868636-97c8-4fba-8c91-5c3319101380",
   "metadata": {},
   "outputs": [
    {
     "data": {
      "application/vnd.jupyter.widget-view+json": {
       "model_id": "82fc8736611f458cb888fafdd712e6a6",
       "version_major": 2,
       "version_minor": 0
      },
      "image/png": "[encoded data removed]",
      "text/plain": [
       "Canvas(toolbar=Toolbar(toolitems=[('Home', 'Reset original view', 'home', 'home'), ('Back', 'Back to previous …"
      ]
     },
     "metadata": {},
     "output_type": "display_data"
    }
   ],
   "source": [
    "%matplotlib widget\n",
    "spree_plot(pca_test)"
   ]
  },
  {
   "cell_type": "code",
   "execution_count": 16,
   "id": "ce09ff39-f95f-4885-b950-5d0d030a4187",
   "metadata": {},
   "outputs": [
    {
     "data": {
      "text/plain": [
       "Text(0, 0.5, 'PC2 - 4.3%')"
      ]
     },
     "execution_count": 16,
     "metadata": {},
     "output_type": "execute_result"
    },
    {
     "data": {
      "application/vnd.jupyter.widget-view+json": {
       "model_id": "954a23e1b45049c99ba112dcfc563f19",
       "version_major": 2,
       "version_minor": 0
      },
      "image/png": "[encoded data removed]",
      "text/plain": [
       "Canvas(toolbar=Toolbar(toolitems=[('Home', 'Reset original view', 'home', 'home'), ('Back', 'Back to previous …"
      ]
     },
     "metadata": {},
     "output_type": "display_data"
    }
   ],
   "source": [
    "fig, ax = plt.subplots()\n",
    "per_var = np.round(pca_train.explained_variance_ratio_* 100, decimals=1)\n",
    "ax.scatter(X_train_PCA.PCA1, X_train_PCA.PCA2)\n",
    "ax.set_title('My PCA Graph')\n",
    "ax.set_xlabel('PC1 - {0}%'.format(per_var[0]))\n",
    "ax.set_ylabel('PC2 - {0}%'.format(per_var[1]))"
   ]
  },
  {
   "cell_type": "code",
   "execution_count": 13,
   "id": "998c6bcf-2c6a-4b7f-b5e8-1968dd17b929",
   "metadata": {},
   "outputs": [],
   "source": [
    "def cov_matrix(data, verbose=False):\n",
    "    covariance_matrix = np.cov(data, rowvar=False)\n",
    "    if is_pos_def(covariance_matrix):\n",
    "        inv_covariance_matrix = np.linalg.inv(covariance_matrix)\n",
    "        if is_pos_def(inv_covariance_matrix):\n",
    "            return covariance_matrix, inv_covariance_matrix\n",
    "        else:\n",
    "            print(\"Error: Inverse of Covariance Matrix is not positive definite!\")\n",
    "    else:\n",
    "        print(\"Error: Covariance Matrix is not positive definite!\")\n",
    "        \n",
    "# caluclate Mahalanobis distance\n",
    "\n",
    "def MahalanobisDist(inv_cov_matrix, mean_distr, data, verbose=False):\n",
    "    inv_covariance_matrix = inv_cov_matrix\n",
    "    vars_mean = mean_distr\n",
    "    diff = data - vars_mean\n",
    "    md = []\n",
    "    for i in range(len(diff)):\n",
    "        md.append(np.sqrt(diff[i].dot(inv_covariance_matrix).dot(diff[i])))\n",
    "    return md\n",
    "\n",
    "# outlier detection\n",
    "\n",
    "def MD_detectOutliers(dist, extreme=False, verbose=False):\n",
    "    k = 3. if extreme else 2.\n",
    "    threshold = np.mean(dist) * k\n",
    "    outliers = []\n",
    "    for i in range(len(dist)):\n",
    "        if dist[i] >= threshold:\n",
    "            outliers.append(i)  # index of the outlier\n",
    "    return np.array(outliers)\n",
    "\n",
    "# threshold for the classificiation beyond which is an anomaly\n",
    "\n",
    "def MD_threshold(dist, extreme=False, verbose=False):\n",
    "    k = 3. if extreme else 2.\n",
    "    threshold = np.mean(dist) * k\n",
    "    return threshold\n",
    "\n",
    "# check if matrix is postive definite\n",
    "\n",
    "def is_pos_def(A):\n",
    "    if np.allclose(A, A.T):\n",
    "        try:\n",
    "            np.linalg.cholesky(A)\n",
    "            return True\n",
    "        except np.linalg.LinAlgError:\n",
    "            return False\n",
    "    else:\n",
    "        return False"
   ]
  },
  {
   "cell_type": "code",
   "execution_count": 14,
   "id": "0c71b0e2-74c3-4658-806d-9c949b9f8135",
   "metadata": {},
   "outputs": [],
   "source": [
    "cov_matrix, inv_cov_matrix  = pca_test.get_covariance(), np.linalg.inv(pca_test.get_covariance())\n",
    "# problemas con esto debido a que salen distintos valores de covarianza entre numpy y Sklearn"
   ]
  },
  {
   "cell_type": "code",
   "execution_count": 20,
   "id": "1df83e32-e19c-4f38-bb13-a37ae4856482",
   "metadata": {},
   "outputs": [],
   "source": [
    "#cov_matrix, inv_cov_matrix  = cov_matrix(data_train)\n",
    "#mean_distr = data_train.mean(axis=0)\n",
    "dist_test = MahalanobisDist(inv_cov_matrix, X_train.mean(axis = 0).values, X_test.values, verbose=False)\n",
    "dist_train = MahalanobisDist(inv_cov_matrix, X_train.mean(axis = 0).values, X_train.values, verbose=False)\n",
    "threshold = MD_threshold(X_train.mean(axis = 0), extreme = True)"
   ]
  },
  {
   "cell_type": "code",
   "execution_count": 27,
   "id": "154c41b4-2747-4d25-967e-af9ab382d0ff",
   "metadata": {},
   "outputs": [
    {
     "data": {
      "text/plain": [
       "(array([238.,  24.,   9.,   3.,   7.,   0.,   1.,   1.,   0.,   1.,   0.,\n",
       "          1.,   0.,   1.,   0.,   1.,   1.,   0.,   0.,   2.]),\n",
       " array([ 0.29471421,  4.48805528,  8.68139636, 12.87473743, 17.06807851,\n",
       "        21.26141958, 25.45476066, 29.64810173, 33.84144281, 38.03478388,\n",
       "        42.22812496, 46.42146603, 50.61480711, 54.80814818, 59.00148926,\n",
       "        63.19483033, 67.38817141, 71.58151248, 75.77485356, 79.96819463,\n",
       "        84.16153571]),\n",
       " <BarContainer object of 20 artists>)"
      ]
     },
     "execution_count": 27,
     "metadata": {},
     "output_type": "execute_result"
    },
    {
     "data": {
      "application/vnd.jupyter.widget-view+json": {
       "model_id": "a87430678b804e1d84514dac7a91ca46",
       "version_major": 2,
       "version_minor": 0
      },
      "image/png": "[encoded data removed]",
      "text/plain": [
       "Canvas(toolbar=Toolbar(toolitems=[('Home', 'Reset original view', 'home', 'home'), ('Back', 'Back to previous …"
      ]
     },
     "metadata": {},
     "output_type": "display_data"
    }
   ],
   "source": [
    "%matplotlib widget\n",
    "fig,ax = plt.subplots()\n",
    "ax.hist(np.square(dist_test),bins = 20)"
   ]
  },
  {
   "cell_type": "code",
   "execution_count": null,
   "id": "7eed0983-2021-47b9-b8d0-168c1424439e",
   "metadata": {},
   "outputs": [],
   "source": []
  }
 ],
 "metadata": {
  "kernelspec": {
   "display_name": "Python 3 (ipykernel)",
   "language": "python",
   "name": "python3"
  },
  "language_info": {
   "codemirror_mode": {
    "name": "ipython",
    "version": 3
   },
   "file_extension": ".py",
   "mimetype": "text/x-python",
   "name": "python",
   "nbconvert_exporter": "python",
   "pygments_lexer": "ipython3",
   "version": "3.9.7"
  }
 },
 "nbformat": 4,
 "nbformat_minor": 5
}
