{
 "cells": [
  {
   "cell_type": "code",
   "execution_count": 1,
   "id": "e350d581-9a2a-47a6-95ab-72d7e9df0e39",
   "metadata": {},
   "outputs": [],
   "source": [
    "import pandas as pd\n",
    "import numpy as np\n",
    "import seaborn as sns\n",
    "from pathlib import Path\n",
    "from sklearn import preprocessing\n",
    "import matplotlib.pyplot as plt\n",
    "from sklearn.decomposition import PCA\n",
    "from sklearn.model_selection import train_test_split\n",
    "from matplotlib import font_manager\n",
    "# Add fonts to the plot\n",
    "font_dirs = ['../otros/lmr']\n",
    "font_files = font_manager.findSystemFonts(fontpaths=font_dirs)\n",
    "for font_file in font_files:\n",
    "    font_manager.fontManager.addfont(font_file)\n",
    "\n",
    "plt.rcParams['font.family'] = 'Latin Modern Roman'\n",
    "RANDOM_STATE = 17\n",
    "DATA_SET_NUMBER = 3 # 1,2,3\n",
    "TYPE_OF_AVG = \"rolling\" # rolling, or normal\n",
    "period = 20\n",
    "result_path = Path(\"../data/pca_results\")\n",
    "if not result_path.exists():\n",
    "    result_path.mkdir()"
   ]
  },
  {
   "cell_type": "code",
   "execution_count": 4,
   "id": "d6274fe9-d2a8-45ab-9f55-7b02e808b7dd",
   "metadata": {},
   "outputs": [],
   "source": [
    "if DATA_SET_NUMBER == 2:\n",
    "    df = pd.read_pickle(\"../data/2nd_test_full.pkl\")\n",
    "elif DATA_SET_NUMBER == 3:\n",
    "    df = pd.read_pickle(\"../data/3th_test_full.pkl\")\n",
    "else:\n",
    "    raise ValueError(\"lol\")\n",
    "df = df.abs()"
   ]
  },
  {
   "cell_type": "code",
   "execution_count": 5,
   "id": "e4d5f322-072b-4258-95d9-35bd1101a1eb",
   "metadata": {},
   "outputs": [
    {
     "data": {
      "text/html": [
       "<div>\n",
       "<style scoped>\n",
       "    .dataframe tbody tr th:only-of-type {\n",
       "        vertical-align: middle;\n",
       "    }\n",
       "\n",
       "    .dataframe tbody tr th {\n",
       "        vertical-align: top;\n",
       "    }\n",
       "\n",
       "    .dataframe thead th {\n",
       "        text-align: right;\n",
       "    }\n",
       "</style>\n",
       "<table border=\"1\" class=\"dataframe\">\n",
       "  <thead>\n",
       "    <tr style=\"text-align: right;\">\n",
       "      <th></th>\n",
       "      <th>a</th>\n",
       "      <th>b</th>\n",
       "      <th>c</th>\n",
       "    </tr>\n",
       "  </thead>\n",
       "  <tbody>\n",
       "    <tr>\n",
       "      <th>1</th>\n",
       "      <td>1</td>\n",
       "      <td>NaN</td>\n",
       "      <td>17.0</td>\n",
       "    </tr>\n",
       "    <tr>\n",
       "      <th>2</th>\n",
       "      <td>2</td>\n",
       "      <td>2.0</td>\n",
       "      <td>NaN</td>\n",
       "    </tr>\n",
       "    <tr>\n",
       "      <th>3</th>\n",
       "      <td>3</td>\n",
       "      <td>3.0</td>\n",
       "      <td>NaN</td>\n",
       "    </tr>\n",
       "    <tr>\n",
       "      <th>4</th>\n",
       "      <td>4</td>\n",
       "      <td>4.0</td>\n",
       "      <td>NaN</td>\n",
       "    </tr>\n",
       "  </tbody>\n",
       "</table>\n",
       "</div>"
      ],
      "text/plain": [
       "   a    b     c\n",
       "1  1  NaN  17.0\n",
       "2  2  2.0   NaN\n",
       "3  3  3.0   NaN\n",
       "4  4  4.0   NaN"
      ]
     },
     "execution_count": 5,
     "metadata": {},
     "output_type": "execute_result"
    }
   ],
   "source": [
    "df = pd.DataFrame({\"a\":[1,2,3,4]},index = [1,2,3,4])\n",
    "df1 = pd.DataFrame({\"b\":[1,2,3,4]},index = [0,2,3,4])\n",
    "df2 = pd.DataFrame({\"c\":[17]},index = [1])\n",
    "dft = df.join(df1)\n",
    "dft = dft.join(df2)\n",
    "dft"
   ]
  },
  {
   "cell_type": "code",
   "execution_count": 16,
   "id": "f8276b1e-5f62-44c8-aa81-b4c61bc4606e",
   "metadata": {},
   "outputs": [],
   "source": [
    "def save_fig(fig,fig_name,**kwargs):\n",
    "    # saves the figure to a common folder\n",
    "    import os\n",
    "    if not os.path.exists(\"figures\"):\n",
    "        os.mkdir(\"figures\")\n",
    "    fig.savefig(fname= \"figures/{}\".format(fig_name) , **kwargs)\n",
    "    \n",
    "def spree_plot(pca_object,fig_title=None,fig_name = None,**kwargs):\n",
    "    with plt.style.context(\"seaborn-paper\"):\n",
    "    # returns a spree plot from a PCA object\n",
    "        per_var = np.round(pca_object.explained_variance_ratio_* 100, decimals=1)\n",
    "        labels = ['PC' + str(x) for x in range(1, len(per_var)+1)]\n",
    "        fig, ax = plt.subplots()\n",
    "        ax.bar(x = range(1,len(per_var)+1),height=per_var, tick_label=labels)\n",
    "        ax.set_ylabel('Percentage of Explained Variance')\n",
    "        ax.set_xlabel('Principal Components')\n",
    "        if fig_title:\n",
    "            ax.set_title(\"Scree Plot\")\n",
    "        else:\n",
    "            ax.set_title(fig_title)\n",
    "        if fig_name:\n",
    "            fig.savefig(\"../scripts/pdf_img/spree_ex.pdf\",dpi = 300)\n",
    "\n",
    "def cov_matrix(data, verbose=False):\n",
    "    covariance_matrix = np.cov(data, rowvar=False)\n",
    "    if is_pos_def(covariance_matrix):\n",
    "        inv_covariance_matrix = np.linalg.inv(covariance_matrix)\n",
    "        if is_pos_def(inv_covariance_matrix):\n",
    "            return covariance_matrix, inv_covariance_matrix\n",
    "        else:\n",
    "            print(\"Error: Inverse of Covariance Matrix is not positive definite!\")\n",
    "    else:\n",
    "        print(\"Error: Covariance Matrix is not positive definite!\")\n",
    "        \n",
    "# caluclate Mahalanobis distance\n",
    "def MahalanobisDist(inv_cov_matrix, mean_distr, data, verbose=False):\n",
    "    inv_covariance_matrix = inv_cov_matrix\n",
    "    vars_mean = mean_distr\n",
    "    diff = data - vars_mean\n",
    "    md = []\n",
    "    for i in range(len(diff)):\n",
    "        md.append(np.sqrt(diff[i].dot(inv_covariance_matrix).dot(diff[i])))\n",
    "    return md\n",
    "\n",
    "# outlier detection\n",
    "\n",
    "def MD_detectOutliers(dist, extreme=False, verbose=False):\n",
    "    k = 3. if extreme else 2.\n",
    "    threshold = np.mean(dist) * k\n",
    "    outliers = []\n",
    "    for i in range(len(dist)):\n",
    "        if dist[i] >= threshold:\n",
    "            outliers.append(i)  # index of the outlier\n",
    "    return np.array(outliers)\n",
    "\n",
    "# threshold for the classificiation beyond which is an anomaly\n",
    "\n",
    "def MD_threshold(dist, extreme=False, verbose=False):\n",
    "    k = 3. if extreme else 2.\n",
    "    threshold = np.mean(dist) * k\n",
    "    return threshold\n",
    "\n",
    "# check if matrix is postive definite\n",
    "\n",
    "def is_pos_def(A):\n",
    "    if np.allclose(A, A.T):\n",
    "        try:\n",
    "            np.linalg.cholesky(A)\n",
    "            return True\n",
    "        except np.linalg.LinAlgError:\n",
    "            return False\n",
    "    else:\n",
    "        return False"
   ]
  },
  {
   "cell_type": "code",
   "execution_count": 6,
   "id": "ca0e4d63-5d22-44c0-bf53-f7f0840d56ec",
   "metadata": {},
   "outputs": [],
   "source": [
    "# calculate the covariance matrix\n",
    "def get_cov_matrix(data, verbose=False):\n",
    "    covariance_matrix = np.cov(data, rowvar=False)\n",
    "    if is_pos_def(covariance_matrix):\n",
    "        inv_covariance_matrix = np.linalg.inv(covariance_matrix)\n",
    "        if is_pos_def(inv_covariance_matrix):\n",
    "            return covariance_matrix, inv_covariance_matrix\n",
    "        else:\n",
    "            print(\"Error: Inverse of Covariance Matrix is not positive definite!\")\n",
    "    else:\n",
    "        print(\"Error: Covariance Matrix is not positive definite!\")\n",
    "\n",
    "def is_pos_def(A):\n",
    "    if np.allclose(A, A.T):\n",
    "        try:\n",
    "            np.linalg.cholesky(A)\n",
    "            return True\n",
    "        except np.linalg.LinAlgError:\n",
    "            return False\n",
    "    else:\n",
    "        return False"
   ]
  },
  {
   "cell_type": "code",
   "execution_count": 7,
   "id": "d8174818-1433-49ca-bd1c-e8e4b056121b",
   "metadata": {},
   "outputs": [],
   "source": [
    "if TYPE_OF_AVG == \"rolling\":\n",
    "    df1 = df.groupby(\"timestamp\").mean()\n",
    "    df1 = df1.rolling(window = period).mean()\n",
    "    df1.index = pd.to_datetime(df1.index,unit='s')\n",
    "    df1.dropna(inplace = True)\n",
    "else:\n",
    "    df1 = df.groupby(\"timestamp\").mean()\n",
    "    df1.index = pd.to_datetime(df1.index,unit='s')\n",
    "    "
   ]
  },
  {
   "cell_type": "code",
   "execution_count": 8,
   "id": "bc8494ab-692d-4215-a064-80b0a5439f1e",
   "metadata": {},
   "outputs": [
    {
     "data": {
      "text/html": [
       "<div>\n",
       "<style scoped>\n",
       "    .dataframe tbody tr th:only-of-type {\n",
       "        vertical-align: middle;\n",
       "    }\n",
       "\n",
       "    .dataframe tbody tr th {\n",
       "        vertical-align: top;\n",
       "    }\n",
       "\n",
       "    .dataframe thead th {\n",
       "        text-align: right;\n",
       "    }\n",
       "</style>\n",
       "<table border=\"1\" class=\"dataframe\">\n",
       "  <thead>\n",
       "    <tr style=\"text-align: right;\">\n",
       "      <th></th>\n",
       "      <th>b1_ch1</th>\n",
       "      <th>b2_ch2</th>\n",
       "      <th>b3_ch3</th>\n",
       "      <th>b4_ch4</th>\n",
       "    </tr>\n",
       "    <tr>\n",
       "      <th>timestamp</th>\n",
       "      <th></th>\n",
       "      <th></th>\n",
       "      <th></th>\n",
       "      <th></th>\n",
       "    </tr>\n",
       "  </thead>\n",
       "  <tbody>\n",
       "    <tr>\n",
       "      <th>2004-03-04 11:32:46</th>\n",
       "      <td>0.062350</td>\n",
       "      <td>0.074028</td>\n",
       "      <td>0.054567</td>\n",
       "      <td>0.042990</td>\n",
       "    </tr>\n",
       "    <tr>\n",
       "      <th>2004-03-04 11:42:46</th>\n",
       "      <td>0.062518</td>\n",
       "      <td>0.074054</td>\n",
       "      <td>0.054721</td>\n",
       "      <td>0.043004</td>\n",
       "    </tr>\n",
       "    <tr>\n",
       "      <th>2004-03-04 11:52:46</th>\n",
       "      <td>0.062706</td>\n",
       "      <td>0.074237</td>\n",
       "      <td>0.055029</td>\n",
       "      <td>0.043131</td>\n",
       "    </tr>\n",
       "    <tr>\n",
       "      <th>2004-03-04 12:02:46</th>\n",
       "      <td>0.062808</td>\n",
       "      <td>0.074393</td>\n",
       "      <td>0.055192</td>\n",
       "      <td>0.043259</td>\n",
       "    </tr>\n",
       "    <tr>\n",
       "      <th>2004-03-04 12:12:46</th>\n",
       "      <td>0.062820</td>\n",
       "      <td>0.074449</td>\n",
       "      <td>0.055305</td>\n",
       "      <td>0.043286</td>\n",
       "    </tr>\n",
       "    <tr>\n",
       "      <th>...</th>\n",
       "      <td>...</td>\n",
       "      <td>...</td>\n",
       "      <td>...</td>\n",
       "      <td>...</td>\n",
       "    </tr>\n",
       "    <tr>\n",
       "      <th>2004-04-18 00:02:55</th>\n",
       "      <td>0.108956</td>\n",
       "      <td>0.168623</td>\n",
       "      <td>0.298339</td>\n",
       "      <td>0.177392</td>\n",
       "    </tr>\n",
       "    <tr>\n",
       "      <th>2004-04-18 00:12:55</th>\n",
       "      <td>0.109467</td>\n",
       "      <td>0.170525</td>\n",
       "      <td>0.303528</td>\n",
       "      <td>0.181849</td>\n",
       "    </tr>\n",
       "    <tr>\n",
       "      <th>2004-04-18 00:22:55</th>\n",
       "      <td>0.110311</td>\n",
       "      <td>0.174255</td>\n",
       "      <td>0.312075</td>\n",
       "      <td>0.186023</td>\n",
       "    </tr>\n",
       "    <tr>\n",
       "      <th>2004-04-18 00:32:55</th>\n",
       "      <td>0.111293</td>\n",
       "      <td>0.177152</td>\n",
       "      <td>0.326594</td>\n",
       "      <td>0.189070</td>\n",
       "    </tr>\n",
       "    <tr>\n",
       "      <th>2004-04-18 00:42:55</th>\n",
       "      <td>0.106252</td>\n",
       "      <td>0.168671</td>\n",
       "      <td>0.313700</td>\n",
       "      <td>0.180213</td>\n",
       "    </tr>\n",
       "  </tbody>\n",
       "</table>\n",
       "<p>6299 rows × 4 columns</p>\n",
       "</div>"
      ],
      "text/plain": [
       "                       b1_ch1    b2_ch2    b3_ch3    b4_ch4\n",
       "timestamp                                                  \n",
       "2004-03-04 11:32:46  0.062350  0.074028  0.054567  0.042990\n",
       "2004-03-04 11:42:46  0.062518  0.074054  0.054721  0.043004\n",
       "2004-03-04 11:52:46  0.062706  0.074237  0.055029  0.043131\n",
       "2004-03-04 12:02:46  0.062808  0.074393  0.055192  0.043259\n",
       "2004-03-04 12:12:46  0.062820  0.074449  0.055305  0.043286\n",
       "...                       ...       ...       ...       ...\n",
       "2004-04-18 00:02:55  0.108956  0.168623  0.298339  0.177392\n",
       "2004-04-18 00:12:55  0.109467  0.170525  0.303528  0.181849\n",
       "2004-04-18 00:22:55  0.110311  0.174255  0.312075  0.186023\n",
       "2004-04-18 00:32:55  0.111293  0.177152  0.326594  0.189070\n",
       "2004-04-18 00:42:55  0.106252  0.168671  0.313700  0.180213\n",
       "\n",
       "[6299 rows x 4 columns]"
      ]
     },
     "execution_count": 8,
     "metadata": {},
     "output_type": "execute_result"
    }
   ],
   "source": [
    "df1"
   ]
  },
  {
   "cell_type": "code",
   "execution_count": 9,
   "id": "cb1586e0-9e87-4486-bb43-6c0acddb0b4e",
   "metadata": {},
   "outputs": [
    {
     "data": {
      "text/plain": [
       "<AxesSubplot:xlabel='timestamp'>"
      ]
     },
     "execution_count": 9,
     "metadata": {},
     "output_type": "execute_result"
    },
    {
     "data": {
      "image/png": "[encoded data removed]",
      "text/plain": [
       "<Figure size 432x288 with 1 Axes>"
      ]
     },
     "metadata": {
      "needs_background": "light"
     },
     "output_type": "display_data"
    }
   ],
   "source": [
    "df1.plot()"
   ]
  },
  {
   "cell_type": "code",
   "execution_count": 10,
   "id": "546e6c69-0391-4689-a447-afb3ad486696",
   "metadata": {},
   "outputs": [
    {
     "data": {
      "text/html": [
       "<div>\n",
       "<style scoped>\n",
       "    .dataframe tbody tr th:only-of-type {\n",
       "        vertical-align: middle;\n",
       "    }\n",
       "\n",
       "    .dataframe tbody tr th {\n",
       "        vertical-align: top;\n",
       "    }\n",
       "\n",
       "    .dataframe thead th {\n",
       "        text-align: right;\n",
       "    }\n",
       "</style>\n",
       "<table border=\"1\" class=\"dataframe\">\n",
       "  <thead>\n",
       "    <tr style=\"text-align: right;\">\n",
       "      <th></th>\n",
       "      <th>b1_ch1</th>\n",
       "      <th>b2_ch2</th>\n",
       "      <th>b3_ch3</th>\n",
       "      <th>b4_ch4</th>\n",
       "    </tr>\n",
       "    <tr>\n",
       "      <th>timestamp</th>\n",
       "      <th></th>\n",
       "      <th></th>\n",
       "      <th></th>\n",
       "      <th></th>\n",
       "    </tr>\n",
       "  </thead>\n",
       "  <tbody>\n",
       "    <tr>\n",
       "      <th>2004-03-04 11:32:46</th>\n",
       "      <td>0.062350</td>\n",
       "      <td>0.074028</td>\n",
       "      <td>0.054567</td>\n",
       "      <td>0.042990</td>\n",
       "    </tr>\n",
       "    <tr>\n",
       "      <th>2004-03-04 11:42:46</th>\n",
       "      <td>0.062518</td>\n",
       "      <td>0.074054</td>\n",
       "      <td>0.054721</td>\n",
       "      <td>0.043004</td>\n",
       "    </tr>\n",
       "    <tr>\n",
       "      <th>2004-03-04 11:52:46</th>\n",
       "      <td>0.062706</td>\n",
       "      <td>0.074237</td>\n",
       "      <td>0.055029</td>\n",
       "      <td>0.043131</td>\n",
       "    </tr>\n",
       "    <tr>\n",
       "      <th>2004-03-04 12:02:46</th>\n",
       "      <td>0.062808</td>\n",
       "      <td>0.074393</td>\n",
       "      <td>0.055192</td>\n",
       "      <td>0.043259</td>\n",
       "    </tr>\n",
       "    <tr>\n",
       "      <th>2004-03-04 12:12:46</th>\n",
       "      <td>0.062820</td>\n",
       "      <td>0.074449</td>\n",
       "      <td>0.055305</td>\n",
       "      <td>0.043286</td>\n",
       "    </tr>\n",
       "    <tr>\n",
       "      <th>...</th>\n",
       "      <td>...</td>\n",
       "      <td>...</td>\n",
       "      <td>...</td>\n",
       "      <td>...</td>\n",
       "    </tr>\n",
       "    <tr>\n",
       "      <th>2004-04-18 00:02:55</th>\n",
       "      <td>0.108956</td>\n",
       "      <td>0.168623</td>\n",
       "      <td>0.298339</td>\n",
       "      <td>0.177392</td>\n",
       "    </tr>\n",
       "    <tr>\n",
       "      <th>2004-04-18 00:12:55</th>\n",
       "      <td>0.109467</td>\n",
       "      <td>0.170525</td>\n",
       "      <td>0.303528</td>\n",
       "      <td>0.181849</td>\n",
       "    </tr>\n",
       "    <tr>\n",
       "      <th>2004-04-18 00:22:55</th>\n",
       "      <td>0.110311</td>\n",
       "      <td>0.174255</td>\n",
       "      <td>0.312075</td>\n",
       "      <td>0.186023</td>\n",
       "    </tr>\n",
       "    <tr>\n",
       "      <th>2004-04-18 00:32:55</th>\n",
       "      <td>0.111293</td>\n",
       "      <td>0.177152</td>\n",
       "      <td>0.326594</td>\n",
       "      <td>0.189070</td>\n",
       "    </tr>\n",
       "    <tr>\n",
       "      <th>2004-04-18 00:42:55</th>\n",
       "      <td>0.106252</td>\n",
       "      <td>0.168671</td>\n",
       "      <td>0.313700</td>\n",
       "      <td>0.180213</td>\n",
       "    </tr>\n",
       "  </tbody>\n",
       "</table>\n",
       "<p>6299 rows × 4 columns</p>\n",
       "</div>"
      ],
      "text/plain": [
       "                       b1_ch1    b2_ch2    b3_ch3    b4_ch4\n",
       "timestamp                                                  \n",
       "2004-03-04 11:32:46  0.062350  0.074028  0.054567  0.042990\n",
       "2004-03-04 11:42:46  0.062518  0.074054  0.054721  0.043004\n",
       "2004-03-04 11:52:46  0.062706  0.074237  0.055029  0.043131\n",
       "2004-03-04 12:02:46  0.062808  0.074393  0.055192  0.043259\n",
       "2004-03-04 12:12:46  0.062820  0.074449  0.055305  0.043286\n",
       "...                       ...       ...       ...       ...\n",
       "2004-04-18 00:02:55  0.108956  0.168623  0.298339  0.177392\n",
       "2004-04-18 00:12:55  0.109467  0.170525  0.303528  0.181849\n",
       "2004-04-18 00:22:55  0.110311  0.174255  0.312075  0.186023\n",
       "2004-04-18 00:32:55  0.111293  0.177152  0.326594  0.189070\n",
       "2004-04-18 00:42:55  0.106252  0.168671  0.313700  0.180213\n",
       "\n",
       "[6299 rows x 4 columns]"
      ]
     },
     "execution_count": 10,
     "metadata": {},
     "output_type": "execute_result"
    }
   ],
   "source": [
    "df1"
   ]
  },
  {
   "cell_type": "markdown",
   "id": "5a0db3f8-5410-4c85-9e84-3656b1612adf",
   "metadata": {},
   "source": [
    "# Nota\n",
    "Hay que asegurarse que el split del dataset se hace bien con usando train_test_split  \n",
    "Tambien he visto una cosa rara con el splitting, la forma en la que hace el pive le da más peso\n",
    "al test set que al train set. Cosa que no entiendo y pienso que no tiene sentido"
   ]
  },
  {
   "cell_type": "code",
   "execution_count": 11,
   "id": "8fa5e231-0257-4b1e-8ae5-40785e0d575a",
   "metadata": {},
   "outputs": [],
   "source": [
    "if DATA_SET_NUMBER == 2:\n",
    "    \n",
    "#X_train, X_test= train_test_split(df1, test_size=0.3, random_state=RANDOM_STATE)\n",
    "    X_train = df1[\"2004-02-12 11:02:39\":\"2004-02-17 23:52:39\"] #set 2\n",
    "    X_test = df1[\"2004-02-17 23:52:39\":] # 2004-02-12 11:02:39 #set 2\n",
    "elif DATA_SET_NUMBER== 3:\n",
    "    X_train = df1[\"2004-04-01 \":\"2004-04-08\"] #set 3\n",
    "    X_test = df1[\"2004-04-08\":] # set 3\n",
    "else:\n",
    "    raise ValueError(\"lol\")"
   ]
  },
  {
   "cell_type": "code",
   "execution_count": 12,
   "id": "ccc32d50-33ed-45c7-9c2d-4582bc7f22c7",
   "metadata": {},
   "outputs": [],
   "source": [
    "scaler = preprocessing.MinMaxScaler()\n",
    "X_train = pd.DataFrame(scaler.fit_transform(X_train),\n",
    "                       columns = X_train.columns,\n",
    "                       index = X_train.index)\n",
    "X_test = pd.DataFrame(scaler.transform(X_test),\n",
    "                      columns = X_test.columns,\n",
    "                      index = X_test.index)"
   ]
  },
  {
   "cell_type": "code",
   "execution_count": 13,
   "id": "33194f77-aa3a-4ae5-994d-8cde24aa647c",
   "metadata": {},
   "outputs": [
    {
     "data": {
      "text/plain": [
       "array([[ 0.06255597, -0.04113064,  0.01457736,  0.03783582],\n",
       "       [-0.04113064,  0.05255521, -0.01403508, -0.04394947],\n",
       "       [ 0.01457736, -0.01403508,  0.03563414,  0.01782128],\n",
       "       [ 0.03783582, -0.04394947,  0.01782128,  0.05425019]])"
      ]
     },
     "execution_count": 13,
     "metadata": {},
     "output_type": "execute_result"
    }
   ],
   "source": [
    "n_comp = 4\n",
    "pca = PCA(random_state = RANDOM_STATE,svd_solver ='full',n_components = n_comp)\n",
    "labels = [f\"PCA{i}\" for i in range(1,n_comp+1)]\n",
    "X_train_PCA = pca.fit_transform(X_train)\n",
    "X_train_PCA = pd.DataFrame(X_train_PCA,index =X_train.index,columns = labels )\n",
    "pca.get_covariance()"
   ]
  },
  {
   "cell_type": "code",
   "execution_count": 14,
   "id": "f9301e04-e091-4f58-8bcf-d428834d4961",
   "metadata": {},
   "outputs": [
    {
     "data": {
      "text/plain": [
       "array([[ 0.06255597, -0.04113064,  0.01457736,  0.03783582],\n",
       "       [-0.04113064,  0.05255521, -0.01403508, -0.04394947],\n",
       "       [ 0.01457736, -0.01403508,  0.03563414,  0.01782128],\n",
       "       [ 0.03783582, -0.04394947,  0.01782128,  0.05425019]])"
      ]
     },
     "execution_count": 14,
     "metadata": {},
     "output_type": "execute_result"
    }
   ],
   "source": [
    "X_test_PCA = pca.transform(X_test)\n",
    "X_test_PCA = pd.DataFrame(X_test_PCA,index = X_test.index,columns = labels)\n",
    "pca.get_covariance()"
   ]
  },
  {
   "cell_type": "code",
   "execution_count": 19,
   "id": "d6cfaa3d-82fc-4e41-8ecd-9dbf8a194396",
   "metadata": {},
   "outputs": [
    {
     "data": {
      "application/vnd.jupyter.widget-view+json": {
       "model_id": "b0c52e80631242748ed72bd5cdc7f8e1",
       "version_major": 2,
       "version_minor": 0
      },
      "text/html": [
       "\n",
       "            <div style=\"display: inline-block;\">\n",
       "                <div class=\"jupyter-widgets widget-label\" style=\"text-align: center;\">\n",
       "                    Figure\n",
       "                </div>\n",
       "                <img src='data:image/png;base64,iVBORw0KGgoAAAANSUhEUgAAAoAAAAG4CAYAAADVDFZ+AAAAOXRFWHRTb2Z0d2FyZQBNYXRwbG90bGliIHZlcnNpb24zLjQuMywgaHR0cHM6Ly9tYXRwbG90bGliLm9yZy/MnkTPAAAACXBIWXMAAA9hAAAPYQGoP6dpAAAy3klEQVR4nO3deXgUdYLG8bdzmIMcQERDIEjABFERmVFBLiUEEHEAMSOwHDroIOL6sMisEnVUVAQBURdEFJRDkCPIEjAKGoMcA3KDCeE2YEKCQIAkSA6Srv2DtYeImgOS6qK+n+fpZ7qqUtVvpRh4/f2qux2GYRgCAACAbXiYHQAAAAA1iwIIAABgMxRAAAAAm6EAAgAA2AwFEAAAwGYogAAAADZDAQQAALAZCiAAAIDNUAABAABshgIIAABgMxRAAAAAm6EAAgAA2AwFEAAAwGYogAAAADZDAQQAALAZCiAAAIDNUAABAABshgIIAABgMxRAAAAAm6EAAgAA2AwFEAAAwGYogAAAADZDAQQAALAZCiAAAIDNUAABAABshgIIAABgMxRAAAAAm6EAAgAA2AwFEAAAwGYogAAAADZDAQQAALAZCiAAAIDNUAABAABshgIIAABgMxRAAAAAm6EAAgAA2AwFEAAAwGYogAAAADZDAQQAALAZCiAAAIDNUAABAABshgIIAABgMxRAAAAAm6EAAgAA2AwFEAAAwGYogAAAADZDAQQAALAZCiAAAIDNUAABAABshgIIAABgMxRAAAAAm/EyO4CVOZ1OZWVlKTAwUA6Hw+w4AACgAgzDUH5+vsLCwuThYc+xMArgZcjKylJ4eLjZMQAAQBVkZGSoYcOGZscwBQXwMgQGBkq68AcoKCjI5DQAAKAi8vLyFB4e7vp33I4ogJfhl2nfoKAgCiAAABZj59u37DnxDQAAYGMUQAAAAJuhAAIAANgMBRAAAMBmKIAAAAA2QwEEAACwGQogAACAzVAAAQAAbIYCCAAAYDMUQAAAAJuhAAIAANgMBRAAAMBmbFEACwsL9frrr5dZl5GRoalTp2rVqlV66623TEoGAABQ87zMDlATjhw5onHjxumjjz6Sr6+viouLddttt+n9999XaGiodu7cqaSkJMXExJgdtYzGoxPNjmBLh8f3MDsCAADVyhYjgD/99JOysrKUnp6u7du365133tG2bdsUGhoqSQoLC1NycrLJKQEAAGqGLQpgx44dFRwcLElKSEjQAw88oIKCAtf2wMBAnTx5stzjFBUVKS8vr8wDAADAamxRAH+xf/9+hYSEyOFwqKSkxLW+pKREhmGUu/+4ceMUHBzseoSHh1dnXAAAgGphqwL45ptvqlWrVpIkf39/OZ1OSVJ+fr5CQkLK3T8uLk65ubmuR0ZGRrXmBQAAqA62eBPIL/71r3+5poJjYmKUlZWlhg0bKjMzU9HR0eXu7+PjIx8fn+qOCQAAUK1sVQC9vb3l7e0tSZo8ebLmzp2rqKgo+fr6qmvXrianAwAAqBm2KoApKSmu5yEhIRo5cqQkqUcPPvYDAADYh63uAQQAAAAFEAAAwHYogAAAADZDAQQAALAZCiAAAIDNUAABAABshgIIAABgMxRAAAAAm6EAAgAA2AwFEAAAwGYogAAAADZDAQQAALAZCiAAAIDNUAABAABshgIIAABgMxRAAAAAm6EAAgAA2AwFEAAAwGYogAAAADZDAQQAALAZCiAAAIDNUAABAABshgIIAABgMxRAAAAAm6EAAgAA2AwFEAAAwGYogAAAADZDAQQAALAZCiAAAIDNUAABAABshgIIAABgMxRAAAAAm6EAAgAA2AwFEAAAwGYogAAAADZDAQQAALAZCiAAAIDNeJkdoKZkZ2frs88+080336zCwkK1aNFCCQkJioyMVGpqqkaNGmV2RAAAgBphmwI4dOhQLVq0SOfPn9fgwYMVGBioSZMmKTQ0VDt37lRSUpJiYmLMjgkAAFDtbDEFvHbtWgUEBMjf31/BwcGKj4/X2rVrFRoaKkkKCwtTcnKyySkBAABqhi1GAFNTU+Xp6al169YpJSVFLVq0UEFBgWt7YGCgTp48We5xioqKVFRU5FrOy8urlrwAAADVyRYFsKCgQMXFxerQoYPatGmjqKgolZSUuLaXlJTIMIxyjzNu3DiNGTOmOqMCAABUO1tMAYeHhysqKkqS5O3t7SqETqdTkpSfn6+QkJByjxMXF6fc3FzXIyMjo1pzAwAAVAdbFMBOnTrp+PHjki6M9tWqVUuxsbHKysqSJGVmZio6Orrc4/j4+CgoKKjMAwAAwGpsMQVcr149de7cWR9//LGOHz+uefPmKSoqSnPnzlVUVJR8fX3VtWtXs2MCAADUCIdRkZvf8Jvy8vIUHBys3NzcahkNbDw68YofE+U7PL6H2REAANWouv/9tgJbTAEDAADg3yiAAAAANkMBBAAAsBkKIAAAgM1QAAEAAGyGAggAAGAzFEAAAACboQACAADYDAUQAADAZiiAAAAANmOJArhhwwb16NFDzz//vCRp2bJl2rlzp7mhAAAALMoSBXDTpk1KTEzUvffeK0nq3bu3MjIyzA0FAABgUZYogE2bNpUkORwO17rMzEyz4gAAAFial9kBKiI9PV0TJkxQYWGhzp07p9WrV+uGG24wOxYAAIAlWWIEcMSIEWrQoIFSU1O1cOFCdejQQSNHjjQ7FgAAgCVZYgTwzJkzCg0N1eLFiyVJa9asUUFBgfz8/ExOBgAAYD2WGAGMj4/XvHnzXMsdO3bUihUrTEwEAABgXZYogPXq1dOsWbNcyw6HQ15elhi8BAAAcDuWKIBbtmzRnj17XMspKSnauHGjiYkAAACsyxLDaCNGjNCQIUO0bt06ORwOtW7dWnPmzDE7FgAAgCVZogBed911+vzzz1VQUCCn06latWopJyfH7FgAAACWZIkCKEm7du1Sfn6+DMOQJM2ZM0czZ840ORUAAID1WKIADho0SIWFhQoMDJQkGYahTZs2mZwKAADAmixRAHv16qXY2Ngy69atW2dSGgAAAGuzxLuA69evf8k9fz/++KNJaQAAAKzNEiOAo0eP1u7duxUQECBvb285nU5lZ2drwIABZkcDAACwHEsUwHbt2mnNmjXy8Pj3gOX48eNNTAQAAGBdliiAF5e90tJSrVmzRt27dzcxEQAAgHVZogBK0jfffKOsrCxJktPp1MKFC/Xhhx+anAoAAMB6LFEAX3jhBWVkZKi0tFRRUVE6duyYevXqZXYsAAAAS7JEAWzWrJnGjh2r2bNn69FHH5UkrVq1ytxQAAAAFmWJj4EJCQnR+++/r8DAQP3P//yPTp06xQdBAwAAVJElCmCTJk106NAhde3aVVlZWYqKipKfn5/ZsQAAACzJYfzy5boWc+bMGdWuXdvUDHl5eQoODlZubq6CgoKu+PEbj0684sdE+Q6P72F2BABANaruf7+twG3vAVy4cKE6deqka6+9Vp9++ukl2z/77DMtW7as5oMBAABYnNtOAX/77bfKzs6Wp6en3nvvPZWWlsowDBmGIafTqfPnz5sdEQAAwJLcdgRw+vTpruezZs1S8+bNy2y/6667KnW8oUOHaty4cfrhhx+UkZGhO++8UwkJCYqMjFRqaqpGjRp1RXIDAAC4O7cdAbzYG2+8oXXr1pVZ9+tCWJ7t27erZcuWmjNnjv7yl78oLi5OsbGx6tatm0pKSpSUlHQlIwMAALgtSxTAtm3bql27dmXWrVy5slLHGDlypDIzMzV16lR5e3tr7dq1Cg0NlSSFhYUpOTn5iuUFAABwZ247BXyxo0eP6v7771ezZs107bXXyul06uuvv9Z9991X4WMcOXJEX375pXbv3q0uXbqooKDAtS0wMFAnT54s9xhFRUUqKipyLefl5VXuRAAAANyAJQpgWlqann32WXl5XYhrGIYOHTpUqWM8//zzkqQWLVro4YcfVklJiWtbSUmJKvJpOOPGjdOYMWMq9boAAADuxhJTwB988IGio6PVsWNHtW3bViUlJRoxYkSF909ISNDLL78sSbr++uuVkpIif39/OZ1OSVJ+fr5CQkLKPU5cXJxyc3Ndj4yMjKqdEAAAgIksMQJYr149HTx4UNnZ2ZIkb29vffrpp/rzn/9cof2DgoIUGxsr6cJUcJs2bRQWFqasrCw1bNhQmZmZio6OLvc4Pj4+8vHxqfqJAAAAuAFLFMAJEyYoMTFRPj4+atCggY4dO6ZHHnmkwvt36tRJM2bMUEpKitLS0jRjxgwFBgZq7ty5ioqKkq+vr7p27VqNZwAAAOA+LFEAa9eurTVr1mjevHkaOHCgJOmLL76o1DH+/ve/X7Ju5MiRkqQePfjqLwAAYB+WuAcwIiJCiYmJ8vT01PLlyyVJBw8eNDkVAACANVmiAAYGBmr27Nnq0qWLFixYoNq1a+vw4cNmxwIAALAkt50CPnPmjGrXri1JatOmjeLj4yVJCxYs0NmzZxUQEGBiOgAAAOty2xHAZ5999ne3Uf4AAACqzm0L4IYNGzRt2jQtWrRIZ8+eNTsOAADAVcNtp4AXLFigFi1aKC8vTytWrNDZs2fVqFEjdenSRR4ebttbAQAA3J7bFsAWLVpIuvAhzv3795ckZWRkaM6cOcrMzFTPnj3VsmVLMyMCAABYktsWwF87cuSI5s+fr08++URnzpxRcXExBRAAAKAK3HIutbS0VEuWLFFubq5mzJihjh07qkWLFtqzZ4/eeecdHT16VK+99prZMQEAACzJLUcAPT09NXToUBUXF6t9+/YaOnSoHnzwQdWqVcvsaAAAAJbnlgVQkjp27Kjp06crNDTU7CgAAABXFbecApakF154gfIHAABQDdy2AN55551mRwAAALgquW0BBAAAQPWgAAIAANgMBRAAAMBmLFsAp0yZYnYEAAAAS3LLj4GZNGmSFi5cqJCQEBmGocLCQp07d871OYA5OTkqKCjQ008/bXJSAAAA63HLAnj99ddr9erVCgwMlCQtWrRIffv2dW0vLi7WsmXLTEoHAABgbW5ZAAcNGlRm2dfXt8zyNddco6CgoJqMBAAAcNWwxD2Au3fv1g8//OBaPnbsmLZt22ZiIgAAAOtyyxHAX3viiSf02GOPafPmzXI4HGrZsqVmzZpldiwAAABLskQBDAkJ0Weffaaff/5ZXl5e8vb2lre3t9mxAAAALMkSU8DLli3Tgw8+qMmTJ8vf319JSUlat26d2bEAAAAsyRIF8MSJE1q+fLnatm0rSerevbvy8vJMTgUAAGBNliiAISEhkiSHw+Fat3fvXrPiAAAAWJol7gE8ffq0hg8fLofDobS0NK1Zs0Z9+vQxOxYAAIAlWaIAPvbYY7rpppuUkJCgY8eOafTo0brrrrvMjgUAAGBJliiAktSuXTu1a9fOtfzFF1/o/vvvNzERAACANVmiAK5cuVLTp0/X2bNnZRiGDMPQvn37dPToUbOjAQAAWI4lCmBiYqLGjh3r+m5gp9Opd9991+RUAAAA1mSJAhgbG6tbbrmlzLonn3zSpDQAAADWZokCePDgQX3zzTdq3LixvL29ZRiG4uPjtWLFCrOjAQAAWI4lPgfw/ffflyRlZmYqPT1d6enpOnnypMmpAAAArMkSI4DTp0/XHXfcUWZdr169TEoDAABgbW47AlhYWOh6/uvyJ0nbtm2ryTgAAABXDbcdAbzllls0depUdenSRXXr1tWf/vQneXh4yOFwyOl0Ki0tTY899pjZMQEAACzHbQtgSkqK/P39JUlTpkzRI488UmZ7fHx8lY777rvvqm/fvjp//rwSEhIUGRmp1NRUjRo16rIzAwAAWIHbTgH/Uv4klSl/paWlSk5OVt26dSt9zFOnTumDDz5QUVGR4uLiFBsbq27duqmkpERJSUlXJDcAAIC7c9sRwIvl5OTo7bffVnZ2tqQLHwSdn5+vzp07V+o4ycnJru8QXrt2rUJDQyVJYWFhSk5OVkxMzJUNDgAA4IYsUQBff/11tWjRQr6+vurQoYOOHTumhg0bVuoYP/zwg2688UY5HA5JUkFBgWtbYGBghT5WpqioSEVFRa7lvLy8SmUAAABwB247BXyxe+65R0OGDFFoaKjat2+vvn37Vrp87dy5U7fffrtruaSkpMxzwzDKPca4ceMUHBzseoSHh1cqAwAAgDuwRAE8d+6c+vbtqyZNmujRRx/V0qVLlZCQUOH9t2/ffslHyfj7+8vpdEqS8vPzFRISUu5x4uLilJub63pkZGRU7kQAAADcgCWmgHv16qWgoCDde++9Onv2rObOnauhQ4dWeP+DBw/qwIED2rhxo1JTU7VixQrdfvvtysrKUsOGDZWZmano6Ohyj+Pj4yMfH5/LORUAAADTWaIA1qpVSw888IAkqWfPnurZs6d27dpV4f0ffvhhSRfeBHL69GmVlpZq7ty5mjt3rqKiouTr66uuXbtWS3YAAAB34zAqcvNbDSspKdG4ceP+8GdWrVql9evXV/q4np6eKi0tlaenp+sNIVWVl5en4OBg5ebmKigo6LKO9Vsaj0684sdE+Q6P72F2BABANaruf7+twC1HAL28vPTdd9/pv//7v+Xh8du3KR48eLBKx734fwEAAOzIbZvQrFmzdN111/3u9ptvvrkG0wAAAFw93PZdwBeXv7Nnz+rJJ59U/fr11aBBA40cOVIBAQEmpgMAALAuty2AF3vxxRfVqlUrrV+/Xrt27VLr1q312muvmR0LAADAktx2Cvhibdq0Ub9+/VzL/fr1k6+vr4mJAAAArMsSI4ClpaWXrPP29nY9X758eU3GAQAAsDRLjAC+//77euutt1SnTh1J0qlTp+RwODR58mQ5nU7t3r1bx48fNzklAACANViiAN5666167rnn5Onpeck2wzD01ltvmZAKAADAmixRAF988UU1bNiwzLqUlBS1aNFCkjRx4kQzYgEAAFiS298DaBjGJe/4LS0tLbOO7+cFAACoOLcvgJK0ceNGzZs3T5KUlpamLl26KC0tzeRUAAAA1uT2U8AOh0Pff/+9Tp8+rZ49e+rcuXP65JNP/vBbQgAAAPD73L4AStKgQYOUkZGhAQMGKDIyUlu3bpVhGOrdu7fZ0QAAACzHEgVw9+7dSkhIUHh4uCQpJydH99xzDwUQAACgCtz+HkCn06lXX33VVf4kKSQkRC+99JKJqQAAAKzLbUcAjxw5oszMTB0/flw9evSQJJ04cULJyck6duyYGjVqZHJCAAAAa3LbEcC77rpLpaWl6tWrl6655hpJUr169dS3b1/1799f//jHP0xOCAAAYE1uOwL497//XR07dtSJEyeUkpIih8MhSWrTpo2uu+469e/f3+SEAAAA1uS2I4C/fPNHvXr1dMstt+i1115TRESE/Pz8JEn169c3Mx4AAIBluW0B9PD4d7Trr79esbGxaty4sWvdLyOCAAAAqBy3nQKeN2+ejh496lretm2bfvrpJ9fy6tWrNXz4cDOiAQAAWJrbFsDz58/Lw8PDNdJ31113ubYZhqGSkhKzogEAAFia2xbA55577g8/6LlFixY1FwYAAOAq4rb3AJb3LR99+vSpmSAAAABXGbctgAAAAKgeFEAAAACbcdsCuGfPnjLvAgYAAMCV4bYFcNq0adq9e7ckacOGDZdsT09Pr+lIAAAAVwW3LYD169dX7dq1lZGRoeTkZGVkZLgeP/74o6ZOnWp2RAAAAEty24+BGTBggN59912dOXNGe/bsUXp6ugzDkHThcwA3btyot956y+SUAAAA1uO2BfCGG27Q5MmTJUlr1qzRPffcU2b7mjVrzIgFAABgeW5bAC92zz33aPv27YqPj9f58+fVp0+fSwohAAAAKsYSBXDRokVav369WrZsKafTqVmzZunAgQN65JFHzI4GAABgOZYogKWlpZoyZYpreejQoZoxY4aJiQAAAKzLbd8FfDFfX99L1vn4+JiQBAAAwPosMQJ48uRJjR8/Xq1atZJhGNq6dasCAgLMjgUAAGBJliiAQ4cO1fLlyzVnzhyVlpaqT58+6tu3r9mxAAAALMkSBVCSevbsqZ49e1ZpX6fTqc8++0z16tVTUlKS7r//foWHhyshIUGRkZFKTU3VqFGjrnBiAAAA92SZAng5du/erZkzZ2rVqlXKzc3V22+/LR8fH02aNEmhoaHauXOnkpKSFBMTY3ZUAACAameJN4FcrhYtWmjx4sWSpP3796tXr15au3atQkNDJUlhYWFKTk42MyIAAECNsUUBlKSAgAAtW7ZMZ8+e1cCBA1VQUODaFhgYqJMnT5Z7jKKiIuXl5ZV5AAAAWI1lCuCOHTu0ZcsWSdKuXbsqvb+np6d69+6tu+++Ww899JBKSkpc20pKSlzfM/xHxo0bp+DgYNcjPDy80jkAAADMZokCOHHiRC1dulRbt26VJNWpU0dLly6t8P67du1SfHy8JKlt27ZaunSpCgsL5XQ6JUn5+fkKCQkp9zhxcXHKzc11PTIyMqpwNgAAAOayxJtAIiIiFBsbq6+++kqS1KhRI+3cubPC+2/evNk1XZuTk6P69eurS5cuysrKUsOGDZWZmano6Ohyj+Pj48MHUAMAAMuzxAjg6dOnJUkOh0PShSnbTZs2VXj/wYMHKzAwUEuXLtX06dMVHx+vyZMnKz4+XomJifL19VXXrl2rJTsAAIC7cRgVufnNZOvXr1dcXJwk6dprr1V6ero+/vhj/elPfzI1V15enoKDg5Wbm6ugoKArfvzGoxOv+DFRvsPje5gdAQBQjar7328rsMQUcPv27ZWYmKj169fL09NT7dq146vgAAAAqsgSU8DPPPOMgoKCdP/996tbt24KCAjQ0aNH1b9/fz322GPat2+f2REBAAAswxIFsGnTpvrb3/6mVq1a6bnnnlNpaaleeuklPfXUU/roo4+0fv16syMCAABYhiWmgLOysjRhwgQFBgZq7969mj9/vnbv3q3bbrtN0oWPhQEAAEDFWGIEsHHjxqpXr558fX116623qqioSIWFha4bN7OyskxOCAAAYB2WGAEMCwvTnXfeKT8/PwUHB6t79+5q1aqVpk6dqlatWqmoqMjsiAAAAJZhiQLYo0cPde/eXbm5uWWmezdt2qSUlBSNGDHCxHQAAADWYokCKEkeHh6qU6eOSktLtWbNGv3www96/PHH1bp1a7OjAQAAWIolCuDWrVv1X//1X8rOzpZhGHI4HPrLX/5idiwAAABLskQBjI+P19y5c7Vjxw499NBDys7OrtR3AQMAAODfLPEu4C5duqhJkybKzc3V6dOnVb9+fd74AQAAUEWWGAE8efKk6tevry+++EK9e/dWy5YtdfLkSfXu3dvsaAAAAJZjiRHAfv366cCBA2rVqpVmz56tqKgojRs3zuxYAAAAlmSJAlhYWKiAgABJUnFxsTp06KDw8HCTUwEAAFiTJQrgrFmzXM+bNWum8PBwzZgxw8REAAAA1uW29wCmpqYqJSVFkrR582bVrl3bte3cuXPasWOHSckAAACszW0LYLNmzXT+/HlNnTpVJ06c0IEDB1zbgoOD9cILL5iYDgAAwLrctgB6e3urVatWmjJlir7//nu1adPG7EgAAABXBbe/B9Df3/83y9/kyZNNSAMAAGB9bjsCeLFXX31Vc+bMkcPhkGEYcjqdys7O1jPPPGN2NAAAAMuxRAGsU6eODh06VGbdvHnzTEoDAABgbW4/BSxJN9988yXrGjduXPNBAAAArgKWGAH88ssvNWbMGDVu3Fje3t5yOp3atGmT0tLSzI4GAABgOZYogOnp6XrllVfk5XUhrmEYKi0tNTkVAACANVmiAE6fPl316tUrs+6WW24xKQ0AAIC1WeIewAMHDqhHjx56/vnnJUnLli1TZmamyakAAACsyRIFcNOmTUpMTNS9994rSerdu7cyMjLMDQUAAGBRliiATZs2lSQ5HA7XOkYAAQAAqsYS9wCmp6drwoQJKiws1Llz57R69WrdcMMNZscCAACwJEuMAI4YMUINGjRQamqqFi5cqA4dOmjkyJFmxwIAALAkS4wAnjlzRqGhoVq8eLEkac2aNSooKJCfn5/JyQAAAKzHEiOA8fHxZb76rWPHjlqxYoWJiQAAAKzLEgWwXr16mjVrlmvZ4XC4PhQaAAAAlWOJArhlyxbt2bPHtZySkqKNGzeamAgAAMC6LDGMNmLECA0ZMkTr1q2Tw+FQ69atNWfOHLNjAQAAWJIlCmDt2rX1+eefq6CgQE6nU7Vq1TI7EgAAgGVZogDGxMRozJgx6tSpU5WP8fHHH8vT01MbN27Uk08+qbp16yohIUGRkZFKTU3VqFGjrmBiAAAA92WJewCHDRum1q1bl1k3Y8aMCu+/YcMGNWnSRI888ogeffRRDRkyRHFxcYqNjVW3bt1UUlKipKSkKx0bAADALVmiAC5btkyNGjVSy5Yt1blzZ3Xq1En//Oc/K7z/kSNHFB8fL0mKjIzUvn37tHbtWoWGhkqSwsLClJycXC3ZAQAA3I0lpoAjIiJ0/PhxeXj8u6+OHz++wvv/9a9/Vffu3SVJa9euVUxMjP71r3+5tgcGBurkyZPlHqeoqEhFRUWu5by8vApnAAAAcBeWGAF88803tWvXLm3ZskWStGvXLo0ePbrC+3t5eal27doqKirSjBkzNH36dJWUlLi2l5SUyDCMco8zbtw4BQcHux7h4eGVPxkAAACTWaIATpw4UUuXLtXWrVslSXXq1NHSpUurdJz33ntPoaGh8vf3l9PplCTl5+crJCSk3P3j4uKUm5vremRkZFQ6AwAAgNksUQAjIiL02muvqWnTppKkRo0aVfqbQOLj4/Uf//EfioiI0MqVKxUTE6OsrCxJUmZmpqKjo8s9ho+Pj4KCgso8AAAArMYS9wCePn1a0oWvgJMuTNlu2rRJPXv2rND+3333nZ566ikFBwfLMAzdeOONmj9/vubOnauoqCj5+vqqa9eu1ZYfAADAnViiADZv3lwdOnSQJE2bNk3p6en6+OOPK7x/mzZtdPz48UvWjxw5UpLUo0ePKxMUAADAAixRANu3b6/ExEStX79enp6eateunQICAsyOBQAAYEluXQA3btyobdu2qWfPnmrUqJHuv/9+syMBAABYntu+CWT+/Pnq1auXZs2apfbt2/OOWwAAgCvEbQvgunXrdOzYMW3btk2bN2/W4sWLzY4EAABwVXDbAnjjjTe6vvkjNDRUdevWNTkRAADA1cFtC6Cfn1+Z5V+/6WPBggVlvs0DAAAAFeO2bwKZNm2aNm/e7Fo+dOiQlixZIkkyDEM7duxQ//79zYoHAABgWW5bAG+44QZFR0e7Pvy5c+fOZbaXlJTI6XS6pokBAABQMW5bAEeNGnVJ6btY06ZNKYAAAABV4LYF8I/KnyS1a9euhpIAAABcXRg+AwAAsBkKIAAAgM1QAAEAAGyGAggAAGAzFEAAAACboQACAADYDAUQAADAZiiAAAAANkMBBAAAsBkKIAAAgM247VfBAVerxqMTzY5gW4fH9zA7AgC4BUYAAQAAbIYCCAAAYDMUQAAAAJuhAAIAANgMBRAAAMBmKIAAAAA2QwEEAACwGQogAACAzVAAAQAAbIYCCAAAYDMUQAAAAJuhAAIAANgMBRAAAMBmKIAAAAA2QwEEAACwGQogAACAzXiZHaCmZGdnq7CwUBEREcrIyFBCQoIiIyOVmpqqUaNGmR0PAACgxthiBHDJkiV68skntXbtWklSXFycYmNj1a1bN5WUlCgpKcnkhAAAADXHFiOAsbGx2r17t2t57dq1Cg0NlSSFhYUpOTlZMTExZsUDcJVoPDrR7Ai2dXh8D7MjAJZiiwL4awUFBa7ngYGBOnnyZIX2KyoqUlFRkWs5Ly/vimcDAACobraYAv61kpKSMs8Nw6jQfuPGjVNwcLDrER4eXl0RAQAAqo0tC6C/v7+cTqckKT8/XyEhIRXaLy4uTrm5ua5HRkZGdcYEAACoFracAo6JiVFWVpYaNmyozMxMRUdHV2g/Hx8f+fj4VHM6AACA6mWLArhy5Upt2LBBBw8eVEREhCZPnqy5c+cqKipKvr6+6tq1q9kRAQAAaowtCmBMTIzuu+8+GYYhp9MpT09PjRw5UpLUowfvHAMAAPZii3sAvbwu9FyHwyFPT0+T0wAAAJjLFgUQAAAA/0YBBAAAsBkKIAAAgM1QAAEAAGyGAggAAGAzFEAAAACboQACAADYDAUQAADAZiiAAAAANkMBBAAAsBkKIAAAgM1QAAEAAGyGAggAAGAzFEAAAACboQACAADYDAUQAADAZiiAAAAANkMBBAAAsBkKIAAAgM1QAAEAAGzGy+wAAAC4u8ajE82OYEuHx/cwO8JVixFAAAAAm6EAAgAA2AwFEAAAwGYogAAAADZDAQQAALAZCiAAAIDNUAABAABshgIIAABgMxRAAAAAm6EAAgAA2AwFEAAAwGYogAAAADZDAQQAALAZCiAAAIDNUAABAABsxsvsAGaaOXOmGjVqpAMHDqh9+/Zq2bKl2ZEAAACqnW1HAA8cOKDt27era9euGjp0qOLi4syOBAAAUCNsWwCTk5PVsGFDSZK3t7cOHTqkc+fOmZwKAACg+tl2CvjkyZMKCAhwLfv5+enMmTPy9/f/3X2KiopUVFTkWs7NzZUk5eXlVUtGZxGF1AzVdT1/wXU1D9f26sW1vTpV13X95biGYVTL8a3AtgVQkkpKSso8L+8Pwrhx4zRmzJhL1oeHh1/xbDBP8DtmJ0B14dpevbi2V6fqvq75+fkKDg6u3hdxU7YtgPXq1VNWVpZr+dy5c6pdu/Yf7hMXF6dnnnnGtex0OnXq1CmFhITI4XBUV1TLycvLU3h4uDIyMhQUFGR2HFxBXNurE9f16sW1/W2GYSg/P19hYWFmRzGNbQtg586d9eabb0qSiouLFRERoVq1av3hPj4+PvLx8SmzrrzSaGdBQUH8hXOV4tpenbiuVy+u7aXsOvL3C9sWwKZNmyo6OlrLly/X4cOHNXnyZLMjAQAA1AjbFkBJ6tevn9kRAAAAapxtPwYG1cfHx0cvv/zyJdPlsD6u7dWJ63r14tri9zgMO78HGgAAwIYYAQQAALAZCiAAAIDNUAABAABshgIIAABgMxRAAAAAm7H15wCi8jZu3KiXXnpJtWvX1kMPPaQzZ85o9+7deuWVVxQSEqLjx49rypQpatasmerUqSOn06l169ZpwoQJrmNs2LBBbdu2NfEs8Fsu59ru3btXq1evVlFRkY4fP6433njD7NPB/7uc67plyxYVFBQoJydH69at08SJE+Xp6Wn2KeH/XYm/j3/++We9/fbbevHFF008E5jCACrplVdeMaZOnepafv/9943BgwcbZ86cMe644w4jOzvbte3o0aNGy5YtDcMwjLS0NGPu3LlG48aNazoyKqiq1/b11193re/WrZuxfPnyGsuM8lX1uj788MPG2rVrDcMwjNtvv91ITU2t0dwoX1Wv7S+mTZtmPProozUVF26EKWBctoYNG+r777/XG2+8ob/+9a8KDQ11bQsLC1OfPn0kSc2bN9egQYPMiokqqOi1jY+P148//ihJioyM1L59+0zJi4qp6HWdMWOG2rVrp4KCAvn5+al58+ZmRUYFVfTaSlJWVpbtvw/XziiAuGwbNmzQwIEDtW7dOt16662XbH/++edNSIUroaLXNikpSY0aNZIkrV+/Xp07d67RnKicil7XoKAgpaena8yYMZo5c6Y8PPgnw91V5u/jjRs3ql27djUZD26EewBRJSkpKVq5cqVycnLUunVr9erVS0uWLNHZs2cv+VkvL/6YWUlVru21114rSZo7d6769eunVq1a1WhmlK+q/59t2rSpxo8fry5duujVV1/V3XffXZOxUQFVubZpaWm/WRBhH/znHKokMjJS9913nwYMGKBevXpJkjp06KBdu3Zd8rNLly6t6Xi4DFW9tmlpaTpx4oSee+65GsuKiqvKdZ04caJyc3MlSS1atNCCBQtqLjAqrCrXdt++fWrWrFmN5oR7oQDiinn++ee1atUqZWdnu9YVFBSYmAhXSnnX9tSpU9qwYYNGjRolSVq1alWNZ0TllXddly9frqKiIklSTk6Obr755hrPiKr5o2t77NgxZWdna9GiRVq4cKHS09P17bffmpQUZmFuDpWybds2fffdd/Lz81N0dHSZqb7atWsrMTFRU6ZM0U033aSAgACVlpaqd+/ekqQjR44oKSlJJ06c0KJFixQdHa169eqZdCb4tcu5toMHD9bevXv15ptvqrCwULNnzzbnJHCJy7muY8eOVXJyspxOp0JCQvT444+bdBb4LVW9tp6enho+fLiOHTum77//XsXFxfL19TXxTGAGh2EYhtkhYB0lJSXy8PCQYRgyDKNS9/c5nU45HA45HI4yz+EeLufawn1xXa9el3ttnU6nnE6nPDw85HQ6+bNhMxRAAAAAm+EeQAAAAJuhAAIAANgMBRAAAMBmKIAAAAA2QwEEAACwGQogAFs4f/682REAwG3woT8AKiUpKUlvvfWWjhw5oieffFKFhYU6cOCAOnbsqIEDB/7ufi1bttT//u//qkmTJpV+zfnz52vdunWaPn16lTKPGjVK27dv1+rVq3/3Z7KysjRhwgRFRESoTp06cjgc8vHxUUREhO68884qva672bp1q+644w6zYwBwAxRAAJUSExOjzMxMffPNN3r66aclSaWlpQoNDVVERITatWv3m/tNmjRJDRs2rNJrRkdHq3nz5lXOPGnSJEVHR//u9oMHD6p3795KSkpSaGioJCk/P1933HGHPv744yq/rjvJycnRqlWrKIAAJDEFDKAKfv0NLp6engoPD9e2bdt+d59OnTrJ29u7Sq9Xv359tWjRokr7Spfm/bUnnnhCzz//vKv8SVJgYKCeffbZKr+mOykuLtY777xjdgwAboQRQACX7dixYzp+/Lh69uypzZs3a9iwYXr66ae1e/duNWnSROHh4Ro2bJg2bNig4uJiPfHEE+rSpYvuuusurV27Vo0aNdJjjz0mSUpMTNSePXt000036dSpU4qNjdWQIUPk5+enWbNm6cUXX9SSJUv0wgsvyMfHR+vXr9fo0aMVFhamtLQ0/fDDD8rJydG+ffs0duzYcstfbm6uVq9erU8//fSSbb1793bdO/jBBx8oJCRERUVF8vT0VL9+/bRq1Sr953/+pyZMmKC6detqzpw5GjJkiM6fP6/du3crJydHL7/8srZu3arhw4erdevWiomJ0f79+xUUFKQnnnhCkrR48WIVFxfLz89PJ06c0LBhw7RlyxYNGzZMw4YNU2RkpJYsWaIePXqoe/fukqSZM2eqdu3aysnJ0XXXXafu3btr+PDhKigo0OOPP66MjAxt3bpVU6dO1YEDB3T48GGdOXNG7733nmJjY+Xh4aFPPvlEzZs3165duxQTE8PoIGAnBgBU0uzZs427777bWLhwofHRRx8ZEyZMMA4fPuza/uKLLxpjx441srKyjNTUVMMwDGPQoEGun5k5c6YxYMAAwzAMIy8vz7jtttsMwzCMI0eOGO3btzcMwzDy8/ONyMhIwzAM49ChQ8ajjz5qGIZhlJaWGvXq1TMKCwsNwzCMlStXGt26dTMMwzCeeeYZY+rUqYZhGMbAgQONr776ypXp3nvv/c1z2bp1qyHJKC4u/t3zXbZsmTF27FjX8lNPPWVs2bLF9TozZswwDMMwVqxYYbRt29b1cxEREa7n//znP43Jkye7lu+++25jw4YNxrZt24xhw4a51r/55pvGZ5995vo9vvDCC4ZhGEZKSorRs2dPwzAMY926dcYTTzzh2ueBBx4wzp8/bxw8eNBo2rSp63fz5z//2cjJyTEM48I1e/311137TJs2zfU6qampxo4dO373/AFcfRgBBFAlDRo0UN++fX9zm5eXl5o1a6b69eurfv36ki5ME1+8vXHjxpIuTLXm5+dLkr744gvdfvvtkqSAgADt37//kn09PDxUq1Yt+fj4SJI6dOigXr166eeff9bLL7+sr776SrNmzVJJSYmysrLKPY8bb7xRDodDp06d0vXXX19mW2FhoQoLC7Vw4UINHjzYtb5ly5aKj4/XHXfcccm5RERE/ObreHp6qm7duq7l6OhoLVu2TB4eHrrttttc61u1aqWZM2eqT58+8vLyUoMGDS75PSUkJMjhcGjVqlWufX7++Wd5eXkpNDTU9bsJDAzU2bNny7zuLzp27KguXbroww8/1KBBgzRgwIByf1cArh7cAwigWlx77bV/uP3i+wENw5B04c0kvzyvKH9/f11zzTVyOBx64403lJmZqb/97W9q1qyZpPI//iU4OFj33nuvkpKSLtm2YcMGFRQUXJLL6XSWOe7F5/Jb5/V7r+vp6VmpY//yc56enoqKilK3bt3UrVs3vfrqqwoODr7k538vw969e3Xddddp//79Gj58uGbOnKnPP//8d7MCuPpQAAFUyR+VG8MwLtl+8fJvbZek7t27l3kjyebNm3X27NlLfjY3N1elpaWSpI0bN6pTp07y9/fXjBkzXB9Fc+zYMRmGoTVr1pR7Lh988IHGjh2r7Oxs1zqn06mMjAzVr19fDz74oLZu3eratmXLFvXp0+eSc/n1ef0696lTp1zPk5OT1adPH/Xu3fuSc/69Y//iwQcfLHNeX3zxhYqLi//w9YODg3Xu3DkZhqGsrCx98MEHys3NVc+ePTVhwgTl5OSU+3sCcPVgChhApaxfv17Lli3T999/r/nz518ydbhjxw6tXLlS6enpqlOnjlq2bKlVq1Zpw4YN+vDDDzVkyBAtXrxYp0+f1oMPPqiVK1fqp59+0ieffKJBgwYpLi5OY8eO1c0336yAgAA5nU5NnjxZmzZt0q5du9SyZUv5+fnp888/l5eXl9asWaOPPvpIkvTss89q6tSpat26tXr06KGEhAQ99dRTGj9+vNLS0rR8+XL17NnzknOKjIzU119/rTfeeENNmzZVUFCQHA6Ha4q7f//+mjx5smbPnq3i4mK1a9dO7du317fffquNGzeqtLRU9evX10cffaQtW7Zo7dq1OnLkiLKysjRp0iT94x//kHTh42ZWr16tlJQUDR482PWmi/3792v69Ony8/OTv7+/Bg4c6Po9hoSEqE2bNpo+fbr27t2rzz//XA888ID69OmjiRMn6qabblJQUJCcTqfefvttpaWluUbz0tLSNGXKFL3++uvq1KmTVqxYoRkzZuihhx5Samqqvv76a9WpU0epqamuj/QBYA8Oo7LzLQBsrbi4WB4eHvLy8lJxcbGuueaa3/y5X/5qKe9duFURERGh9PT0K37c6jRmzBg1btxYjzzyiNlRAIARQACVc3Hh+73yJ1VP8fuFFf+79femvQHADNwDCMBSxo4dq6NHj2rWrFlmR6mwHTt26Msvv9SCBQt06NAhs+MAAFPAAAAAdsMIIAAAgM1QAAEAAGyGAggAAGAzFEAAAACboQACAADYDAUQAADAZiiAAAAANvN/uKCRmCAnq7YAAAAASUVORK5CYII=' width=640.0/>\n",
       "            </div>\n",
       "        "
      ],
      "text/plain": [
       "Canvas(toolbar=Toolbar(toolitems=[('Home', 'Reset original view', 'home', 'home'), ('Back', 'Back to previous …"
      ]
     },
     "metadata": {},
     "output_type": "display_data"
    }
   ],
   "source": [
    "#latex:lol\n",
    "%matplotlib widget\n",
    "spree_plot(pca,fig_name=\"lol\")"
   ]
  },
  {
   "cell_type": "code",
   "execution_count": 296,
   "id": "ce09ff39-f95f-4885-b950-5d0d030a4187",
   "metadata": {},
   "outputs": [
    {
     "data": {
      "text/plain": [
       "Text(0, 0.5, 'PC2 - 14.6%')"
      ]
     },
     "execution_count": 296,
     "metadata": {},
     "output_type": "execute_result"
    },
    {
     "data": {
      "application/vnd.jupyter.widget-view+json": {
       "model_id": "9d53af2e8aae44ee9cf2039df732ee14",
       "version_major": 2,
       "version_minor": 0
      },
      "text/html": [
       "\n",
       "            <div style=\"display: inline-block;\">\n",
       "                <div class=\"jupyter-widgets widget-label\" style=\"text-align: center;\">\n",
       "                    Figure\n",
       "                </div>\n",
       "                <img src='data:image/png;base64,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' width=640.0/>\n",
       "            </div>\n",
       "        "
      ],
      "text/plain": [
       "Canvas(toolbar=Toolbar(toolitems=[('Home', 'Reset original view', 'home', 'home'), ('Back', 'Back to previous …"
      ]
     },
     "metadata": {},
     "output_type": "display_data"
    }
   ],
   "source": [
    "fig, ax = plt.subplots()\n",
    "per_var = np.round(pca.explained_variance_ratio_* 100, decimals=1)\n",
    "ax.scatter(X_train_PCA.PCA1, X_train_PCA.PCA2)\n",
    "ax.set_title('My PCA Graph')\n",
    "ax.set_xlabel('PC1 - {0}%'.format(per_var[0]))\n",
    "ax.set_ylabel('PC2 - {0}%'.format(per_var[1]))"
   ]
  },
  {
   "cell_type": "code",
   "execution_count": 297,
   "id": "1cc1b747-03d2-46fa-b462-c517301fe69b",
   "metadata": {},
   "outputs": [],
   "source": [
    "cov_matrix, inv_cov_matrix = get_cov_matrix(X_train_PCA.values)"
   ]
  },
  {
   "cell_type": "code",
   "execution_count": 298,
   "id": "0c71b0e2-74c3-4658-806d-9c949b9f8135",
   "metadata": {},
   "outputs": [],
   "source": [
    "cov_matrix, inv_cov_matrix  = pca.get_covariance()[0:2,0:2], np.linalg.inv(pca.get_covariance()[0:2,0:2])"
   ]
  },
  {
   "cell_type": "code",
   "execution_count": 299,
   "id": "f08d11de-5a57-4ef5-b1b1-8f1878778be2",
   "metadata": {},
   "outputs": [
    {
     "data": {
      "text/plain": [
       "PCA1    3.972002e-18\n",
       "PCA2   -2.767081e-17\n",
       "dtype: float64"
      ]
     },
     "execution_count": 299,
     "metadata": {},
     "output_type": "execute_result"
    }
   ],
   "source": [
    "X_train_PCA.mean(axis = 0)"
   ]
  },
  {
   "cell_type": "code",
   "execution_count": 300,
   "id": "1df83e32-e19c-4f38-bb13-a37ae4856482",
   "metadata": {},
   "outputs": [],
   "source": [
    "dist_test = MahalanobisDist(inv_cov_matrix, X_train_PCA.mean(axis = 0).values, X_test_PCA.values)\n",
    "dist_train = MahalanobisDist(inv_cov_matrix, X_train_PCA.mean(axis = 0).values, X_train_PCA.values)"
   ]
  },
  {
   "cell_type": "code",
   "execution_count": 301,
   "id": "154c41b4-2747-4d25-967e-af9ab382d0ff",
   "metadata": {},
   "outputs": [
    {
     "data": {
      "text/plain": [
       "<seaborn.axisgrid.FacetGrid at 0x7fde2e670d00>"
      ]
     },
     "execution_count": 301,
     "metadata": {},
     "output_type": "execute_result"
    },
    {
     "data": {
      "application/vnd.jupyter.widget-view+json": {
       "model_id": "864b14ee998b49a3ab4befe093572dea",
       "version_major": 2,
       "version_minor": 0
      },
      "text/html": [
       "\n",
       "            <div style=\"display: inline-block;\">\n",
       "                <div class=\"jupyter-widgets widget-label\" style=\"text-align: center;\">\n",
       "                    Figure\n",
       "                </div>\n",
       "                <img src='data:image/png;base64,iVBORw0KGgoAAAANSUhEUgAAAfQAAAH0CAYAAADL1t+KAAAAOXRFWHRTb2Z0d2FyZQBNYXRwbG90bGliIHZlcnNpb24zLjQuMywgaHR0cHM6Ly9tYXRwbG90bGliLm9yZy/MnkTPAAAACXBIWXMAAA9hAAAPYQGoP6dpAABWY0lEQVR4nO3deXhU5cH+8e9kskP2PRBCgIQtAREQBZVFjETEfcEVqrW1rhSpv1Lbim2Vtu/r0lfUWusuiCuirCI7ApZFCDthTYCEkBCy7zm/P1KmpuwwyTMzuT/XdS4zM2fO3ImaO8/ZHptlWRYiIiLi1rxMBxAREZELp0IXERHxACp0ERERD6BCFxER8QAqdBEREQ+gQhcREfEAKnQREREPoEIXERHxACp0ERERD6BCFxER8QAqdBEREQ+gQhcREfEAKnQREREPoEI/BcuyKCkpQZPRiYiIO1Chn0JpaSkhISGUlpaajiIiInJGKnQREREPoEIXERHxACp0ERERD6BCFxER8QAqdBEREQ+gQhcREfEAKnQREREPoEIXERHxACp0ERERD6BCFxER8QAqdBEREQ+gQhcREfEAKnQREREPoEIXERHxACp0ERERD6BCFxER8QAqdBEREQ+gQhcREfEALlfokydPpn///gQFBREdHc2NN97Ijh07mqxjWRaTJk0iPj6egIAAhgwZwpYtW5qsU11dzWOPPUZkZCRt2rTh+uuv58CBAy35rYiIiLQYm2VZlukQPzZixAhGjx5N//79qaur4+mnn2bTpk1s3bqVNm3aAPCXv/yF5557jnfffZeUlBT+9Kc/sWzZMnbs2EFQUBAAv/jFL/j666959913iYiI4Mknn+To0aOsW7cOu91+xhwlJSWEhIRQXFxMcHBws37PIp4mOzubgoIC0zFOEBkZSYcOHUzHEGkelovLz8+3AGvp0qWWZVlWQ0ODFRsba/35z392rFNVVWWFhIRYf//73y3Lsqxjx45ZPj4+1vTp0x3rHDx40PLy8rLmzZt3Vp9bXFxsAVZxcbETvxsRz7d//34rIDDAAlxuCQgMsPbv32/6RyTSLLyb8W8FpyguLgYgPDwcgL1795KXl0d6erpjHT8/PwYPHszKlSv5+c9/zrp166itrW2yTnx8PKmpqaxcuZJrrrnmhM+prq6murra8bikpKS5viURj1ZQUEBlRSU3/eYmohKjTMdxOLL/CDOen0FBQYFG6eKRXLrQLcti/PjxXH755aSmpgKQl5cHQExMTJN1Y2Ji2L9/v2MdX19fwsLCTljn+Pv/2+TJk3n22Wed/S2ItFpRiVHEpcSZjiHSarjcSXE/9uijj5KZmclHH310wms2m63JY8uyTnjuv51unYkTJ1JcXOxYcnJyzj+4iIhIC3PZQn/sscf46quvWLx4Me3bt3c8HxsbC3DCSDs/P98xao+NjaWmpoaioqJTrvPf/Pz8CA4ObrKIiIi4C5crdMuyePTRR/niiy9YtGgRSUlJTV5PSkoiNjaWBQsWOJ6rqalh6dKlDBw4EIC+ffvi4+PTZJ3c3Fw2b97sWEdERMSTuNwx9EceeYRp06Yxc+ZMgoKCHCPxkJAQAgICsNlsjBs3jueff57k5GSSk5N5/vnnCQwM5K677nKs+8ADD/Dkk08SERFBeHg4EyZMIC0tjeHDh5v89kRERJqFyxX666+/DsCQIUOaPP/OO+8wduxYAJ566ikqKyt5+OGHKSoqYsCAAXzzzTeOa9ABXnrpJby9vbn99tuprKzkqquu4t133z2ra9BFRETcjcsVunUW97mx2WxMmjSJSZMmnXIdf39/XnnlFV555RUnphMREXFNLncMXURERM6dCl1ERMQDqNBFREQ8gApdRETEA6jQRUREPIAKXURExAOo0EVERDyACl1ERMQDqNBFREQ8gApdRETEA6jQRUREPIAKXURExAOo0EVERDyACl1ERMQDqNBFREQ8gApdRETEA6jQRUREPIAKXURExAOo0EVERDyACl1ERMQDqNBFREQ8gApdRETEA6jQRUREPIAKXURExAOo0EVERDyACl1ERMQDeJsOICKtk2VZlNWUYfey42f3w+5lNx1JxK2p0EWkRRVUFLDqwCp2Fu6krKYMAG8vb3pE9aB/fH/aB7c3nFDEPanQRaRF1DfUsyJnBcv3L6feqgfAhg0Li7qGOjIPZ5J5OJOBCQO5KukqvGw6IihyLlToItLsautr+WTrJ+w6uguALmFduLT9pXQM7YjNZuNQ6SHWHFxDZn4mK3NWcqjkEHem3Ymv3ddwchH3oUIXkWZVU1/DtE3T2F+8H28vb65PuZ7U6FRsNptjnfbB7Wkf3J6ukV2ZuWMm+4r38fnWz7kj9Q6N1EXOkv5PEZFmY1kWX2z7gv3F+/Gz+3Fvr3tJi0lrUuY/1iOqB/ek3YO3lzc7j+5kTtacFk4s4r5U6CLSbBbtXcSOwh3YbXbu6XUPHUI6nPE9CSEJ3NL9FmzYWJe7jm1HtrVAUhH3p0IXkWaxv2o/K3JWAHB91+vP6ez1bpHdGJQwCIBZWbMorylvlowinkSFLiLOFwjLipcBMKDdAHrF9DrnTQzuOJjoNtFU1FYwd9dcZycU8TgqdBFxKsuyYCRUNlQSFRjF8E7Dz2s73l7e3Nj1RmzY2HJkC9nF2U5OKuJZVOgi4lTLDi+Dno3XmN/U7Sa8vc7/Ypq4oDj6xPUB4Jvd3zT+sSAiJ6VCFxGnqayt5H83/y8Avdv0Ji4o7oK3OSRxCD5ePhwsPcjWI1sveHsinkqFLiJO85fv/sKhykNQDH3a9nHKNoP8ghiYMBCAxfsWa5QucgoqdBFxipziHP7y3V8aH8wHHy8fp237svaX4e/tT2FlIdsLtzttuyKeRIUuIk7xzJJnqKqrom9EX3DynnE/bz/6x/cH4Lvs7zRKFzkJFbqIXLDN+Zt5b+N7ADze/fFm+YwB7Qbg7eXNwdKD7Du2r1k+Q8SduVyhL1u2jFGjRhEfH4/NZuPLL79s8rrNZjvp8j//8z+OdYYMGXLC66NHj27h70Sk9Zi4cCINVgO39riV1LDUZvmMNr5t6BPbeFx+1YFVzfIZIu7M5Qq9vLyc3r17M2XKlJO+npub22R5++23sdls3HLLLU3We/DBB5us98Ybb7REfJFW5/sD3zNr5yzsNjvPDXuuWT9rQLsBAGQdzeJY1bFm/SwRd+Nys61lZGSQkZFxytdjY2ObPJ45cyZDhw6lU6dOTZ4PDAw8YV0Rcb5nlz4LwL297yUlIoX1+9c322dFBEbQKawTe4r2sPbQ2vO+aY2IJ3K5Efq5OHz4MLNnz+aBBx444bWpU6cSGRlJz549mTBhAqWlpafdVnV1NSUlJU0WETm91QdWM3fXXOw2O7+94rct8pnHT477Ie8H6hrqWuQzRdyBy43Qz8V7771HUFAQN998c5Pn7777bpKSkoiNjWXz5s1MnDiRjRs3smDBglNua/LkyTz77LPNHVnEo/xh6R8AuK/3fXQO79win5kSkUKwXzAl1SVsPbL1vO4TL+KJ3HqE/vbbb3P33Xfj7+/f5PkHH3yQ4cOHk5qayujRo/nss8/49ttvWb/+1LsCJ06cSHFxsWPJyclp7vgibi3zcCZzd83Fy+bFb674TYt9rpfNi4tjLwZgQ96GFvtcEVfntoW+fPlyduzYwU9/+tMzrnvxxRfj4+NDVlbWKdfx8/MjODi4ySIip/bCqhcAuKX7LXQJ79Kin907tjcAe4/t1clxIv/mtoX+1ltv0bdvX3r37n3Gdbds2UJtbS1xcRd+X2kRgQMlB5i2aRoAvxr4qxb//FD/UJJCkwDYeHhji3++iCtyuUIvKytjw4YNbNiwAYC9e/eyYcMGsrP/M3ViSUkJn3766UlH57t37+YPf/gDa9euZd++fcyZM4fbbruNPn36MGjQoJb6NkQ82t9W/426hjquTLyS/u36G8nQO6bxj/mNeRt15zgRXLDQ165dS58+fejTp/EGEuPHj6dPnz78/ve/d6wzffp0LMvizjvvPOH9vr6+LFy4kGuuuYauXbvy+OOPk56ezrfffovdbm+x70PEUxVXFfPGusb7OpgYnR/XPao7vnZfiqqKNFe6CC54lvuQIUPO+Nf2z372M372s5+d9LWEhASWLl3aHNFEBHhz/ZuU1pTSPbI71yZfayyHr92X7pHd2Xh4I5uPbCYxNNFYFhFX4HIjdBFxXTX1Nby8+mUAJgycgJfN7K+Q1OjG28xuO7KNBqvBaBYR01ToInLWpm+ezsHSg8S2jeXutLtNxyEpNAl/b3/Ka8vZf2y/6TgiRqnQReSsWJbF/678XwAev+Rx/Lz9DCcCu5ed7pHdAdhyZIvhNCJmqdBF5KzM3z2fTfmbaOPThof6PWQ6jkPPqJ4AbCvQbndp3VToInJW/mdl4xTFD178IGEBYYbT/EdSWBIB3gFU1FZonnRp1VToInJG63PXs2jvIuw2O+MuHWc6ThNeNi+6R2m3u4gKXUTO6Pix89t73u6Sl4c5drsf2UZ9Q73hNCJmqNBF5LT2H9vPJ1s+AczeSOZ0OoZ2JNAnkMq6Su12l1ZLhS4ip/XS6peot+q5Kukq+sT1MR3npLxsXjrbXVo9FbqInFJRZRH/XP9PwHVH58f9+Gx37XaX1kiFLiKn9Pe1f6e8tpy06DTSO6ebjnNaiaGJtPFpQ1VdlXa7S6ukQheRk6quq+b//vV/QONtXm02m+FEp+dl86JrZFcAthduN5xGpOWp0EXkpD7M/JC8sjzaBbVjdOpo03HOSteIxkLfWbhTU6pKq6NCF5ETNFgN/O+qxkvVxl06Dl+7r+FEZycpNAkfLx9KqkvILcs1HUekRanQReQEs3fOZnvBdoL9gvlZ35NPVeyKfOw+dA7vDMCOgh2G04i0LBW6iDRhWRaTV0wG4Od9f06wX7DhROfm+G73HYUqdGldVOgi0sSK7BWsOrAKX7svv7z0l6bjnLOUiBRs2DhcfpiiyiLTcURajApdRJr483d/BmBs77HEBcUZTnPuAn0C6RDSAdAoXVoXFbqIOGQezmRO1hy8bF78apBr30jmdH58trtIa6FCFxGHv3z3FwBu7XErXcK7GE5z/o5fj77v2D4qaysNpxFpGSp0EQFgT9Eepm+eDsD/G/T/DKe5MOEB4UQFRmFhkXU0y3QckRahQhcRAF5Y+QINVgPpndO5OO5i03Eu2PFRuo6jS2uhQhcRcktzeXvD2wD8etCvDadxjm4R3QDYdXQXdQ11htOIND8VuogwecVkquqquKz9ZQzpOMR0HKeID4qnrW9bauprNFmLtAoqdJFWLqc4hzfWvQHAH4f+0eUnYTlbNpvNcbb79gJN1iKeT4Uu0so9t/w5auprGJw4mGFJw0zHcSpN1iKtiQpdpBXbU7SHt354C/Cs0flxSWGNk7WU1pRypPaI6TgizUqFLtKK/XHZH6lrqCO9czpXJF5hOo7TeXt5O66n31+933AakealQhdppXYW7uT9je8DjaNzT+W4yUzVPrNBRJqZCl2klZq0ZBINVgPXpVzHJe0uMR2n2aSEN07WUlRXBGGm04g0H2/TAUTk/GVnZ1NQUHDO79tctJmPNn8EwJ2xd7J+/XqnZdq2bZvTtuUMAT4BJIYksq94H3Q1nUak+ajQRdxUdnY23bp3o7LiPO5Vfj/QAdgAd0+628nJGpWVlTXLds9H18iujYXezXQSkeajQhdxUwUFBVRWVHLTb24iKjHqrN+3u3I3C48txNvmzR3pd9Amo41Tc2V9n8XitxdTVVXl1O1eiK4RXZm/ez50gGM1x0zHEWkWKnQRNxeVGEVcytnNW15TX8P0NY0TsAzqMIguHZ0/o1pB9rkfAmhuYQFhhHuHc7TuKCsOr2AYnnW9vQjopDiRVmXJviWUVJcQ6h/KoIRBpuO0qET/RACW5i01nESkeajQRVqJvLI8Vh9YDcC1Xa7Fx+5jOFHL6ujXEYBVR1ZRVec6hwNEnEWFLtIK1DfU89WOr7Cw6B7ZneSIZNORWlykTySUQGV9JQv3LDQdR8TpVOgircDy7OXkluXi7+1PRpcM03GMsNls8O+p0WfumGk2jEgzUKGLeLhDpYdYtn8ZANcmX0uQX5DhRAb9e9K1r3d+TYPVYDaLiJOp0EU8WGVtJZ9u/RQLix5RPUiNSjUdyax90Ma7DXllefzr4L9MpxFxKhW6iIeyLIsvd3zJsapjhPqHcl3ydR43m9o5q4eB0QMBmLldu93Fs+g6dJFzVFVXxfrc9ew+upsjFUdosBpo69uW9sHt6RbZjU5hnfCymf9becm+Jews3IndZuf2HrcT4BNgOpJLGBI7hAWHFvD5ts95/qrn9UeOeAyXK/Rly5bxP//zP6xbt47c3FxmzJjBjTfe6Hh97NixvPfee03eM2DAAFavXu14XF1dzYQJE/joo4+orKzkqquu4rXXXqN9+/Yt9W2Ih6moreDzrZ/zfub7LN23lNqG2lOuGxkYyZCOQ7i5283c0O0GAn0CWzBpo3W561iW3XjcfGTySOKCzu7GM63B5dGX42f3I+toFpvzN5MWk2Y6kohTuFyhl5eX07t3b37yk59wyy23nHSdESNG8M477zge+/r6Nnl93LhxfP3110yfPp2IiAiefPJJrrvuOtatW4fdbm/W/OJZaupr+Of6f/LHZX8kryzP8XxMmxhSo1OJbhON3ctOaXUp+47tY0fhDgoqCvhs62d8tvUzgnyDuKXHLdzb616GdBzSIiP3zfmbmb1zNgBXdLiCPnF9mv0z3Ulbn7Zc0+UavtrxFZ9t/UyFLh7D5Qo9IyODjIzTX1bj5+dHbGzsSV8rLi7mrbfe4oMPPmD48OEAfPjhhyQkJPDtt99yzTXXOD2zeKZNhzdxz4x7yDycCUBiSCIP9HmA0amj6RLe5aS7amvqa1hzcA3zds1j6qap7D22l3c3vMu7G96la0RXHr3kUcb0HtNsZ5pvyNvguN78otiLGNpxaLN8jru7tfutjYW+7TOeHfqs6TgiTmH+QN95WLJkCdHR0aSkpPDggw+Sn5/veG3dunXU1taSnp7ueC4+Pp7U1FRWrlx5ym1WV1dTUlLSZJHW6421b9DvzX5kHs4kIiCCV699lZ2P7eR3g39HckTyKY+7+tp9GdRhEH8c9kd2P76b5T9Zzs8u/hlBvkHsKNzBY3Mfo92L7Xh87uPsLNzptLwNVgML9yxk5o6ZWFhcHHcxo1JG6fjwKYzqOgofLx+2HtnK1iNbTccRcQq3K/SMjAymTp3KokWLeOGFF1izZg3Dhg2juroagLy8PHx9fQkLC2vyvpiYGPLy8k62SQAmT55MSEiIY0lISGjW70NcU31DPePnj+eh2Q9RU1/DdSnXseXhLTzc/2F87b5n3sCP2Gw2Lu9wOW+MeoOD4w/ySsYrdI3oSmlNKa/86xW6TulKxtQM5mTNuaBrokvqSvgw80NW5KwAYGD7gVyXfJ1LnJjnqkL9Q0nv3PhH/+dbPzecRsQ53O7/+DvuuIORI0eSmprKqFGjmDt3Ljt37mT27NmnfZ9lWacdrUycOJHi4mLHkpOT4+zo4uLqG+oZO3MsL61+CYA/Df0TX43+ipi2MRe87SC/IB695FG2PrKV+ffM57qU67BhY96ueYycNpKuU7ry8uqXOVp59Ky3ebT6KAyFT498yt5je/Hx8uGW7rdwdeerNTI/C7f2uBWAz7Z9ZjiJiHO43DH0cxUXF0diYiJZWVkAxMbGUlNTQ1FRUZNRen5+PgMHDjzldvz8/PDz82v2vOKaGqwGHvjqAT7M/BBvL28+uOkDRqeOdvrneNm8SO+cTnrndHYf3c1ra17jrR/eYtfRXfxy/i+Z8M0Erky8kuGdhnNZ+8tIiUghtm0sdi871XXV7Du2jzWH1jA7azZfbP0CBkM99SSFJjEyeSQRgRFOz+ypru96Pd5e3mQezmRn4U5SIlJMRxK5IG5f6IWFheTk5BAX13hZTt++ffHx8WHBggXcfvvtAOTm5rJ582b++te/mowqLuypBU/x3sb3sNvsfHTLR47R249lZ2dTUODcub7vjrqbm4fdzJwDc/hs/2fsLNnJ4n2LWbxvsWMdGza8bF7UW/UnbuAgDO85nIG9BmpUfo7CA8K5Kukq5u+ez+dbP2fiFRNNRxK5IC5X6GVlZezatcvxeO/evWzYsIHw8HDCw8OZNGkSt9xyC3Fxcezbt4/f/OY3REZGctNNNwEQEhLCAw88wJNPPklERATh4eFMmDCBtLQ0x1nvIj/2xto3eGHVCwC8d+N7pyzzbt27UVlR2bxhwoAUIAFoB4SA5WX9p8yrgQJgN40TjRyE6BeiVebn6dYetzJ/93w+2/aZCl3cnssV+tq1axk69D+X2owfPx6AMWPG8Prrr7Np0ybef/99jh07RlxcHEOHDuXjjz8mKOg/lwG99NJLeHt7c/vttztuLPPuu+/qGnQ5wbL9y3hkziMA/HHoH7m7190nXa+goIDKikpu+s1NRCVGtVi+BquBqoYqLCzsNjt+Nj9sHW3QD7K+z2Lx24upqtLc3ufrxm438tCsh1ifu549RXvoFNbJdCSR8+ZyhT5kyBAsyzrl6/Pnzz/jNvz9/XnllVd45ZVXnBlNPMzhssOM/mw09VY9d6XdxdNXPH3G90QlRhGX4hp3XSvIdu7u/9YoMjCSoUlD+XbPt3yy5RN+ffmvTUcSOW9ud5a7iDM0WA3cM+Mecsty6RHVg39c9w/ttm6l7uh5BwBTN001nETkwqjQpVX62+q/8e2ebwn0CeTT2z6ljW8b05HEkFt73Iqv3ZfN+ZsddwUUcUcqdGl1th3ZxsSFjSdAvZj+Ij2iehhOJCaF+ocyMnkkAFMzNUoX96VCl1alrqGOMV+Oobq+mhFdRvCzvj8zHUlcwN1pjSdDfrT5owu6a5+ISSp0aVWm/GsKaw6tIdQ/lH+O+qeOmwsAI1NGEuIXQk5JDsv2LzMdR+S8qNCl1cgpzuG3i34LwF+H/5V2we0MJxJX4e/tz209bgPg3Q3vmg0jcp5U6NJqPD7vccpryxmUMIgHLn7AdBxxMT/p8xMAPt36KaXVpYbTiJw7Fbq0Ct/u+ZYvt3+Jt5c3b1z3hmYikxNc1v4yukZ0paK2gk+2fGI6jsg502818Xj1DfU8+c2TADzc72F6Rvc0nEhckc1m4ycXNY7S397wtuE0IudOhS4e7+0f3ibzcCZh/mH8fvDvTccRF3Zf7/uw2+yszFnJ9oLtpuOInBMVuni00upSfru48US43w/+vaYXldOKC4rj2uRrgcZJe0Tcicvdy13EmdOUTtk2hfzyfDq06cBl3pexfv3689rOtm3bnJJHXN/D/R/m651f8+7Gd3nuqucI9Ak0HUnkrKjQxaU4dZrSUOBRwBuy/5nNpb+69II3WVZWdsHbENeW3jmdTmGd2FO0h+mbp3N/n/tNRxI5Kyp0cSnOnKZ0UdEidlXtIt43npG/HHlBN5HRVKWth5fNi4f6PsRT3z7Fa2teU6GL21Chi0u60GlKj5QfYVfuLgCuS72OuKALm/JUU5W2Lj/p8xN+t/h3rMtdx8qclQxMGGg6ksgZ6aQ48UjLs5cD0C2i2wWXubQ+kYGRjvu7v7DqBcNpRM6OCl08TkFFAZvzNwNwZeKVhtOIuxp/2XgAZmybwa6juwynETkzFbp4nGX7l2Fh0TWiq0bnct56Rvcko0sGFhYvr37ZdByRM1Khi0cprCh0jM4HJw42nEbc3YSBE4DGmxPll+cbTiNyeip08SjLshtH5ykRKRqdywUb2nEo/eP7U1lXyf+u/F/TcUROS4UuHqOwopBNhzcBGp2Lc9hsNiYNmQTAq2te1ShdXJoKXTzG8uzljaPz8BTig+JNxxEPkdElg/7x/amordAoXVyaCl08wtHKo2QezgRgcEeNzsV5fjxKn/KvKRwoOWA2kMgpqNDFIxw/sz05PFmjc3G6jC4ZXNHhCirrKvntot+ajiNyUip0cXtNRuc6di7NwGaz8b/pjbvb39/4Pj/k/mA4kciJVOji9o4fO+8S3oV2we1MxxEPdUm7S7gz9U4sLH45/5dYlmU6kkgTKnRxa0crj7IxbyOg0bk0v8lXTSbAO4Cl+5fy/sb3TccRaUKFLm7NMToP60L74Pam44iHSwxN5NkhzwLw5DdPUlChSXvEdajQxW0VVRbpzHZpceMuHUevmF4UVhbyxLwnTMcRcVChi9tanr2cBquBzmGdNTqXFuNj9+HNUW9it9mZtmkaH236yHQkEUCFLm7qWNUxNh7WsXMx45J2l/DbKxsvX/vF7F+w/9h+w4lEVOjipn48Ok8ISTAdR1qh3175Wy5tfynF1cXc/tntVNdVm44krZwKXdzOsapjbMjbAGh0LuZ4e3kz7eZphPmH8a+D/+KROY/oUjYxSoUubuf46LxTaCeNzsWopLAkpt86HS+bF2/98BZ/+/5vpiNJK6ZCF7fSZHSuM9vFBaR3Tucvw/8CwPj54/l488eGE0lrpUIXt7IiewUNVgNJoUl0COlgOo4IAE9e9iSP9n8UC4t7Z9zLvF3zTEeSVkiFLm6juKqYH/Ia76GtY+fiSmw2Gy+PeJnbetxGbUMtN0y/gTlZc0zHklZGhS5u4/ix86TQJBJDE03HEWnC7mVn6s1Tubn7zdTU13DTxzcxffN007GkFVGhi1vQ6FzcgY/dh+m3TOe2HrdRU1/DnZ/fyZ9X/Flnv0uLUKGLW1iR03jsvGNoR43OxaX52H346JaP+OWlvwRg4sKJPDTrIeoa6gwnE0+nQheXV1xV7Jh/WqNzcQd2LzsvXvMi/zfi/7Bh4x/r/8F1067jWNUx09HEg7lcoS9btoxRo0YRHx+PzWbjyy+/dLxWW1vL//t//4+0tDTatGlDfHw89913H4cOHWqyjSFDhmCz2Zoso0ePbuHvRJxl6f6l1Fv1JIUm0TG0o+k4ImftsQGPMeOOGQR4BzB/93wuefMSth3ZZjqWeCiXK/Ty8nJ69+7NlClTTnitoqKC9evX87vf/Y7169fzxRdfsHPnTq6//voT1n3wwQfJzc11LG+88UZLxBcnK6wodFx3PrTjULNhRM7DDd1u4Lv7v6NDSAeyjmYx4J8DmLl9pulY4oG8TQf4bxkZGWRkZJz0tZCQEBYsWNDkuVdeeYVLLrmE7OxsOnT4z3XJgYGBxMbGNmtWaX5L9y/FwiI5PFl3hRO31SeuD2sfXMvtn93Okn1LuPHjG5k0eBK/G/w7vGwuN64SN+X2/yUVFxdjs9kIDQ1t8vzUqVOJjIykZ8+eTJgwgdLSUjMB5bzll+ezKX8TAMOShhlOI3JhotpE8c093/DYJY8BMGnpJG755BZKq/W7SZzD5Ubo56Kqqopf//rX3HXXXQQHBzuev/vuu0lKSiI2NpbNmzczceJENm7ceMLo/seqq6uprv7PbEklJSXNml3ObPHexQD0iOpBbFvtbRHn2LbN7DHssTFjCe8dzvObnufL7V/S9+99mX3PbJIjko3mEvfntoVeW1vL6NGjaWho4LXXXmvy2oMPPuj4OjU1leTkZPr168f69eu5+OKLT7q9yZMn8+yzzzZrZjl7R2qOsL1wOzZsDEkcYjqOeICyo2UA3HPPPYaT/Fs74A7IIot+/+jHx7d9zIguI0ynEjfmloVeW1vL7bffzt69e1m0aFGT0fnJXHzxxfj4+JCVlXXKQp84cSLjx493PC4pKSEhQcdsTflX6b8A6BXTi6g2UYbTiCeoKqsCYOjDQ0nu7Rqj4Zz9OczNmUtJQgnXTr2WyVdN5qlBT2Gz2UxHEzfkdoV+vMyzsrJYvHgxERERZ3zPli1bqK2tJS4u7pTr+Pn54efn58yocr6S4WDNQew2u647F6cLaxdGXMqpfxe0uL/ATW/exIzsGfx64a/ZXbSbv1/3d50sJ+fM5Qq9rKyMXbt2OR7v3buXDRs2EB4eTnx8PLfeeivr169n1qxZ1NfXk5eXB0B4eDi+vr7s3r2bqVOncu211xIZGcnWrVt58skn6dOnD4MGDTL1bclZqm2ohWsavx7QbgBhAWFmA4k0t3p4utfTDE8dzmNzH+PN9W9SVVfF2ze8jbeXy/2KFhfmcv+1rF27lqFD/3O98fHd4GPGjGHSpEl89dVXAFx00UVN3rd48WKGDBmCr68vCxcu5G9/+xtlZWUkJCQwcuRInnnmGex2e4t9H3J+Pt//OUSCv5c/VyReYTqOSIuw2Ww83P9hwgPCueeLe/gg8wOq6qqYevNUfOw+puOJm3C5Qh8yZMhpJzI40yQHCQkJLF261NmxpAUUVRbxjx3/AKBf2374e/sbTiTSskanjsbf25/bP72dT7d+SlVdFZ/e9il+3jocKGemgzTiMv647I8U1xZDPnQL7GY6jogRN3a7kZmjZ+Lv7c/XO79mzJdjqG+oNx1L3IAKXVxCVmEWU/7179v9zkcnBEmrlpGcwczRM/Hx8uHjLR/zxLwnNAWrnJF+a4pxlmXx6NxHqW2oZVD0INhtOpGIeemd0/ngpg+wYePVNa/y8uqXTUcSF6dCF+OmbprKN7u/wc/ux4SeE0zHEXEZd6TewQvpLwAwYcEEZu+cbTiRuDIVuhhVUFHAL+f/EoDfD/49Hdp2OMM7RFqXcZeO46d9fkqD1cCdn9/JzsKdpiOJi1Khi1Hj54+noKKAtOg0fjXwV6bjiLgcm83GqyNf5YoOV1BaU8ptn95GZW2l6VjiglToYsw3u7/hg8zGY4RvjnpT19uKnIKv3Zfpt04nuk00mYczeXTOo6YjiQtSoYsRFbUVPDTrIQAeu+QxBrQfYDiRiGuLD4pn2s3T8LJ58faGt/l86+emI4mLcbkby0jr8KtvfsXeY3tJCE7gT8P+ZDqOiFFnO6VrGGGM6TyGd3a9wwNfPkDbY22J8m+eyYsiIyPp0EHntLgTFbq0uNk7Z/Pa2sYpb9+6/i2C/IIMJxIx47ymdLUDD0BxfDEjXhsBU5snW0BgANu3bVepuxEVurSovLI87v/qfgB+eekvubrz1YYTiZhzvlO6FtUW8UXBF9Qn1zP0paEkBzp3Otgj+48w4/kZFBQUqNDdiApdWkx9Qz13fn4n+eX5pEWn8fxVz5uOJOISznVK1zjiKNxfyKJ9i1hdvpq+PfrSxrdNMyYUd6CT4qTFPLPkGZbsW0Jb37Z8etunmnxF5AIMTBhITJsYKusq+Wb3N6bjiAtQoUuL+GzrZzy3/DkA3hz1Jl0juxpOJOLe7F52RqWMAiAzP5Ps4mzDicQ0Fbo0uzUH13DfjPsAeGLAE4xOHW04kYhnaBfcjovjLgZgTtYcGqwGw4nEJBW6NKuc4hyun349lXWVXJt8reO+1CLiHFclXYW/tz+Hyw+z7tA603HEIBW6NJuymjKun349eWV5pEan8tEtH2H3spuOJeJRAn0CGdpxKABL9i+huq7acCIxxWmF3qlTJwoLC094/tixY3Tq1MlZHyNuora+ljs/v5MNeRuIbhPNrDtnEewXbDqWiEfqG9eXiIAIKmor+C7nO9NxxBCnFfq+ffuor68/4fnq6moOHjzorI8RN1DfUM+9M+5l1s5Z+Nn9mDl6JomhiaZjiXgsu5ed4Z2GA7DqwCpKqksMJxITLvg69K+++srx9fz58wkJCXE8rq+vZ+HChXTs2PFCP0bcRIPVwINfP8jHWz7Gx8uHL+74gkvbX2o6lojH6xrRlYTgBHJKcli6f6njDHhpPS640G+88UagcYq/MWPGNHnNx8eHjh078sILOhHKFWVnZ1NQUOC07VmWxV83/5VP9n2CF1481+c5YktjWb9+/Vlv42zvaS0iTdlsNoZ3Gs47G95hQ94GLk+4nLCAMNOxpAVdcKE3NDReJpGUlMSaNWuIjIy84FDS/LKzs+nWvRuVFU6cV3k4cDlgQcOMBp6a9NR5b6qsrMxpsURaiw4hHegc1pndRbtZlr2MG7reYDqStCCn3fp17969ztqUtICCggIqKyq56Tc3EZV44bM1rStdx7qyxktmrgi9gu6PdD+v7WR9n8XitxdTVVV1wZlEWqMhHYewu2g3G/M2ckWHKwgPCDcdSVqIU+/lvnDhQhYuXEh+fr5j5H7c22+/7cyPEieJSow6p3tIn8zKnJWsy20s82s6X3NBx8wLsp13CECkNWof3J7k8GSyjmaxInsF13e93nQkaSFOO8v92WefJT09nYULF1JQUEBRUVGTRTzTmkNrWLBnAQBDOw7VCXAiLuCKDlcAsPHwRoqrig2nkZbitBH63//+d959913uvfdeZ21SXFzm4UzmZM0B4PKEy7ky8UrDiUQEICEkgY4hHdlXvI9VB1YxossI05GkBThthF5TU8PAgQOdtTlxcbuO7mLmjpkAXNLuEoYlDTOcSER+7PIOlwOwLncd5TXlhtNIS3Baof/0pz9l2rRpztqcuLADJQf4ZMsnNFgNpEWnMaLzCGw2m+lYIvIjncI6Edc2jrqGOtbmrjUdR1qA03a5V1VV8Y9//INvv/2WXr164ePj0+T1F1980VkfJQYVVBQwbdM0ahtq6RzWmRu63qAyF3FBNpuNS9tfyoztM1h7aC2XJ1yuuRQ8nNMKPTMzk4suugiAzZs3N3lNv/A9Q1lNGR9mfkhlXSXxQfHc3vN2/YIQcWE9o3qyYM8CymrK2HpkK2kxaaYjSTNyWqEvXrzYWZsSF1TfUM8nWz6huLqY8IBw7kq9C1+7r+lYInIadi87/eL6sWT/Er4/+L0K3cNp+lQ5K3N2zSGnJAc/ux93pd5FG982piOJyFnoG98Xu83OwdKDHCg5YDqONCOnjdCHDh162l3rixYtctZHSQvLPJzJ+tzG+7Hf0v0WIgIjDCcSkbPV1rctqdGpbDy8ke8Pfk/74PamI0kzcdoI/aKLLqJ3796OpUePHtTU1LB+/XrS0rSbx10VVhQyO2s2AIMTB5MckWw4kYicqwHtBgCw9chWTa3qwZw2Qn/ppZdO+vykSZM00Yabqm+o54vtX1BTX0NiSKJuHCPipuKC4ugQ0oHs4mzWHlqr+0Z4qGY/hn7PPffoPu5uamXOSg6VHsLf25+bu9+Ml02nXIi4q+Oj9HW566hrqDOcRppDs/+GXrVqFf7+/s39MeJkR8qPsHT/UgBGdBlBsF+w4UQiciG6RXYj2C+YitoKthdsNx1HmoHTdrnffPPNTR5blkVubi5r167ld7/7nbM+RlqAZVl8vfNr6q16ksOT6RXdy3QkEblAXjYvLoq5iGXZy/gh9wdSo1NNRxInc1qhh4SENHns5eVF165d+cMf/kB6erqzPkZaQGZ+JjklOfjafRmZPFI3BhLxEBfFNhb6nmN7OFZ1jFD/UNORxImcVujvvPOOszYlBlXXVfPtnm+BxikYQ/xDzvAOEXEXYQFhJIUmsffYXn7I+4GhHYeajiRO5LRCP27dunVs27YNm81Gjx496NOnj7M/QprR8uzllNWUER4QrrnNRTxQn7g+7D22lw15GxicOFgnu3oQpxV6fn4+o0ePZsmSJYSGhmJZFsXFxQwdOpTp06cTFRXlrI+SZlJSXcLqA6sBSO+UjreX0//eExHDukd2x9/bn5LqEvYU7aFLeBfTkcRJnPan2WOPPUZJSQlbtmzh6NGjFBUVsXnzZkpKSnj88cfPejvLli1j1KhRxMfHY7PZ+PLLL5u8blkWkyZNIj4+noCAAIYMGcKWLVuarFNdXc1jjz1GZGQkbdq04frrr+fAAd3y8EyW7V9GvVVPh+AOpESkmI4jIs3A28ubXjGNJ7r+kPeD4TTiTE4r9Hnz5vH666/TvXt3x3M9evTg1VdfZe7cuWe9nfLycnr37s2UKVNO+vpf//pXXnzxRaZMmcKaNWuIjY3l6quvprS01LHOuHHjmDFjBtOnT2fFihWUlZVx3XXXUV9ff/7foIcrqixy/M89LGmYToQT8WB9YhsPhW4v2E5FbYXhNOIsTtun2tDQcMIc6AA+Pj40NDSc9XYyMjLIyMg46WuWZfHyyy/z9NNPOy6Te++994iJiWHatGn8/Oc/p7i4mLfeeosPPviA4cOHA/Dhhx+SkJDAt99+yzXXXHMe353nW7Z/GQ1WA53DOpMYmmg6jog0o9i2scS1jSO3LJfMw5k6X8ZDOG2EPmzYMJ544gkOHTrkeO7gwYP88pe/5KqrrnLKZ+zdu5e8vLwml8H5+fkxePBgVq5cCTSelFdbW9tknfj4eFJTUx3rSFPFVcVk5mcC6KxXkVaiT1zjKF273T2H0wp9ypQplJaW0rFjRzp37kyXLl1ISkqitLSUV155xSmfkZeXB0BMTEyT52NiYhyv5eXl4evrS1hY2CnXOZnq6mpKSkqaLK3FqgOraLAa6BjakXbB7UzHEZEWkBadht1mJ788n8Nlh03HESdw2i73hIQE1q9fz4IFC9i+fTuWZdGjRw/Hbm9n+u/ju5ZlnfGY75nWmTx5Ms8++6xT8rmTqoYq1h9unBp1UMIgw2lEpKX4e/uTHJHM9oLtbMrfREzbmDO/SVzaBY/QFy1aRI8ePRwj2quvvprHHnuMxx9/nP79+9OzZ0+WL19+wUEBYmNjAU4Yaefn5ztG7bGxsdTU1FBUVHTKdU5m4sSJFBcXO5acnBynZHZ1W8u3UttQS2zbWDqHdTYdR0RaUFp049TWm/I3YVmW4TRyoS640F9++WUefPBBgoNPnLwjJCSEn//857z44osX+jEAJCUlERsby4IFCxzP1dTUsHTpUgYOHAhA37598fHxabJObm4umzdvdqxzMn5+fgQHBzdZPJ4XbKvYBsBl7S/Tme0irUxKRAp+dj9KqkvILs42HUcu0AUX+saNGxkxYsQpX09PT2fdunVnvb2ysjI2bNjAhg0bgMYT4TZs2EB2djY2m41x48bx/PPPM2PGDDZv3szYsWMJDAzkrrvuAhr/iHjggQd48sknWbhwIT/88AP33HMPaWlpzbL73611hfKGcgJ9AukR1cN0GhFpYd5e3nSParzUeFP+JsNp5EJd8DH0w4cPn/RyNccHeHtz5MiRs97e2rVrGTr0P2dajx8/HoAxY8bw7rvv8tRTT1FZWcnDDz9MUVERAwYM4JtvviEoKMjxnpdeeglvb29uv/12Kisrueqqq3j33Xex2+3n8R16sEsa/9E3rq/uCifSSqVFp7EhbwNbj2wlo0sGdi/9nnRXF/xbvF27dmzatIkuXU5++8DMzEzi4uLOentDhgw57bEcm83GpEmTmDRp0inX8ff355VXXnHa2fWeaHfpbkgCGzb6xvU1HUdEDOkY2pG2vm0pqylj19FddI3sajqSnKcL3uV+7bXX8vvf/56qqqoTXqusrOSZZ57huuuuu9CPESf7Yv8XACT6JWpGNZFWzMvmRWpU49zom/M3G04jF+KCR+i//e1v+eKLL0hJSeHRRx+la9eu2Gw2tm3bxquvvkp9fT1PP/20M7KKk9TU1zD3QOPteLsFdjOcRkRMS4tJY/XB1Wwv3E51XbXpOHKeLrjQY2JiWLlyJb/4xS+YOHGiY3e5zWbjmmuu4bXXXjvt5WLS8mbtnEVxbTGUQvvY9qbjiIhhcW3jiAiIoLCykO2F24km2nQkOQ9OORMqMTGROXPmUFRUxK5du7Asi+Tk5BPu1iau4Z0N7zR+sRG8UjQXskhrZ7PZSItOY8n+JWzO38wwv2GmI8l5cOpv87CwMPr3788ll1yiMndReWV5zM369+x3G4xGEREX0jO6JwB7ivZQ3aDd7u5Iw7NW5qNNH1Fv1ZMWlgYFptOIiKuIDIwkKjCKBquB/VX7TceR86BCb2Wmb5kOwLXtrjWcRERczfEbTO2t2ms4iZwPFXorsqdoD/86+C+8bF5cFe+cKW1FxHMcL/QD1QfAz3AYOWcq9Fbk480fAzAsaRgRfhGG04iIq4kKjCIyMJJ66iHFdBo5Vyr0VuSjzR8BMLrnaMNJRMQV2Ww2ukc23tsdTe/gdlTorcTWI1vZlL8JHy8fbu5+s+k4IuKiHBM1dYGKugqzYeScqNBbiS+2Nd7qNb1zOmEBuqRQRE4upk0MwfZg8IEV+StMx5FzoEJvJY4XukbnInI6NpuNTv6dAFh4aKHhNHIuVOitwL5j+/gh7we8bF6MShllOo6IuLhOAY2FviJ/BRW12u3uLlTorcCMbTMAuKLDFUS1iTKcRkRcXYR3BBRBVX3Vf+4sKS5Phd4KzNjeWOja3S4iZ8Nms8HWxq+/3PGl0Sxy9lToHi6/PJ8V2Y0nttzY7UazYUTEfWxv/MesnbOora81m0XOigrdw83NmouFRZ/YPnQI6WA6joi4iwMQ5hvGsapjLNu/zHQaOQsqdA83K2sWANelXGc4iYi4FQuujL0SgJk7ZhoOI2dDhe7Bautr+Wb3NwCMTB5pOI2IuJshsUMA+HL7l1iWZTaMnJEK3YOtyF5BSXUJUYFR9G/X33QcEXEzl0ReQqBPIDklOfyQ94PpOHIGKnQPNmtn4+72a5Ovxcumf9Uicm787f6M6DICgJnbtdvd1em3vAebnTUb0O52ETl/N3a9EdDla+5Ahe6h9hbtZUfhDuw2O+md003HERE3NTJlJHabnczDmewp2mM6jpyGCt1Dzd89H4CBCQMJ8Q8xnEZE3FV4QDhXJv77bHftdndpKnQPdbzQNToXkQt1/KZUunzNtanQPVBtfS2L9i4C4JrO1xhOIyLu7oauNwCwPHs5BRUFhtPIqajQPdD3B7+npLqEiIAILo672HQcEXFziaGJ9I7pTYPVwJysOabjyCmo0D3Q/F2Nu9uHdxqO3ctuOI2IeILjUy8fvxxWXI8K3QN9s6fx7nDa3S4izjKqa2Ohz9s1j5r6GsNp5GRU6B7mWNUx1h5aC8DVna82nEZEPEW/+H7EtImhtKaU5fuXm44jJ6FC9zDL9i+jwWogJSKF9sHtTccREQ/hZfNy3KTq651fG04jJ6NC9zCL9y4GYGjHoYaTiIinOT5r49c7v9ZkLS5Ihe5hFu1rvFxNhS4iznZ156vxtfuyp2gPOwp3mI4j/0WF7kEKKgrIPJwJwJCOQ8yGERGP09a3rWOw8PUO7XZ3NSp0D7J031IAekT1IKZtjOE0IuKJju92n5Wly9dcjQrdgyze13j8fFjHYYaTiIinOl7o32V/x9HKo4bTyI+p0D3I8du9Dk3S8XMRaR4dQzuSGp1KvVXPvF3zTMeRH1Ghe4i8sjy2FWzDho3BiYNNxxERD3b8rnG6fM21qNA9xJJ9SwDoFdOLiMAIs2FExKMd3+0+b9c8autrDaeR41ToHkLXn4tISxnQbgCRgZEcqzrGdznfmY4j/6ZC9xCOE+KSdEKciDQvu5eda5OvBTRZiytxy0Lv2LEjNpvthOWRRx4BYOzYsSe8dumllxpO3XwOlBwg62gWXjYvrky80nQcEWkFNPua6/E2HeB8rFmzhvr6esfjzZs3c/XVV3Pbbbc5nhsxYgTvvPOO47Gvr2+LZmxJx3e3Xxx3MSH+IYbTiEhrkN45HW8vb3YU7iCrMIvkiGTTkVo9txyhR0VFERsb61hmzZpF586dGTz4P2d3+/n5NVknPDzcYOLmdXx3u46fi0hLCfYLdlxRo1G6a3DLQv+xmpoaPvzwQ+6//35sNpvj+SVLlhAdHU1KSgoPPvgg+fn5BlM2r+XZjVMZ6nI1EWlJunzNtbh9oX/55ZccO3aMsWPHOp7LyMhg6tSpLFq0iBdeeIE1a9YwbNgwqqurT7md6upqSkpKmizuIL88n11HdwEwMGGg4TQi0pocv3xtefZyjlUdMxtG3L/Q33rrLTIyMoiPj3c8d8cddzBy5EhSU1MZNWoUc+fOZefOncyePfuU25k8eTIhISGOJSEhoSXiX7CVOSuBxvu3hwWEGU4jIq1J5/DOdIvsRl1DHd/s/sZ0nFbPrQt9//79fPvtt/z0pz897XpxcXEkJiaSlZV1ynUmTpxIcXGxY8nJyXF23GbxXXbjNaCDEgYZTiIirdF1yY2j9NlZpx4wSctw60J/5513iI6OZuTIkaddr7CwkJycHOLi4k65jp+fH8HBwU0Wd7DyQOMIXYUuIiYc3+0+J2sO9Q31Z1hbmpPbFnpDQwPvvPMOY8aMwdv7P1fflZWVMWHCBFatWsW+fftYsmQJo0aNIjIykptuuslgYuerqqti7aG1gI6fi4gZAxMGEuofSkFFAf86+C/TcVo1ty30b7/9luzsbO6///4mz9vtdjZt2sQNN9xASkoKY8aMISUlhVWrVhEUFGQobfNYd2gdNfU1RAVG0SW8i+k4ItIK+dh9GNFlBKDL10xzyxvLAKSnp2NZ1gnPBwQEMH/+fAOJWt7xE+IGdRjU5JI9EZGWdF3ydUzfPJ1ZWbN47qrnTMdptdx2hC44JkUY2F6720XEnBFdRuBl8yLzcCbZxdmm47RaKnQ3ZVlWkxG6iIgpEYERXNb+MgBm79TZ7qao0N3UrqO7OFJxBF+7L33j+pqOIyKt3PGz3XX5mjkqdDd1fHd7v/h++Hn7GU4jIq3d8UJfuHchFbUVhtO0Tip0N+XY3a7rz0XEBfSM6kliSCJVdVUs2rvIdJxWyW3Pcnc32dnZFBQUOG17C3cuBCC2Npb169ef8/u3bdvmtCwiIjabjetSruPVNa8ya+csx4hdWo4KvQVkZ2fTrXs3KisqnbPBAOD/NX755O1PQvn5b6qsrMwpkUREflzolmXpctoWpkJvAQUFBVRWVHLTb24iKjHqgreXXZXNvKJ5hNhDuOPFO85rG1nfZ7H47cVUVVVdcB4REYAhHYcQ6BPIwdKDbDy8kYtiLzIdqVVRobegqMQo4lJOfT/5s7V171YogqTIpPPeXkG283b/i4gA+Hv7M7zTcL7a8RWzds5SobcwnRTnhnKKG2eCax/S3nASEZGmNPuaOSp0N1PfUM/B0oMAdAjuYDiNiEhT1yZfC8D3B74nvzzfcJrWRYXuZvLK8qhrqMPf25/IwEjTcUREmmgX3I6L4y7GwmJu1lzTcVoVFbqbySlp3N2eEJygM0hFxCUd3+0+K0uzr7UkFbqb+XGhi4i4ouPXoM/fNZ+a+hrDaVoPFbobsSzLcUJcQogKXURcU9/4vsS0iaG0ppTl+5ebjtNqqNDdSHF1MaU1pXjZvGgX1M50HBGRk/KyeTEyeSQAs3Zqt3tLUaG7keOj89i2sfjYfQynERE5tZEpjYWuy9dajgrdjWSXZAM6fi4iru/qTlfj4+VD1tEsdhbuNB2nVVChu5EDJQcAHT8XEdcX5BfEkI5DAO12bykqdDdRXVfN4bLDgG4oIyLu4fjZ7ir0lqFCdxMHSg5gYRHqH0qQX5DpOCIiZ3T8xLjl2cs5VnXMbJhWQIXuJnT9uYi4m87hneke2Z26hjq+2f2N6TgeT4XuJlToIuKOtNu95ajQ3UCD1aAT4kTELR3f7T5311zqG+oNp/FsKnQ3kF+eT019Db52X6LbRJuOIyJy1gYmDCTUP5SCigK+P/i96TgeTYXuBhzznwe3x8umf2Ui4j587D5kdMkA4KsdXxlO49nUDm5Ax89FxJ3d0PUGAL7c/qXZIB5Ohe4GVOgi4s4ykjPw8fJhR+EOthdsNx3HY6nQXVxpdSnHqo5hw0b74Pam44iInLNgv2Cu6nQVoFF6c1Khu7jjo/OYtjH4efsZTiMicn5u7HojoEJvTip0F5dd3Dghi0bnIuLOru96PQDfH/yeQ6WHDKfxTN6mA8jpHR+h6/7tItLStm3b5tTtpYWlsaloE68ueJVbOt5yXtuIjIykQwf9PjwZFboLq62vJa8sD9ANZUSk5ZQdLQPgnnvuce6GBwFXw/NfPM/zU58/r00EBAawfdt2lfpJqNBd2MHSgzRYDQT5BhHiF2I6joi0ElVlVQAMfXgoyb2TnbbdY3XH+OTIJ3gle3Hf6/fh6+V7Tu8/sv8IM56fQUFBgQr9JFToLsxxuVpIAjabzXAaEWltwtqFEZcS57TtxRFHxL8iKKwspDS8lNToVKdtW3RSnEs7foc4XX8uIp6iW2Q3AHYU7DCcxPOo0F2UZVm6oYyIeJzjhb7z6E7qGuoMp/EsKnQXVVBRQFVdFd5e3sS2jTUdR0TEKdoFtaOtb1tq6mvYd2yf6TgeRYXuoo6PztsFtcPuZTecRkTEOWw2G10jugLoNrBOpkJ3UY7j57pcTUQ8jOM4euEOLMsynMZzqNBdlG4oIyKeqmNoR3ztvpTVlHGw9KDpOB5Dhe6CymvKKawsBHTLVxHxPN5e3iSHN17frt3uzuN2hT5p0iRsNluTJTb2PyeNWZbFpEmTiI+PJyAggCFDhrBlyxaDic/d8dF5VGAUAT4BhtOIiDhf18jG4+g7CnX5mrO4XaED9OzZk9zcXMeyadMmx2t//etfefHFF5kyZQpr1qwhNjaWq6++mtLSUoOJz82PbygjIuKJksOT8bJ5UVBRwJHyI6bjeAS3LHRvb29iY2MdS1RUFNA4On/55Zd5+umnufnmm0lNTeW9996joqKCadOmGU599nRDGRHxdP7e/nQO6wzAliPutRfVVblloWdlZREfH09SUhKjR49mz549AOzdu5e8vDzS09Md6/r5+TF48GBWrlxpKu45qWuoc0wtqEIXEU/WI6oHAFuPbDWcxDO4XaEPGDCA999/n/nz5/Pmm2+Sl5fHwIEDKSwsJC+vcWaymJiYJu+JiYlxvHYq1dXVlJSUNFlMyC3Npd6qJ9AnkPCAcCMZRERaQteIrnjZvDhScUS73Z3A7Qo9IyODW265hbS0NIYPH87s2bMBeO+99xzr/PdEJpZlnXFyk8mTJxMSEuJYEhLMjI5/fLtXTcgiIp4swCeATmGdAI3SncHtCv2/tWnThrS0NLKyshxnu//3aDw/P/+EUft/mzhxIsXFxY4lJyen2TKfjk6IE5HWxLHbvUCFfqHcvtCrq6vZtm0bcXFxJCUlERsby4IFCxyv19TUsHTpUgYOHHja7fj5+REcHNxkaWmWZTlOiNMNZUSkNegW0Q0vmxf55fkUVBSYjuPW3K7QJ0yYwNKlS9m7dy/ff/89t956KyUlJYwZMwabzca4ceN4/vnnmTFjBps3b2bs2LEEBgZy1113mY5+Rkcrj1JeW47dZicuyHlzEIuIuKof73bX2e4Xxtt0gHN14MAB7rzzTgoKCoiKiuLSSy9l9erVJCYmAvDUU09RWVnJww8/TFFREQMGDOCbb74hKCjIcPIzyy7OBqBdcDu8vdzuX42IyHnpEdWDXUd3sfXIVgYnDjYdx225XWtMnz79tK/bbDYmTZrEpEmTWiaQE2WXNBa6dreLSGvSLaIbs2yzHLvdIwMjTUdyS263y92THR+hdwhRoYtI6xHgE0CnUJ3tfqFU6C6irKaMo5VHAZ3hLiKtz/Gz3XUc/fyp0F3E8dF5TJsY/L39DacREWlZ3SK7YbfZyS/P53DZYdNx3JIK3UVod7uItGYBPgGOKVU35W86w9pyMip0F6FCF5HWLi0mDWgsdMuyDKdxPyp0F1BdV01eWePd7VToItJapUSk4Gf3o6S6xDHIkbOnQncBB0oOYGER6h9KsF/L36FORMQVeHt50z2qOwCZ+ZmG07gfFboL0O52EZFGadGNu923HtlKfUO94TTuRYXuAhyFrhvKiEgr1zG0I21921JVV8Wuo7tMx3ErKnTD6hvqOVB6ANAIXUTEy+ZFalQqoLPdz5UK3bDcslzqGuoI8A7Q7Q5FRPjP2e47CndQXVdtOI37UKEb9uPj5zabzXAaERHz4trGEREQQV1DHdsKtpmO4zZU6IbphDgRkaZsNhu9YnoBsPHwRsNp3IcK3aAGq4H9xfsBSAxJNJxGRMR19I7pDcC+Y/soqiwynMY9qNANOlx2mKq6KnztvsQFxZmOIyLiMkL8Q+gc1hmAH/J+MJzGPajQDdp7bC/QODr3sulfhYjIj10UexHQuNu9wWowG8YNqEUM2ndsH9B43aWIiDTVLbIbAd4BlFSXsKdoj+k4Lk+FbsiPj58nhSYZTiMi4nq8vbwdl7Bpt/uZqdANyS3Npaa+Bn9vf2LaxpiOIyLikvrE9gFge8F2qhqqDKdxbSp0Q3T8XETkzGLbxhLXNo4Gq4GsyizTcVyamsQQHT8XETk7x0+O21Gxw2wQF6dCN6C+od5xQxkdPxcROb206DTsNjtH645CvOk0rkuFbsCh0kPUNtQS4B1AdJto03FERFxagE8APaJ6ND7oZzaLK1OhG/Dj3e26f7uIyJn1i/93k6dBcU2x2TAuSoVugI6fi4icm4TgBCK8I8AHZubMNB3HJanQW1hdQx3ZJY3Hz1XoIiJnx2az0bNNTwA+2/cZ9Q31hhO5HhV6CztYcpC6hjra+LQhKjDKdBwREbfRJaALVMLBioPM2zXPdByXo0JvYTp+LiJyfrxt3rC+8espa6aYDeOCVOgtbHfRbgCSwnS5mojIOVsLNmzM2zWPrELdaObHVOgtqLqhmgMlBwDoEtbFcBoRETdUBIOiBwHw2prXDIdxLSr0FnSw+iAWFpGBkYT4h5iOIyLilu5IugOAdza8Q1lNmeE0rkOF3oJyqnMAjc5FRC7EpVGXkhyeTHF1MW+tf8t0HJehQm9BB6r/vbs9XIUuInK+vGxeTBg4AYAXV79IbX2t4USuQYXeUqKgvKEcby9vOoR0MJ1GRMSt3df7PmLaxJBdnM30zdNNx3EJKvSW8u9BeceQjvjYfcxmERFxc/7e/oy7dBwAf/nuLzRYDWYDuQAVekv5d6F3Du9sNoeIiId4qN9DBPkGseXIFuZkzTEdxzgVeguorKuExMavdfxcRMQ5Qv1DeajfQ0DjKL21U6G3gHWF68Ab2trbEhEQYTqOiIjHGHfpOHztvqzIXsHKnJWm4xilQm8BK480/kfW3q+9bvcqIuJE8UHx3NfrPkCjdBV6C1iVvwqABL8Ew0lERDzPrwb9Chs2vtrxFetz15uOY4wKvZntKdpDdnk21EM733am44iIeJyUiBTu7nU3AL9d9FvDacxRoTez+bvmN35xAHy9fM2GERHxUJMGT8Lby5u5u+byXfZ3puMY4XaFPnnyZPr3709QUBDR0dHceOON7Nixo8k6Y8eOxWazNVkuvfRSI3lHp45mct/JsMLIx4uItAqdwztz/0X3A/D0oqexLMtwopbndoW+dOlSHnnkEVavXs2CBQuoq6sjPT2d8vLyJuuNGDGC3NxcxzJnjplrFMMCwkiPTwfN8ici0qx+N/h3+Nn9WLp/Kd/u+dZ0nBbnbTrAuZo3b16Tx++88w7R0dGsW7eOK6+80vG8n58fsbGxLR1PREQMaR/cnl/0+wUvf/8yTy96muGdhreqK4vcboT+34qLiwEIDw9v8vySJUuIjo4mJSWFBx98kPz8/NNup7q6mpKSkiaLiIi4l19f/msCfQJZc2gNX+34ynScFuXWhW5ZFuPHj+fyyy8nNTXV8XxGRgZTp05l0aJFvPDCC6xZs4Zhw4ZRXV19ym1NnjyZkJAQx5KQoEvMRETcTUzbGJ4Y8AQAExdObFUzsbl1oT/66KNkZmby0UcfNXn+jjvuYOTIkaSmpjJq1Cjmzp3Lzp07mT179im3NXHiRIqLix1LTk5Oc8cXEZFm8NSgp4gKjGJbwTZeW/Oa6Tgtxm0L/bHHHuOrr75i8eLFtG/f/rTrxsXFkZiYSFbWqc9M8/PzIzg4uMkiIiLuJ9Q/lOeGPQfAM0ue4Uj5EcOJWobbFbplWTz66KN88cUXLFq0iKSkpDO+p7CwkJycHOLi4logoYiImHZ/n/vpE9uH4uriVnOzGbcr9EceeYQPP/yQadOmERQURF5eHnl5eVRWVgJQVlbGhAkTWLVqFfv27WPJkiWMGjWKyMhIbrrpJsPpRUSkJdi97Pxfxv8B8Ob6N/kh9wfDiZqf2xX666+/TnFxMUOGDCEuLs6xfPzxxwDY7XY2bdrEDTfcQEpKCmPGjCElJYVVq1YRFBRkOL2IiLSUyztczp2pd2Jh8fi8xz3+ZjNudx36mf6FBAQEMH/+/BZKIyIiruwvw//Cl9u/ZEX2CqZtmua457sncrsRuoiIyNlKCEng6SueBmDc/HEefYKcCl1ERDzarwb9irToNAoqCnh83uOm4zQbFbqIiHg0X7svb9/wNl42L6Zvns7M7TNNR2oWKnQREfF4/eL78auBvwLgF7N/wbGqY2YDNQMVuoiItArPDH6GlIgUcstyeXL+k6bjOJ0KXUREWoUAnwDevv5tbNh4e8PbzNo5y3Qkp1Khi4hIqzGowyDH5C1jvxzLwZKDhhM5j9tdhy4iIq3btm3bLuj9d0Tcwdzguewo2cEN79/A65e9jt1mP+/tRUZG0qFDhwvK5AwqdBERcQtlR8sAuOeeey58Y+HAz2Fd4TouefISWHr+mwoIDGD7tu3GS12FLiIibqGqrAqAoQ8PJbl38gVvL6sii8XFi7ENtTHylpHE+8Wf8zaO7D/CjOdnUFBQoEIXERE5F2HtwohLufDZM+OIo2h7ERsOb2Bp2VJ+1vVntPVt64SEZuikOBERabUykjOIDIyktKaUjzd/TF1DnelI502FLiIirZav3ZfRPUfj7+3PgdIDzNo5y21nZVOhi4hIqxYRGMGt3W/Fho2Nhzey+sBq05HOiwpdRERavc7hnUnvnA7Agj0LyCrMMpzo3KnQRUREgAHtBtAntg8WFp9t+4xDpYdMRzonKnQRERHAZrNxbfK1JIUmUVNfw9RNUymsKDQd66yp0EVERP7N28ubO3reQVzbOCpqK/gg8wNKq0tNxzorKnQREZEf8fP24+60uwkPCKe4upgPN31IZW2l6VhnpEIXERH5L21823Bvr3tp69uW/PJ8tyh1FbqIiMhJhPqHcm+vewn0CeRQ6SE+yPzApUtdhS4iInIK0W2iua/XfQT6BJJblsv7me9TUVthOtZJqdBFREROI6ZtDGN6j6GNTxvyyvJ4f+P7lNeUm451AhW6iIjIGUS3iWZM7zG09W3L4fLDvL3hbYoqi0zHakKFLiIichai2kQxtvdYQv1DOVp5lLd+eIuC2gLTsRxU6CIiImcpIjCC+y+6n5g2MZTXlvN14dfQyXSqRip0ERGRcxDkF8RPLvoJSaFJ1Fq1cDcsyVtiOpYKXURE5Fz5eftxV9pddPbvDOXQNbir6UgqdBERkfPh7eXNsNBh8E+IC4wzHUeFLiIicr5sNhuUmE7RSIUuIiLiAVToIiIiHkCFLiIi4gFU6CIiIh5AhS4iIuIBVOgiIiIeQIUuIiLiAVToIiIiHkCFLiIi4gFU6CIiIh5AhS4iIuIBVOgiIiIewKML/bXXXiMpKQl/f3/69u3L8uXLTUcSERFpFh5b6B9//DHjxo3j6aef5ocffuCKK64gIyOD7Oxs09FERESczmML/cUXX+SBBx7gpz/9Kd27d+fll18mISGB119/3XQ0ERERp/M2HaA51NTUsG7dOn796183eT49PZ2VK1ee9D3V1dVUV1c7HhcXFwNQUnLhE92WlZUBcGjnIWoqay54e85wZP+Rxn/uPcL+NvsNp/kP5Tp7rpgJlOtcuGImUK5zUZBTADT+nndGXwAEBQU1zrN+riwPdPDgQQuwvvvuuybPP/fcc1ZKSspJ3/PMM89YgBYtWrRo0WJ0KS4uPq/u88gR+nH//ReOZVmn/Ktn4sSJjB8/3vG4oaGBo0ePEhERcX5/KdE4uk9ISCAnJ4fg4ODz2kZrop/XudPP7Nzo53Xu9DM7N874eQUFBZ3X+zyy0CMjI7Hb7eTl5TV5Pj8/n5iYmJO+x8/PDz8/vybPhYaGOiVPcHCw/kc4B/p5nTv9zM6Nfl7nTj+zc2Pi5+WRJ8X5+vrSt29fFixY0OT5BQsWMHDgQEOpREREmo9HjtABxo8fz7333ku/fv247LLL+Mc//kF2djYPPfSQ6WgiIiJO57GFfscdd1BYWMgf/vAHcnNzSU1NZc6cOSQmJrZYBj8/P5555pkTduXLyennde70Mzs3+nmdO/3Mzo3Jn5fNsiyrxT9VREREnMojj6GLiIi0Nip0ERERD6BCFxER8QAqdBEREQ+gQm8mmrr17C1btoxRo0YRHx+PzWbjyy+/NB3JpU2ePJn+/fsTFBREdHQ0N954Izt27DAdy6W9/vrr9OrVy3Gzj8suu4y5c+eajuU2Jk+ejM1mY9y4caajuKxJkyZhs9maLLGxsS2aQYXeDDR167kpLy+nd+/eTJkyxXQUt7B06VIeeeQRVq9ezYIFC6irqyM9PZ3y8nLT0VxW+/bt+fOf/8zatWtZu3Ytw4YN44YbbmDLli2mo7m8NWvW8I9//INevXqZjuLyevbsSW5urmPZtGlTywY4rzvAy2ldcskl1kMPPdTkuW7dulm//vWvDSVyH4A1Y8YM0zHcSn5+vgVYS5cuNR3FrYSFhVn//Oc/TcdwaaWlpVZycrK1YMECa/DgwdYTTzxhOpLLeuaZZ6zevXsbzaARupMdn7o1PT29yfOnm7pV5EIcn+o3PDzccBL3UF9fz/Tp0ykvL+eyyy4zHcelPfLII4wcOZLhw4ebjuIWsrKyiI+PJykpidGjR7Nnz54W/XyPvVOcKQUFBdTX158wCUxMTMwJk8WIXCjLshg/fjyXX345qamppuO4tE2bNnHZZZdRVVVF27ZtmTFjBj169DAdy2VNnz6d9evXs2bNGtNR3MKAAQN4//33SUlJ4fDhw/zpT39i4MCBbNmyhYiIiBbJoEJvJucydavI+Xr00UfJzMxkxYoVpqO4vK5du7JhwwaOHTvG559/zpgxY1i6dKlK/SRycnJ44okn+Oabb/D39zcdxy1kZGQ4vk5LS+Oyyy6jc+fOvPfee02m5m5OKnQnO5+pW0XOx2OPPcZXX33FsmXLaN++vek4Ls/X15cuXboA0K9fP9asWcPf/vY33njjDcPJXM+6devIz8+nb9++jufq6+tZtmwZU6ZMobq6GrvdbjCh62vTpg1paWlkZWW12GfqGLqTaepWaW6WZfHoo4/yxRdfsGjRIpKSkkxHckuWZVFdXW06hku66qqr2LRpExs2bHAs/fr14+6772bDhg0q87NQXV3Ntm3biIuLa7HP1Ai9GWjq1nNTVlbGrl27HI/37t3Lhg0bCA8Pp0OHDgaTuaZHHnmEadOmMXPmTIKCghx7g0JCQggICDCczjX95je/ISMjg4SEBEpLS5k+fTpLlixh3rx5pqO5pKCgoBPOyWjTpg0RERE6V+MUJkyYwKhRo+jQoQP5+fn86U9/oqSkhDFjxrRYBhV6M3CFqVvdydq1axk6dKjj8fHjTWPGjOHdd981lMp1vf766wAMGTKkyfPvvPMOY8eObflAbuDw4cPce++95ObmEhISQq9evZg3bx5XX3216WjiIQ4cOMCdd95JQUEBUVFRXHrppaxevbpFf+9r+lQREREPoGPoIiIiHkCFLiIi4gFU6CIiIh5AhS4iIuIBVOgiIiIeQIUuIiLiAVToIiIiHkCFLiIi4gFU6CIiIh5AhS4iIuIBVOgiIiIeQIUuIiLiAVToIiIiHkCFLiIi4gFU6CIiIh5AhS4iIuIBVOgiIiIe4P8DmwrvKIm0T/oAAAAASUVORK5CYII=' width=500.0/>\n",
       "            </div>\n",
       "        "
      ],
      "text/plain": [
       "Canvas(toolbar=Toolbar(toolitems=[('Home', 'Reset original view', 'home', 'home'), ('Back', 'Back to previous …"
      ]
     },
     "metadata": {},
     "output_type": "display_data"
    }
   ],
   "source": [
    "%matplotlib widget\n",
    "# add kde plot to Malabist distance\n",
    "sns.displot(dist_train,bins = 10,kde = True,color = \"green\")"
   ]
  },
  {
   "cell_type": "code",
   "execution_count": 302,
   "id": "ae18a913-c244-4297-9c6b-c112d2a7ca3e",
   "metadata": {},
   "outputs": [],
   "source": [
    "threshold = MD_threshold(dist_train, extreme = False)"
   ]
  },
  {
   "cell_type": "code",
   "execution_count": 303,
   "id": "78f4ca10-4ad3-40bd-88ca-40fba00ff1ff",
   "metadata": {},
   "outputs": [
    {
     "data": {
      "text/html": [
       "<div>\n",
       "<style scoped>\n",
       "    .dataframe tbody tr th:only-of-type {\n",
       "        vertical-align: middle;\n",
       "    }\n",
       "\n",
       "    .dataframe tbody tr th {\n",
       "        vertical-align: top;\n",
       "    }\n",
       "\n",
       "    .dataframe thead th {\n",
       "        text-align: right;\n",
       "    }\n",
       "</style>\n",
       "<table border=\"1\" class=\"dataframe\">\n",
       "  <thead>\n",
       "    <tr style=\"text-align: right;\">\n",
       "      <th></th>\n",
       "      <th>Mob dist</th>\n",
       "      <th>Thresh</th>\n",
       "      <th>Anomaly</th>\n",
       "    </tr>\n",
       "    <tr>\n",
       "      <th>timestamp</th>\n",
       "      <th></th>\n",
       "      <th></th>\n",
       "      <th></th>\n",
       "    </tr>\n",
       "  </thead>\n",
       "  <tbody>\n",
       "    <tr>\n",
       "      <th>2004-04-08 00:01:57</th>\n",
       "      <td>2.733143</td>\n",
       "      <td>4.569385</td>\n",
       "      <td>False</td>\n",
       "    </tr>\n",
       "    <tr>\n",
       "      <th>2004-04-08 00:11:57</th>\n",
       "      <td>2.790107</td>\n",
       "      <td>4.569385</td>\n",
       "      <td>False</td>\n",
       "    </tr>\n",
       "    <tr>\n",
       "      <th>2004-04-08 00:21:57</th>\n",
       "      <td>2.827607</td>\n",
       "      <td>4.569385</td>\n",
       "      <td>False</td>\n",
       "    </tr>\n",
       "    <tr>\n",
       "      <th>2004-04-08 00:31:57</th>\n",
       "      <td>2.760730</td>\n",
       "      <td>4.569385</td>\n",
       "      <td>False</td>\n",
       "    </tr>\n",
       "    <tr>\n",
       "      <th>2004-04-08 00:41:57</th>\n",
       "      <td>2.767986</td>\n",
       "      <td>4.569385</td>\n",
       "      <td>False</td>\n",
       "    </tr>\n",
       "  </tbody>\n",
       "</table>\n",
       "</div>"
      ],
      "text/plain": [
       "                     Mob dist    Thresh  Anomaly\n",
       "timestamp                                       \n",
       "2004-04-08 00:01:57  2.733143  4.569385    False\n",
       "2004-04-08 00:11:57  2.790107  4.569385    False\n",
       "2004-04-08 00:21:57  2.827607  4.569385    False\n",
       "2004-04-08 00:31:57  2.760730  4.569385    False\n",
       "2004-04-08 00:41:57  2.767986  4.569385    False"
      ]
     },
     "execution_count": 303,
     "metadata": {},
     "output_type": "execute_result"
    }
   ],
   "source": [
    "anomaly_train = pd.DataFrame()\n",
    "anomaly_train['Mob dist']= dist_train\n",
    "anomaly_train['Thresh'] = threshold\n",
    "# If Mob dist above threshold: Flag as anomaly\n",
    "anomaly_train['Anomaly'] = anomaly_train['Mob dist'] > anomaly_train['Thresh']\n",
    "anomaly_train.index = X_train_PCA.index\n",
    "\n",
    "anomaly = pd.DataFrame()\n",
    "anomaly['Mob dist']= dist_test\n",
    "anomaly['Thresh'] = threshold\n",
    "# If Mob dist above threshold: Flag as anomaly\n",
    "anomaly['Anomaly'] = anomaly['Mob dist'] > anomaly['Thresh']\n",
    "anomaly.index = X_test_PCA.index\n",
    "anomaly.head()\n",
    "anomaly_alldata = pd.concat([anomaly_train, anomaly])"
   ]
  },
  {
   "cell_type": "code",
   "execution_count": 305,
   "id": "dd9c36fb-2e99-4407-8b4b-e51c76dd314b",
   "metadata": {},
   "outputs": [],
   "source": [
    "if TYPE_OF_AVG == \"rolling\":\n",
    "    path_to_save = result_path/f\"pca_data_{TYPE_OF_AVG}_{period}_{DATA_SET_NUMBER}.pkl\"\n",
    "else:\n",
    "    path_to_save = result_path/f\"pca_data_{TYPE_OF_AVG}_{DATA_SET_NUMBER}.pkl\"\n",
    "anomaly_alldata.to_pickle(str(path_to_save))"
   ]
  }
 ],
 "metadata": {
  "kernelspec": {
   "display_name": "Python 3 (ipykernel)",
   "language": "python",
   "name": "python3"
  },
  "language_info": {
   "codemirror_mode": {
    "name": "ipython",
    "version": 3
   },
   "file_extension": ".py",
   "mimetype": "text/x-python",
   "name": "python",
   "nbconvert_exporter": "python",
   "pygments_lexer": "ipython3",
   "version": "3.9.7"
  }
 },
 "nbformat": 4,
 "nbformat_minor": 5
}
