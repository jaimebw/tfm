{
 "cells": [
  {
   "cell_type": "code",
   "execution_count": 48,
   "id": "4b0da4ce-3ccd-4674-b157-5b6dea00eb90",
   "metadata": {},
   "outputs": [],
   "source": [
    "import pandas as pd\n",
    "import numpy as np\n",
    "import matplotlib.pyplot as plt\n",
    "import matplotlib.dates as mdates\n",
    "def save_fig(fig,fig_name,**kwargs):\n",
    "    # saves the figure to a common folder\n",
    "    import os\n",
    "    if not os.path.exists(\"figures\"):\n",
    "        os.mkdir(\"figures\")\n",
    "    fig.savefig(fname= \"figures/{}\".format(fig_name) , **kwargs)\n",
    "def rms(values):\n",
    "    # return the Root Mean Square \n",
    "    # More info at https://en.wikipedia.org/wiki/Root_mean_square\n",
    "    return np.sqrt(np.sum(values**2)/len(values))\n"
   ]
  },
  {
   "cell_type": "code",
   "execution_count": 3,
   "id": "8c1802a3-4f50-4c68-9353-1f6ee9ad11ac",
   "metadata": {},
   "outputs": [
    {
     "data": {
      "text/html": [
       "<div>\n",
       "<style scoped>\n",
       "    .dataframe tbody tr th:only-of-type {\n",
       "        vertical-align: middle;\n",
       "    }\n",
       "\n",
       "    .dataframe tbody tr th {\n",
       "        vertical-align: top;\n",
       "    }\n",
       "\n",
       "    .dataframe thead th {\n",
       "        text-align: right;\n",
       "    }\n",
       "</style>\n",
       "<table border=\"1\" class=\"dataframe\">\n",
       "  <thead>\n",
       "    <tr style=\"text-align: right;\">\n",
       "      <th></th>\n",
       "      <th>b1_ch1</th>\n",
       "      <th>b2_ch2</th>\n",
       "      <th>b3_ch3</th>\n",
       "      <th>b4_ch4</th>\n",
       "      <th>timestamp</th>\n",
       "    </tr>\n",
       "  </thead>\n",
       "  <tbody>\n",
       "    <tr>\n",
       "      <th>count</th>\n",
       "      <td>2.015232e+07</td>\n",
       "      <td>2.015232e+07</td>\n",
       "      <td>2.015232e+07</td>\n",
       "      <td>2.015232e+07</td>\n",
       "      <td>2.015232e+07</td>\n",
       "    </tr>\n",
       "    <tr>\n",
       "      <th>mean</th>\n",
       "      <td>-1.942865e-03</td>\n",
       "      <td>-1.559618e-03</td>\n",
       "      <td>-1.638145e-03</td>\n",
       "      <td>-2.959071e-03</td>\n",
       "      <td>1.076873e+09</td>\n",
       "    </tr>\n",
       "    <tr>\n",
       "      <th>std</th>\n",
       "      <td>1.210052e-01</td>\n",
       "      <td>9.983306e-02</td>\n",
       "      <td>1.055347e-01</td>\n",
       "      <td>6.141669e-02</td>\n",
       "      <td>1.704337e+05</td>\n",
       "    </tr>\n",
       "    <tr>\n",
       "      <th>min</th>\n",
       "      <td>-5.000000e+00</td>\n",
       "      <td>-8.840000e-01</td>\n",
       "      <td>-1.035000e+00</td>\n",
       "      <td>-5.660000e-01</td>\n",
       "      <td>1.076578e+09</td>\n",
       "    </tr>\n",
       "    <tr>\n",
       "      <th>25%</th>\n",
       "      <td>-6.100000e-02</td>\n",
       "      <td>-6.800000e-02</td>\n",
       "      <td>-6.800000e-02</td>\n",
       "      <td>-4.200000e-02</td>\n",
       "      <td>1.076726e+09</td>\n",
       "    </tr>\n",
       "    <tr>\n",
       "      <th>50%</th>\n",
       "      <td>-2.000000e-03</td>\n",
       "      <td>-2.000000e-03</td>\n",
       "      <td>-2.000000e-03</td>\n",
       "      <td>-2.000000e-03</td>\n",
       "      <td>1.076873e+09</td>\n",
       "    </tr>\n",
       "    <tr>\n",
       "      <th>75%</th>\n",
       "      <td>5.900000e-02</td>\n",
       "      <td>6.300000e-02</td>\n",
       "      <td>6.300000e-02</td>\n",
       "      <td>3.700000e-02</td>\n",
       "      <td>1.077021e+09</td>\n",
       "    </tr>\n",
       "    <tr>\n",
       "      <th>max</th>\n",
       "      <td>4.998000e+00</td>\n",
       "      <td>1.118000e+00</td>\n",
       "      <td>1.284000e+00</td>\n",
       "      <td>7.060000e-01</td>\n",
       "      <td>1.077168e+09</td>\n",
       "    </tr>\n",
       "  </tbody>\n",
       "</table>\n",
       "</div>"
      ],
      "text/plain": [
       "             b1_ch1        b2_ch2        b3_ch3        b4_ch4     timestamp\n",
       "count  2.015232e+07  2.015232e+07  2.015232e+07  2.015232e+07  2.015232e+07\n",
       "mean  -1.942865e-03 -1.559618e-03 -1.638145e-03 -2.959071e-03  1.076873e+09\n",
       "std    1.210052e-01  9.983306e-02  1.055347e-01  6.141669e-02  1.704337e+05\n",
       "min   -5.000000e+00 -8.840000e-01 -1.035000e+00 -5.660000e-01  1.076578e+09\n",
       "25%   -6.100000e-02 -6.800000e-02 -6.800000e-02 -4.200000e-02  1.076726e+09\n",
       "50%   -2.000000e-03 -2.000000e-03 -2.000000e-03 -2.000000e-03  1.076873e+09\n",
       "75%    5.900000e-02  6.300000e-02  6.300000e-02  3.700000e-02  1.077021e+09\n",
       "max    4.998000e+00  1.118000e+00  1.284000e+00  7.060000e-01  1.077168e+09"
      ]
     },
     "execution_count": 3,
     "metadata": {},
     "output_type": "execute_result"
    }
   ],
   "source": [
    "df = pd.read_pickle(\"../data/2nd_test_full.pkl\")\n",
    "df.describe()"
   ]
  },
  {
   "cell_type": "code",
   "execution_count": 34,
   "id": "24947b46-3344-4e39-a522-2067f8b084ee",
   "metadata": {},
   "outputs": [
    {
     "data": {
      "text/plain": [
       "['b1_ch1', 'b2_ch2', 'b3_ch3', 'b4_ch4']"
      ]
     },
     "execution_count": 34,
     "metadata": {},
     "output_type": "execute_result"
    }
   ],
   "source": [
    "cols = df.columns.to_list()[0:-1]\n",
    "cols"
   ]
  },
  {
   "cell_type": "code",
   "execution_count": 83,
   "id": "71e90100-cf63-420e-8070-965382d65af8",
   "metadata": {},
   "outputs": [
    {
     "data": {
      "text/plain": [
       "5"
      ]
     },
     "execution_count": 83,
     "metadata": {},
     "output_type": "execute_result"
    }
   ],
   "source": [
    "len(df.columns)"
   ]
  },
  {
   "cell_type": "code",
   "execution_count": 49,
   "id": "110dcbec-7cde-4f8d-8bed-cf600cc9f5ea",
   "metadata": {},
   "outputs": [
    {
     "data": {
      "text/html": [
       "<div>\n",
       "<style scoped>\n",
       "    .dataframe tbody tr th:only-of-type {\n",
       "        vertical-align: middle;\n",
       "    }\n",
       "\n",
       "    .dataframe tbody tr th {\n",
       "        vertical-align: top;\n",
       "    }\n",
       "\n",
       "    .dataframe thead th {\n",
       "        text-align: right;\n",
       "    }\n",
       "</style>\n",
       "<table border=\"1\" class=\"dataframe\">\n",
       "  <thead>\n",
       "    <tr style=\"text-align: right;\">\n",
       "      <th></th>\n",
       "      <th>timestamp</th>\n",
       "      <th>b1_ch1</th>\n",
       "      <th>b2_ch2</th>\n",
       "      <th>b3_ch3</th>\n",
       "      <th>b4_ch4</th>\n",
       "    </tr>\n",
       "    <tr>\n",
       "      <th>timestamp</th>\n",
       "      <th></th>\n",
       "      <th></th>\n",
       "      <th></th>\n",
       "      <th></th>\n",
       "      <th></th>\n",
       "    </tr>\n",
       "  </thead>\n",
       "  <tbody>\n",
       "    <tr>\n",
       "      <th>2004-02-12 09:32:39</th>\n",
       "      <td>1076578359</td>\n",
       "      <td>0.074179</td>\n",
       "      <td>0.090944</td>\n",
       "      <td>0.109404</td>\n",
       "      <td>0.054103</td>\n",
       "    </tr>\n",
       "    <tr>\n",
       "      <th>2004-02-12 09:42:39</th>\n",
       "      <td>1076578959</td>\n",
       "      <td>0.075382</td>\n",
       "      <td>0.093419</td>\n",
       "      <td>0.109817</td>\n",
       "      <td>0.056101</td>\n",
       "    </tr>\n",
       "    <tr>\n",
       "      <th>2004-02-12 09:52:39</th>\n",
       "      <td>1076579559</td>\n",
       "      <td>0.076230</td>\n",
       "      <td>0.093718</td>\n",
       "      <td>0.109861</td>\n",
       "      <td>0.056145</td>\n",
       "    </tr>\n",
       "    <tr>\n",
       "      <th>2004-02-12 10:02:39</th>\n",
       "      <td>1076580159</td>\n",
       "      <td>0.078724</td>\n",
       "      <td>0.092947</td>\n",
       "      <td>0.110667</td>\n",
       "      <td>0.056807</td>\n",
       "    </tr>\n",
       "    <tr>\n",
       "      <th>2004-02-12 10:12:39</th>\n",
       "      <td>1076580759</td>\n",
       "      <td>0.078474</td>\n",
       "      <td>0.095348</td>\n",
       "      <td>0.107506</td>\n",
       "      <td>0.056841</td>\n",
       "    </tr>\n",
       "    <tr>\n",
       "      <th>...</th>\n",
       "      <td>...</td>\n",
       "      <td>...</td>\n",
       "      <td>...</td>\n",
       "      <td>...</td>\n",
       "      <td>...</td>\n",
       "    </tr>\n",
       "    <tr>\n",
       "      <th>2004-02-19 04:42:39</th>\n",
       "      <td>1077165759</td>\n",
       "      <td>0.725001</td>\n",
       "      <td>0.218294</td>\n",
       "      <td>0.170577</td>\n",
       "      <td>0.148351</td>\n",
       "    </tr>\n",
       "    <tr>\n",
       "      <th>2004-02-19 04:52:39</th>\n",
       "      <td>1077166359</td>\n",
       "      <td>0.462012</td>\n",
       "      <td>0.170817</td>\n",
       "      <td>0.177878</td>\n",
       "      <td>0.116630</td>\n",
       "    </tr>\n",
       "    <tr>\n",
       "      <th>2004-02-19 05:02:39</th>\n",
       "      <td>1077166959</td>\n",
       "      <td>0.483835</td>\n",
       "      <td>0.193641</td>\n",
       "      <td>0.187405</td>\n",
       "      <td>0.130582</td>\n",
       "    </tr>\n",
       "    <tr>\n",
       "      <th>2004-02-19 05:12:39</th>\n",
       "      <td>1077167559</td>\n",
       "      <td>0.002103</td>\n",
       "      <td>0.004018</td>\n",
       "      <td>0.003950</td>\n",
       "      <td>0.002154</td>\n",
       "    </tr>\n",
       "    <tr>\n",
       "      <th>2004-02-19 05:22:39</th>\n",
       "      <td>1077168159</td>\n",
       "      <td>0.001533</td>\n",
       "      <td>0.001239</td>\n",
       "      <td>0.001197</td>\n",
       "      <td>0.002124</td>\n",
       "    </tr>\n",
       "  </tbody>\n",
       "</table>\n",
       "<p>984 rows × 5 columns</p>\n",
       "</div>"
      ],
      "text/plain": [
       "                      timestamp    b1_ch1    b2_ch2    b3_ch3    b4_ch4\n",
       "timestamp                                                              \n",
       "2004-02-12 09:32:39  1076578359  0.074179  0.090944  0.109404  0.054103\n",
       "2004-02-12 09:42:39  1076578959  0.075382  0.093419  0.109817  0.056101\n",
       "2004-02-12 09:52:39  1076579559  0.076230  0.093718  0.109861  0.056145\n",
       "2004-02-12 10:02:39  1076580159  0.078724  0.092947  0.110667  0.056807\n",
       "2004-02-12 10:12:39  1076580759  0.078474  0.095348  0.107506  0.056841\n",
       "...                         ...       ...       ...       ...       ...\n",
       "2004-02-19 04:42:39  1077165759  0.725001  0.218294  0.170577  0.148351\n",
       "2004-02-19 04:52:39  1077166359  0.462012  0.170817  0.177878  0.116630\n",
       "2004-02-19 05:02:39  1077166959  0.483835  0.193641  0.187405  0.130582\n",
       "2004-02-19 05:12:39  1077167559  0.002103  0.004018  0.003950  0.002154\n",
       "2004-02-19 05:22:39  1077168159  0.001533  0.001239  0.001197  0.002124\n",
       "\n",
       "[984 rows x 5 columns]"
      ]
     },
     "execution_count": 49,
     "metadata": {},
     "output_type": "execute_result"
    }
   ],
   "source": [
    "df1 = df.groupby([\"timestamp\"])[['b1_ch1', 'b2_ch2', 'b3_ch3', 'b4_ch4']].apply(rms).reset_index()\n",
    "df1.index = pd.to_datetime(df1.timestamp,unit='s')\n",
    "df1"
   ]
  },
  {
   "cell_type": "code",
   "execution_count": 52,
   "id": "e858a799-c183-43b1-823f-195ffbdc7a02",
   "metadata": {},
   "outputs": [
    {
     "data": {
      "text/plain": [
       "['Solarize_Light2',\n",
       " '_classic_test_patch',\n",
       " 'bmh',\n",
       " 'classic',\n",
       " 'dark_background',\n",
       " 'fast',\n",
       " 'fivethirtyeight',\n",
       " 'ggplot',\n",
       " 'grayscale',\n",
       " 'seaborn',\n",
       " 'seaborn-bright',\n",
       " 'seaborn-colorblind',\n",
       " 'seaborn-dark',\n",
       " 'seaborn-dark-palette',\n",
       " 'seaborn-darkgrid',\n",
       " 'seaborn-deep',\n",
       " 'seaborn-muted',\n",
       " 'seaborn-notebook',\n",
       " 'seaborn-paper',\n",
       " 'seaborn-pastel',\n",
       " 'seaborn-poster',\n",
       " 'seaborn-talk',\n",
       " 'seaborn-ticks',\n",
       " 'seaborn-white',\n",
       " 'seaborn-whitegrid',\n",
       " 'tableau-colorblind10',\n",
       " 'traffic']"
      ]
     },
     "execution_count": 52,
     "metadata": {},
     "output_type": "execute_result"
    }
   ],
   "source": [
    "plt.style.available"
   ]
  },
  {
   "cell_type": "markdown",
   "id": "e3e4f7c1-6b98-4764-8403-e86d55de461e",
   "metadata": {},
   "source": [
    "# Plotting the values of the vibration snapshots\n",
    "The next figure shows the variation of the vibration snapshots during the experiment.  \n",
    "It has also been added the two values in which supposedly there are failures in the inner and outer ring of the bearings."
   ]
  },
  {
   "cell_type": "code",
   "execution_count": 58,
   "id": "600326f9-0ec2-4fc7-9356-440a863144ec",
   "metadata": {},
   "outputs": [
    {
     "data": {
      "application/vnd.jupyter.widget-view+json": {
       "model_id": "50f34560272146329af2659610eb4832",
       "version_major": 2,
       "version_minor": 0
      },
      "text/plain": [
       "Canvas(toolbar=Toolbar(toolitems=[('Home', 'Reset original view', 'home', 'home'), ('Back', 'Back to previous …"
      ]
     },
     "metadata": {},
     "output_type": "display_data"
    }
   ],
   "source": [
    "%matplotlib widget\n",
    "with plt.style.context('seaborn-paper'):\n",
    "    myFmt = mdates.DateFormatter('%d')\n",
    "    fig,ax = plt.subplots()\n",
    "    ax.plot(df1.b1_ch1,label = \"Bearing 1\")\n",
    "    ax.plot(df1.b2_ch2,label = \"Bearing 2\")\n",
    "    ax.plot(df1.b3_ch3,label = \"Bearing 3\")\n",
    "    ax.plot(df1.b4_ch4,label = \"Bearing 4\")\n",
    "    ax.axhline(y = 0.1617, color='#e72d41', linestyle='dotted',label = \"Inner Ring Defect\")\n",
    "    ax.axhline(y = 0.1217, color = \"black\", linestyle ='dotted', label = \"Outer Ring Defect\")\n",
    "    ax.set_xlabel (\"Days\")\n",
    "    ax.legend()\n",
    "    ax.xaxis.set_major_formatter(myFmt)\n",
    "    ax.grid()\n",
    "    ax.set_title(\"RMS of the bearing vibration snapshots\")\n",
    "    save_fig(\"rms_dataset2.png\")"
   ]
  },
  {
   "cell_type": "code",
   "execution_count": 59,
   "id": "f21d3de9-aeef-4cf3-acbd-60b12da0979a",
   "metadata": {},
   "outputs": [],
   "source": [
    "df1 = df.abs()\n",
    "df1 = df1.groupby(\"timestamp\").mean().reset_index()\n",
    "df1.index = df1.index = pd.to_datetime(df1.timestamp,unit='s')"
   ]
  },
  {
   "cell_type": "code",
   "execution_count": 61,
   "id": "d9e48c78-53ac-466a-b5cd-ec46f75a4f4b",
   "metadata": {},
   "outputs": [
    {
     "data": {
      "application/vnd.jupyter.widget-view+json": {
       "model_id": "291af062a24742cab1dcf63290d21c38",
       "version_major": 2,
       "version_minor": 0
      },
      "text/plain": [
       "Canvas(toolbar=Toolbar(toolitems=[('Home', 'Reset original view', 'home', 'home'), ('Back', 'Back to previous …"
      ]
     },
     "metadata": {},
     "output_type": "display_data"
    }
   ],
   "source": [
    "%matplotlib widget\n",
    "with plt.style.context('seaborn-paper'):\n",
    "    myFmt = mdates.DateFormatter('%d')\n",
    "    fig,ax = plt.subplots()\n",
    "    ax.plot(df1.b1_ch1,label = \"Bearing 1\")\n",
    "    ax.plot(df1.b2_ch2,label = \"Bearing 2\")\n",
    "    ax.plot(df1.b3_ch3,label = \"Bearing 3\")\n",
    "    ax.plot(df1.b4_ch4,label = \"Bearing 4\")\n",
    "    #ax.axhline(y = 0.1617, color='#e72d41', linestyle='dotted',label = \"Inner Ring Defect\")\n",
    "    #ax.axhline(y = 0.1217, color = \"black\", linestyle ='dotted', label = \"Outer Ring Defect\")\n",
    "    ax.set_xlabel (\"Days\")\n",
    "    ax.legend()\n",
    "    ax.xaxis.set_major_formatter(myFmt)\n",
    "    ax.grid()\n",
    "    save_fig(\"absmean_dataset2.png\")"
   ]
  },
  {
   "cell_type": "code",
   "execution_count": 70,
   "id": "7f4b7bc8-1988-4308-863f-fa44a7a1cb41",
   "metadata": {},
   "outputs": [],
   "source": [
    "df2 = df.abs()\n",
    "df2 = df2.groupby(\"timestamp\")[['b1_ch1', 'b2_ch2', 'b3_ch3', 'b4_ch4']].apply(pd.DataFrame.kurt).reset_index()\n",
    "df2.index= pd.to_datetime(df2.timestamp,unit='s')"
   ]
  },
  {
   "cell_type": "code",
   "execution_count": 64,
   "id": "f5345c34-f0a7-43d0-ac7e-7efa603f2123",
   "metadata": {},
   "outputs": [
    {
     "data": {
      "text/html": [
       "<div>\n",
       "<style scoped>\n",
       "    .dataframe tbody tr th:only-of-type {\n",
       "        vertical-align: middle;\n",
       "    }\n",
       "\n",
       "    .dataframe tbody tr th {\n",
       "        vertical-align: top;\n",
       "    }\n",
       "\n",
       "    .dataframe thead th {\n",
       "        text-align: right;\n",
       "    }\n",
       "</style>\n",
       "<table border=\"1\" class=\"dataframe\">\n",
       "  <thead>\n",
       "    <tr style=\"text-align: right;\">\n",
       "      <th></th>\n",
       "      <th>timestamp</th>\n",
       "      <th>b1_ch1</th>\n",
       "      <th>b2_ch2</th>\n",
       "      <th>b3_ch3</th>\n",
       "      <th>b4_ch4</th>\n",
       "    </tr>\n",
       "  </thead>\n",
       "  <tbody>\n",
       "    <tr>\n",
       "      <th>0</th>\n",
       "      <td>1076578359</td>\n",
       "      <td>2.534560</td>\n",
       "      <td>2.177612</td>\n",
       "      <td>10.669788</td>\n",
       "      <td>1.129060</td>\n",
       "    </tr>\n",
       "    <tr>\n",
       "      <th>1</th>\n",
       "      <td>1076578959</td>\n",
       "      <td>2.541026</td>\n",
       "      <td>1.576622</td>\n",
       "      <td>4.758304</td>\n",
       "      <td>1.128706</td>\n",
       "    </tr>\n",
       "    <tr>\n",
       "      <th>2</th>\n",
       "      <td>1076579559</td>\n",
       "      <td>2.631519</td>\n",
       "      <td>1.802580</td>\n",
       "      <td>9.461296</td>\n",
       "      <td>1.603654</td>\n",
       "    </tr>\n",
       "    <tr>\n",
       "      <th>3</th>\n",
       "      <td>1076580159</td>\n",
       "      <td>4.803052</td>\n",
       "      <td>1.674323</td>\n",
       "      <td>9.625981</td>\n",
       "      <td>4.852496</td>\n",
       "    </tr>\n",
       "    <tr>\n",
       "      <th>4</th>\n",
       "      <td>1076580759</td>\n",
       "      <td>2.423748</td>\n",
       "      <td>1.490312</td>\n",
       "      <td>5.664555</td>\n",
       "      <td>1.219689</td>\n",
       "    </tr>\n",
       "    <tr>\n",
       "      <th>...</th>\n",
       "      <td>...</td>\n",
       "      <td>...</td>\n",
       "      <td>...</td>\n",
       "      <td>...</td>\n",
       "      <td>...</td>\n",
       "    </tr>\n",
       "    <tr>\n",
       "      <th>979</th>\n",
       "      <td>1077165759</td>\n",
       "      <td>21.779444</td>\n",
       "      <td>5.803086</td>\n",
       "      <td>0.915051</td>\n",
       "      <td>0.716438</td>\n",
       "    </tr>\n",
       "    <tr>\n",
       "      <th>980</th>\n",
       "      <td>1077166359</td>\n",
       "      <td>9.534579</td>\n",
       "      <td>3.090729</td>\n",
       "      <td>0.409470</td>\n",
       "      <td>1.451574</td>\n",
       "    </tr>\n",
       "    <tr>\n",
       "      <th>981</th>\n",
       "      <td>1077166959</td>\n",
       "      <td>12.881411</td>\n",
       "      <td>1.495030</td>\n",
       "      <td>0.792229</td>\n",
       "      <td>2.052543</td>\n",
       "    </tr>\n",
       "    <tr>\n",
       "      <th>982</th>\n",
       "      <td>1077167559</td>\n",
       "      <td>3.638693</td>\n",
       "      <td>-1.871203</td>\n",
       "      <td>-1.935598</td>\n",
       "      <td>1.651970</td>\n",
       "    </tr>\n",
       "    <tr>\n",
       "      <th>983</th>\n",
       "      <td>1077168159</td>\n",
       "      <td>-1.725339</td>\n",
       "      <td>-1.770908</td>\n",
       "      <td>-1.632710</td>\n",
       "      <td>1.163463</td>\n",
       "    </tr>\n",
       "  </tbody>\n",
       "</table>\n",
       "<p>984 rows × 5 columns</p>\n",
       "</div>"
      ],
      "text/plain": [
       "      timestamp     b1_ch1    b2_ch2     b3_ch3    b4_ch4\n",
       "0    1076578359   2.534560  2.177612  10.669788  1.129060\n",
       "1    1076578959   2.541026  1.576622   4.758304  1.128706\n",
       "2    1076579559   2.631519  1.802580   9.461296  1.603654\n",
       "3    1076580159   4.803052  1.674323   9.625981  4.852496\n",
       "4    1076580759   2.423748  1.490312   5.664555  1.219689\n",
       "..          ...        ...       ...        ...       ...\n",
       "979  1077165759  21.779444  5.803086   0.915051  0.716438\n",
       "980  1077166359   9.534579  3.090729   0.409470  1.451574\n",
       "981  1077166959  12.881411  1.495030   0.792229  2.052543\n",
       "982  1077167559   3.638693 -1.871203  -1.935598  1.651970\n",
       "983  1077168159  -1.725339 -1.770908  -1.632710  1.163463\n",
       "\n",
       "[984 rows x 5 columns]"
      ]
     },
     "execution_count": 64,
     "metadata": {},
     "output_type": "execute_result"
    }
   ],
   "source": [
    "df2"
   ]
  },
  {
   "cell_type": "code",
   "execution_count": 82,
   "id": "f1101346-7db3-48cf-9a02-749086857a6b",
   "metadata": {},
   "outputs": [
    {
     "data": {
      "application/vnd.jupyter.widget-view+json": {
       "model_id": "db6a0f83d72e4845a913c1c1c2ef898d",
       "version_major": 2,
       "version_minor": 0
      },
      "text/plain": [
       "Canvas(toolbar=Toolbar(toolitems=[('Home', 'Reset original view', 'home', 'home'), ('Back', 'Back to previous …"
      ]
     },
     "metadata": {},
     "output_type": "display_data"
    }
   ],
   "source": [
    "%matplotlib widget\n",
    "with plt.style.context('seaborn-paper'):\n",
    "    myFmt = mdates.DateFormatter('%d')\n",
    "    fig,ax = plt.subplots(2,2)\n",
    "    ax[0,0].plot(df2.b1_ch1,label = \"Bearing 1\")\n",
    "    ax[0,1].plot(df2.b2_ch2,label = \"Bearing 2\")\n",
    "    ax[1,0].plot(df2.b3_ch3,label = \"Bearing 3\")\n",
    "    ax[1,1].plot(df2.b4_ch4,label = \"Bearing 4\")\n",
    "    #ax.axhline(y = 0.1617, color='#e72d41', linestyle='dotted',label = \"Inner Ring Defect\")\n",
    "    #ax.axhline(y = 0.1217, color = \"black\", linestyle ='dotted', label = \"Outer Ring Defect\")\n",
    "    ax[0,0].set_xlabel (\"Days\")\n",
    "    #ax.legend()\n",
    "    ax[0,0].xaxis.set_major_formatter(myFmt)\n",
    "    #ax.grid()"
   ]
  },
  {
   "cell_type": "code",
   "execution_count": null,
   "id": "ba4d1792-3d72-4637-b5c8-db0dcb5682b1",
   "metadata": {},
   "outputs": [],
   "source": []
  },
  {
   "cell_type": "code",
   "execution_count": null,
   "id": "ee35f4dc-f099-4bfa-9007-1149e3956db2",
   "metadata": {},
   "outputs": [],
   "source": []
  }
 ],
 "metadata": {
  "kernelspec": {
   "display_name": "Python 3 (ipykernel)",
   "language": "python",
   "name": "python3"
  },
  "language_info": {
   "codemirror_mode": {
    "name": "ipython",
    "version": 3
   },
   "file_extension": ".py",
   "mimetype": "text/x-python",
   "name": "python",
   "nbconvert_exporter": "python",
   "pygments_lexer": "ipython3",
   "version": "3.9.7"
  }
 },
 "nbformat": 4,
 "nbformat_minor": 5
}
